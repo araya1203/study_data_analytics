{
 "cells": [
  {
   "cell_type": "markdown",
   "id": "972e0257-b49d-46f9-a2ff-6835dd08befa",
   "metadata": {
    "tags": []
   },
   "source": [
    "### quest\n",
    "- 분석 스토리 작성(목표변수:생존여부)\n",
    "- dataset : TitanicFromDisaster_train.csv\n",
    "- DDA, EDA 진행\n",
    "- 설명변수는 연속형, 범주형 섞어 7개 이상"
   ]
  },
  {
   "cell_type": "code",
   "execution_count": 82,
   "id": "3e7a32ae-bbea-428d-8470-8e2f4a04273b",
   "metadata": {
    "tags": []
   },
   "outputs": [
    {
     "data": {
      "text/html": [
       "<div>\n",
       "<style scoped>\n",
       "    .dataframe tbody tr th:only-of-type {\n",
       "        vertical-align: middle;\n",
       "    }\n",
       "\n",
       "    .dataframe tbody tr th {\n",
       "        vertical-align: top;\n",
       "    }\n",
       "\n",
       "    .dataframe thead th {\n",
       "        text-align: right;\n",
       "    }\n",
       "</style>\n",
       "<table border=\"1\" class=\"dataframe\">\n",
       "  <thead>\n",
       "    <tr style=\"text-align: right;\">\n",
       "      <th></th>\n",
       "      <th>PassengerId</th>\n",
       "      <th>Survived</th>\n",
       "      <th>Pclass</th>\n",
       "      <th>Name</th>\n",
       "      <th>Sex</th>\n",
       "      <th>Age</th>\n",
       "      <th>SibSp</th>\n",
       "      <th>Parch</th>\n",
       "      <th>Ticket</th>\n",
       "      <th>Fare</th>\n",
       "      <th>Cabin</th>\n",
       "      <th>Embarked</th>\n",
       "    </tr>\n",
       "  </thead>\n",
       "  <tbody>\n",
       "    <tr>\n",
       "      <th>0</th>\n",
       "      <td>1</td>\n",
       "      <td>0</td>\n",
       "      <td>3</td>\n",
       "      <td>Braund, Mr. Owen Harris</td>\n",
       "      <td>male</td>\n",
       "      <td>22.0</td>\n",
       "      <td>1</td>\n",
       "      <td>0</td>\n",
       "      <td>A/5 21171</td>\n",
       "      <td>7.2500</td>\n",
       "      <td>NaN</td>\n",
       "      <td>S</td>\n",
       "    </tr>\n",
       "    <tr>\n",
       "      <th>1</th>\n",
       "      <td>2</td>\n",
       "      <td>1</td>\n",
       "      <td>1</td>\n",
       "      <td>Cumings, Mrs. John Bradley (Florence Briggs Th...</td>\n",
       "      <td>female</td>\n",
       "      <td>38.0</td>\n",
       "      <td>1</td>\n",
       "      <td>0</td>\n",
       "      <td>PC 17599</td>\n",
       "      <td>71.2833</td>\n",
       "      <td>C85</td>\n",
       "      <td>C</td>\n",
       "    </tr>\n",
       "    <tr>\n",
       "      <th>2</th>\n",
       "      <td>3</td>\n",
       "      <td>1</td>\n",
       "      <td>3</td>\n",
       "      <td>Heikkinen, Miss. Laina</td>\n",
       "      <td>female</td>\n",
       "      <td>26.0</td>\n",
       "      <td>0</td>\n",
       "      <td>0</td>\n",
       "      <td>STON/O2. 3101282</td>\n",
       "      <td>7.9250</td>\n",
       "      <td>NaN</td>\n",
       "      <td>S</td>\n",
       "    </tr>\n",
       "    <tr>\n",
       "      <th>3</th>\n",
       "      <td>4</td>\n",
       "      <td>1</td>\n",
       "      <td>1</td>\n",
       "      <td>Futrelle, Mrs. Jacques Heath (Lily May Peel)</td>\n",
       "      <td>female</td>\n",
       "      <td>35.0</td>\n",
       "      <td>1</td>\n",
       "      <td>0</td>\n",
       "      <td>113803</td>\n",
       "      <td>53.1000</td>\n",
       "      <td>C123</td>\n",
       "      <td>S</td>\n",
       "    </tr>\n",
       "    <tr>\n",
       "      <th>4</th>\n",
       "      <td>5</td>\n",
       "      <td>0</td>\n",
       "      <td>3</td>\n",
       "      <td>Allen, Mr. William Henry</td>\n",
       "      <td>male</td>\n",
       "      <td>35.0</td>\n",
       "      <td>0</td>\n",
       "      <td>0</td>\n",
       "      <td>373450</td>\n",
       "      <td>8.0500</td>\n",
       "      <td>NaN</td>\n",
       "      <td>S</td>\n",
       "    </tr>\n",
       "    <tr>\n",
       "      <th>...</th>\n",
       "      <td>...</td>\n",
       "      <td>...</td>\n",
       "      <td>...</td>\n",
       "      <td>...</td>\n",
       "      <td>...</td>\n",
       "      <td>...</td>\n",
       "      <td>...</td>\n",
       "      <td>...</td>\n",
       "      <td>...</td>\n",
       "      <td>...</td>\n",
       "      <td>...</td>\n",
       "      <td>...</td>\n",
       "    </tr>\n",
       "    <tr>\n",
       "      <th>886</th>\n",
       "      <td>887</td>\n",
       "      <td>0</td>\n",
       "      <td>2</td>\n",
       "      <td>Montvila, Rev. Juozas</td>\n",
       "      <td>male</td>\n",
       "      <td>27.0</td>\n",
       "      <td>0</td>\n",
       "      <td>0</td>\n",
       "      <td>211536</td>\n",
       "      <td>13.0000</td>\n",
       "      <td>NaN</td>\n",
       "      <td>S</td>\n",
       "    </tr>\n",
       "    <tr>\n",
       "      <th>887</th>\n",
       "      <td>888</td>\n",
       "      <td>1</td>\n",
       "      <td>1</td>\n",
       "      <td>Graham, Miss. Margaret Edith</td>\n",
       "      <td>female</td>\n",
       "      <td>19.0</td>\n",
       "      <td>0</td>\n",
       "      <td>0</td>\n",
       "      <td>112053</td>\n",
       "      <td>30.0000</td>\n",
       "      <td>B42</td>\n",
       "      <td>S</td>\n",
       "    </tr>\n",
       "    <tr>\n",
       "      <th>888</th>\n",
       "      <td>889</td>\n",
       "      <td>0</td>\n",
       "      <td>3</td>\n",
       "      <td>Johnston, Miss. Catherine Helen \"Carrie\"</td>\n",
       "      <td>female</td>\n",
       "      <td>NaN</td>\n",
       "      <td>1</td>\n",
       "      <td>2</td>\n",
       "      <td>W./C. 6607</td>\n",
       "      <td>23.4500</td>\n",
       "      <td>NaN</td>\n",
       "      <td>S</td>\n",
       "    </tr>\n",
       "    <tr>\n",
       "      <th>889</th>\n",
       "      <td>890</td>\n",
       "      <td>1</td>\n",
       "      <td>1</td>\n",
       "      <td>Behr, Mr. Karl Howell</td>\n",
       "      <td>male</td>\n",
       "      <td>26.0</td>\n",
       "      <td>0</td>\n",
       "      <td>0</td>\n",
       "      <td>111369</td>\n",
       "      <td>30.0000</td>\n",
       "      <td>C148</td>\n",
       "      <td>C</td>\n",
       "    </tr>\n",
       "    <tr>\n",
       "      <th>890</th>\n",
       "      <td>891</td>\n",
       "      <td>0</td>\n",
       "      <td>3</td>\n",
       "      <td>Dooley, Mr. Patrick</td>\n",
       "      <td>male</td>\n",
       "      <td>32.0</td>\n",
       "      <td>0</td>\n",
       "      <td>0</td>\n",
       "      <td>370376</td>\n",
       "      <td>7.7500</td>\n",
       "      <td>NaN</td>\n",
       "      <td>Q</td>\n",
       "    </tr>\n",
       "  </tbody>\n",
       "</table>\n",
       "<p>891 rows × 12 columns</p>\n",
       "</div>"
      ],
      "text/plain": [
       "     PassengerId  Survived  Pclass  \\\n",
       "0              1         0       3   \n",
       "1              2         1       1   \n",
       "2              3         1       3   \n",
       "3              4         1       1   \n",
       "4              5         0       3   \n",
       "..           ...       ...     ...   \n",
       "886          887         0       2   \n",
       "887          888         1       1   \n",
       "888          889         0       3   \n",
       "889          890         1       1   \n",
       "890          891         0       3   \n",
       "\n",
       "                                                  Name     Sex   Age  SibSp  \\\n",
       "0                              Braund, Mr. Owen Harris    male  22.0      1   \n",
       "1    Cumings, Mrs. John Bradley (Florence Briggs Th...  female  38.0      1   \n",
       "2                               Heikkinen, Miss. Laina  female  26.0      0   \n",
       "3         Futrelle, Mrs. Jacques Heath (Lily May Peel)  female  35.0      1   \n",
       "4                             Allen, Mr. William Henry    male  35.0      0   \n",
       "..                                                 ...     ...   ...    ...   \n",
       "886                              Montvila, Rev. Juozas    male  27.0      0   \n",
       "887                       Graham, Miss. Margaret Edith  female  19.0      0   \n",
       "888           Johnston, Miss. Catherine Helen \"Carrie\"  female   NaN      1   \n",
       "889                              Behr, Mr. Karl Howell    male  26.0      0   \n",
       "890                                Dooley, Mr. Patrick    male  32.0      0   \n",
       "\n",
       "     Parch            Ticket     Fare Cabin Embarked  \n",
       "0        0         A/5 21171   7.2500   NaN        S  \n",
       "1        0          PC 17599  71.2833   C85        C  \n",
       "2        0  STON/O2. 3101282   7.9250   NaN        S  \n",
       "3        0            113803  53.1000  C123        S  \n",
       "4        0            373450   8.0500   NaN        S  \n",
       "..     ...               ...      ...   ...      ...  \n",
       "886      0            211536  13.0000   NaN        S  \n",
       "887      0            112053  30.0000   B42        S  \n",
       "888      2        W./C. 6607  23.4500   NaN        S  \n",
       "889      0            111369  30.0000  C148        C  \n",
       "890      0            370376   7.7500   NaN        Q  \n",
       "\n",
       "[891 rows x 12 columns]"
      ]
     },
     "execution_count": 82,
     "metadata": {},
     "output_type": "execute_result"
    }
   ],
   "source": [
    "import pandas as pd\n",
    "import seaborn as sns\n",
    "import matplotlib.pyplot as plt\n",
    "import matplotlib as mpl\n",
    "mpl.rc('font',family='Malgun Gothic')\n",
    "\n",
    "df_TT = pd.read_csv('../../datasets/TitanicFromDisaster_train.csv')\n",
    "df_TT"
   ]
  },
  {
   "cell_type": "code",
   "execution_count": 83,
   "id": "ef3b09b4-24a4-4f18-b6b7-ce4b8ee9c3f1",
   "metadata": {
    "tags": []
   },
   "outputs": [
    {
     "name": "stdout",
     "output_type": "stream",
     "text": [
      "<class 'pandas.core.frame.DataFrame'>\n",
      "RangeIndex: 891 entries, 0 to 890\n",
      "Data columns (total 12 columns):\n",
      " #   Column       Non-Null Count  Dtype  \n",
      "---  ------       --------------  -----  \n",
      " 0   PassengerId  891 non-null    int64  \n",
      " 1   Survived     891 non-null    int64  \n",
      " 2   Pclass       891 non-null    int64  \n",
      " 3   Name         891 non-null    object \n",
      " 4   Sex          891 non-null    object \n",
      " 5   Age          714 non-null    float64\n",
      " 6   SibSp        891 non-null    int64  \n",
      " 7   Parch        891 non-null    int64  \n",
      " 8   Ticket       891 non-null    object \n",
      " 9   Fare         891 non-null    float64\n",
      " 10  Cabin        204 non-null    object \n",
      " 11  Embarked     889 non-null    object \n",
      "dtypes: float64(2), int64(5), object(5)\n",
      "memory usage: 83.7+ KB\n"
     ]
    }
   ],
   "source": [
    "df_TT.info()"
   ]
  },
  {
   "cell_type": "code",
   "execution_count": 84,
   "id": "f6445cad-8abf-4e69-a600-6f2fd73425d8",
   "metadata": {
    "tags": []
   },
   "outputs": [
    {
     "data": {
      "text/html": [
       "<div>\n",
       "<style scoped>\n",
       "    .dataframe tbody tr th:only-of-type {\n",
       "        vertical-align: middle;\n",
       "    }\n",
       "\n",
       "    .dataframe tbody tr th {\n",
       "        vertical-align: top;\n",
       "    }\n",
       "\n",
       "    .dataframe thead th {\n",
       "        text-align: right;\n",
       "    }\n",
       "</style>\n",
       "<table border=\"1\" class=\"dataframe\">\n",
       "  <thead>\n",
       "    <tr style=\"text-align: right;\">\n",
       "      <th></th>\n",
       "      <th>Pclass</th>\n",
       "      <th>Sex</th>\n",
       "      <th>SibSp</th>\n",
       "      <th>Parch</th>\n",
       "      <th>Fare</th>\n",
       "      <th>Cabin</th>\n",
       "      <th>Embarked</th>\n",
       "      <th>Survived</th>\n",
       "    </tr>\n",
       "  </thead>\n",
       "  <tbody>\n",
       "    <tr>\n",
       "      <th>0</th>\n",
       "      <td>3</td>\n",
       "      <td>male</td>\n",
       "      <td>1</td>\n",
       "      <td>0</td>\n",
       "      <td>7.2500</td>\n",
       "      <td>NaN</td>\n",
       "      <td>S</td>\n",
       "      <td>0</td>\n",
       "    </tr>\n",
       "    <tr>\n",
       "      <th>1</th>\n",
       "      <td>1</td>\n",
       "      <td>female</td>\n",
       "      <td>1</td>\n",
       "      <td>0</td>\n",
       "      <td>71.2833</td>\n",
       "      <td>C85</td>\n",
       "      <td>C</td>\n",
       "      <td>1</td>\n",
       "    </tr>\n",
       "    <tr>\n",
       "      <th>2</th>\n",
       "      <td>3</td>\n",
       "      <td>female</td>\n",
       "      <td>0</td>\n",
       "      <td>0</td>\n",
       "      <td>7.9250</td>\n",
       "      <td>NaN</td>\n",
       "      <td>S</td>\n",
       "      <td>1</td>\n",
       "    </tr>\n",
       "  </tbody>\n",
       "</table>\n",
       "</div>"
      ],
      "text/plain": [
       "   Pclass     Sex  SibSp  Parch     Fare Cabin Embarked  Survived\n",
       "0       3    male      1      0   7.2500   NaN        S         0\n",
       "1       1  female      1      0  71.2833   C85        C         1\n",
       "2       3  female      0      0   7.9250   NaN        S         1"
      ]
     },
     "execution_count": 84,
     "metadata": {},
     "output_type": "execute_result"
    }
   ],
   "source": [
    "# 열 단위 추출 \n",
    "df_TT_T = df_TT[['Pclass','Sex','SibSp','Parch', 'Fare', 'Cabin','Embarked','Survived']]\n",
    "df_TT_T.head(3)"
   ]
  },
  {
   "cell_type": "code",
   "execution_count": 85,
   "id": "342e1015-4845-457e-9eb2-bc4748a63e7e",
   "metadata": {
    "tags": []
   },
   "outputs": [
    {
     "name": "stdout",
     "output_type": "stream",
     "text": [
      "<class 'pandas.core.frame.DataFrame'>\n",
      "RangeIndex: 891 entries, 0 to 890\n",
      "Data columns (total 8 columns):\n",
      " #   Column    Non-Null Count  Dtype  \n",
      "---  ------    --------------  -----  \n",
      " 0   Pclass    891 non-null    int64  \n",
      " 1   Sex       891 non-null    object \n",
      " 2   SibSp     891 non-null    int64  \n",
      " 3   Parch     891 non-null    int64  \n",
      " 4   Fare      891 non-null    float64\n",
      " 5   Cabin     204 non-null    object \n",
      " 6   Embarked  889 non-null    object \n",
      " 7   Survived  891 non-null    int64  \n",
      "dtypes: float64(1), int64(4), object(3)\n",
      "memory usage: 55.8+ KB\n"
     ]
    }
   ],
   "source": [
    "df_TT_T.info()"
   ]
  },
  {
   "cell_type": "code",
   "execution_count": 103,
   "id": "c87a019c-96d3-478b-852f-cf112dbff89c",
   "metadata": {
    "tags": []
   },
   "outputs": [
    {
     "data": {
      "text/plain": [
       "<Axes: xlabel='Fare'>"
      ]
     },
     "execution_count": 103,
     "metadata": {},
     "output_type": "execute_result"
    },
    {
     "data": {
      "image/png": "[encoded data removed]",
      "text/plain": [
       "<Figure size 640x480 with 1 Axes>"
      ]
     },
     "metadata": {},
     "output_type": "display_data"
    }
   ],
   "source": [
    "sns.boxplot(df_TT_T, x='Fare')"
   ]
  },
  {
   "cell_type": "code",
   "execution_count": 95,
   "id": "21fec0c6-0711-4d68-99ed-c39907b5136b",
   "metadata": {
    "tags": []
   },
   "outputs": [
    {
     "data": {
      "text/plain": [
       "Pclass      0\n",
       "Sex         0\n",
       "SibSp       0\n",
       "Parch       0\n",
       "Fare        0\n",
       "Cabin       0\n",
       "Embarked    0\n",
       "Survived    0\n",
       "dtype: int64"
      ]
     },
     "execution_count": 95,
     "metadata": {},
     "output_type": "execute_result"
    }
   ],
   "source": [
    "## 전처리: 대상 컬럼 의한 레코드 삭제시 dataset 양 고려\n",
    "df_TT_T_dropna = df_TT_T.dropna()\n",
    "df_TT_T_dropna.isnull().sum() # 결측치 확인"
   ]
  },
  {
   "cell_type": "code",
   "execution_count": 96,
   "id": "408164ae-f9e1-4492-ac6f-556228203168",
   "metadata": {
    "tags": []
   },
   "outputs": [],
   "source": [
    "# 이상치 제거 \n",
    "# Q1 , Q3 구하기 \n",
    "Q1 = df_TT_T_dropna['Fare'].describe()['25%']\n",
    "Q3 = df_TT_T_dropna['Fare'].describe()['75%']\n",
    "IQR = Q3 -Q1"
   ]
  },
  {
   "cell_type": "code",
   "execution_count": 97,
   "id": "391c2361-b46c-4a05-be8f-34175907cc52",
   "metadata": {
    "tags": []
   },
   "outputs": [
    {
     "data": {
      "text/plain": [
       "(28.959374999999998, 89.77605, 60.816675000000004)"
      ]
     },
     "execution_count": 97,
     "metadata": {},
     "output_type": "execute_result"
    }
   ],
   "source": [
    "Q1, Q3, IQR"
   ]
  },
  {
   "cell_type": "code",
   "execution_count": 98,
   "id": "80d5742d-37dd-47db-856a-f057f3f13000",
   "metadata": {
    "tags": []
   },
   "outputs": [
    {
     "data": {
      "text/plain": [
       "(-62.26563750000001, 181.0010625)"
      ]
     },
     "execution_count": 98,
     "metadata": {},
     "output_type": "execute_result"
    }
   ],
   "source": [
    "bound_up = Q3 + 1.5 * IQR\n",
    "bound_low = Q1 - 1.5 * IQR\n",
    "bound_low, bound_up"
   ]
  },
  {
   "cell_type": "code",
   "execution_count": 99,
   "id": "ad0fe1df-93dc-4b06-963e-a127b4692105",
   "metadata": {
    "tags": []
   },
   "outputs": [
    {
     "data": {
      "text/plain": [
       "1      True\n",
       "3      True\n",
       "6      True\n",
       "10     True\n",
       "11     True\n",
       "       ... \n",
       "871    True\n",
       "872    True\n",
       "879    True\n",
       "887    True\n",
       "889    True\n",
       "Name: Fare, Length: 202, dtype: bool"
      ]
     },
     "execution_count": 99,
     "metadata": {},
     "output_type": "execute_result"
    }
   ],
   "source": [
    "#filler\n",
    "condition = (df_TT_T_dropna['Fare'] < bound_up ) & (df_TT_T_dropna['Fare'] > bound_low ) # 긍정 조건 변환\n",
    "condition"
   ]
  },
  {
   "cell_type": "code",
   "execution_count": 100,
   "id": "8ddd3d7d-ecdb-434b-beb4-e4df88911713",
   "metadata": {
    "tags": []
   },
   "outputs": [],
   "source": [
    "df_TT_T_dropna_condition = df_TT_T_dropna[condition]"
   ]
  },
  {
   "cell_type": "code",
   "execution_count": 104,
   "id": "a88b22ec-887d-4d0d-bc62-03641b65d351",
   "metadata": {
    "tags": []
   },
   "outputs": [
    {
     "data": {
      "text/plain": [
       "<Axes: xlabel='Fare'>"
      ]
     },
     "execution_count": 104,
     "metadata": {},
     "output_type": "execute_result"
    },
    {
     "data": {
      "image/png": "[encoded data removed]",
      "text/plain": [
       "<Figure size 640x480 with 1 Axes>"
      ]
     },
     "metadata": {},
     "output_type": "display_data"
    }
   ],
   "source": [
    "sns.boxplot(df_TT_T_dropna_condition, x='Fare')"
   ]
  },
  {
   "cell_type": "code",
   "execution_count": null,
   "id": "2689c239-3416-47d3-ba39-0e1fa79f8ba4",
   "metadata": {},
   "outputs": [],
   "source": []
  },
  {
   "cell_type": "markdown",
   "id": "ca567462-9257-435c-a9ac-98766542f06e",
   "metadata": {},
   "source": [
    "### 상관관계 확인\n",
    "- 목표변수 : 'Survived' \n",
    "- 설명변수 :\n",
    "  - 'Pclass', 승객의 객실 등급: 2등급의 생존이 상대적으로 높음\n",
    "  - 'Sex', 성별: female가 Survived 높은 것 같다. \n",
    "  - 'SibSp', 함께 탑승한 형제자매 또는 배우자의 수: 0명 보다 1-2명일 때 생존이 상대적으로 높음\n",
    "  - 'Parch', 함께 탑승한 부모나 자녀의 수: Parch가 많을수록 생존이 상대적으로 높음 \n",
    "  - 'Fare', 지불한 요금: fare 차이 따라 분포 변화 영향을 줌\n",
    "  - 'Cabin', 객실 번호: 차이에 여부 확인 필요(확증 데이터 분석),  \n",
    "  - 'Embarked' 탑승한 항구를 나타내는 열 :  C항구 생존이 상대적으로 높음\n",
    "\n",
    "\n",
    "- 분석 스토리 : 설명변수'Pclass'는 2등급일 때 'Sex'는 female일 때,'SibSp'는 형제자매 또는 배우자수가 있을때 ,'Parch'는 가족 구성원이 많을수록 ,'Fare'는 요금이 높을 수록'Embarked' 탑승 항구가 C항구일 때 목표변수 'Survived'와의 상관관계에서 생존여부가 높은 것을 확인할 수 있다. "
   ]
  },
  {
   "cell_type": "code",
   "execution_count": 75,
   "id": "712d712f-75c2-4301-af8b-b1439dbb7c66",
   "metadata": {
    "tags": []
   },
   "outputs": [
    {
     "data": {
      "text/plain": [
       "<Axes: xlabel='Survived', ylabel='count'>"
      ]
     },
     "execution_count": 75,
     "metadata": {},
     "output_type": "execute_result"
    },
    {
     "data": {
      "image/png": "[encoded data removed]",
      "text/plain": [
       "<Figure size 640x480 with 1 Axes>"
      ]
     },
     "metadata": {},
     "output_type": "display_data"
    }
   ],
   "source": [
    "### 데이터 타입과 분포\n",
    "## 목표 변수 : \n",
    "sns.countplot(data=df_TT_T_dropna_condition, x='Survived')"
   ]
  },
  {
   "cell_type": "code",
   "execution_count": 77,
   "id": "53d4513b-5d24-4e8a-93cc-d679bbd4dd47",
   "metadata": {
    "tags": []
   },
   "outputs": [
    {
     "name": "stdout",
     "output_type": "stream",
     "text": [
      "<class 'pandas.core.frame.DataFrame'>\n",
      "Int64Index: 185 entries, 1 to 889\n",
      "Data columns (total 8 columns):\n",
      " #   Column    Non-Null Count  Dtype  \n",
      "---  ------    --------------  -----  \n",
      " 0   Pclass    185 non-null    object \n",
      " 1   Sex       185 non-null    object \n",
      " 2   SibSp     185 non-null    object \n",
      " 3   Parch     185 non-null    object \n",
      " 4   Fare      185 non-null    float64\n",
      " 5   Cabin     185 non-null    object \n",
      " 6   Embarked  185 non-null    object \n",
      " 7   Survived  185 non-null    object \n",
      "dtypes: float64(1), object(7)\n",
      "memory usage: 13.0+ KB\n"
     ]
    },
    {
     "name": "stderr",
     "output_type": "stream",
     "text": [
      "C:\\Users\\04-02\\AppData\\Local\\Temp\\ipykernel_12596\\1925111353.py:2: SettingWithCopyWarning: \n",
      "A value is trying to be set on a copy of a slice from a DataFrame.\n",
      "Try using .loc[row_indexer,col_indexer] = value instead\n",
      "\n",
      "See the caveats in the documentation: https://pandas.pydata.org/pandas-docs/stable/user_guide/indexing.html#returning-a-view-versus-a-copy\n",
      "  df_TT_T_dropna_condition[['Pclass','SibSp','Parch','Survived']] = df_TT_T_dropna_condition[['Pclass','SibSp','Parch','Survived']].astype(object)\n"
     ]
    }
   ],
   "source": [
    "# object 변환 대상 : 범주형으로 볼 수 있는 것 \n",
    "df_TT_T_dropna_condition[['Pclass','SibSp','Parch','Survived']] = df_TT_T_dropna_condition[['Pclass','SibSp','Parch','Survived']].astype(object)\n",
    "df_TT_T_dropna_condition.info()"
   ]
  },
  {
   "cell_type": "code",
   "execution_count": 78,
   "id": "2ff19988-9c9c-4ed6-84c7-46cf7f7aa94f",
   "metadata": {
    "tags": []
   },
   "outputs": [
    {
     "data": {
      "text/plain": [
       "['Fare']"
      ]
     },
     "execution_count": 78,
     "metadata": {},
     "output_type": "execute_result"
    }
   ],
   "source": [
    "df_TT_T_dropna_condition_list = df_TT_T_dropna_condition.describe().columns.to_list()# 연속형\n",
    "df_TT_T_dropna_condition_list"
   ]
  },
  {
   "cell_type": "code",
   "execution_count": 79,
   "id": "6b3487df-2cb9-4435-83ee-1af6566b7d71",
   "metadata": {
    "tags": []
   },
   "outputs": [
    {
     "data": {
      "image/png": "[encoded data removed]",
      "text/plain": [
       "<Figure size 640x480 with 1 Axes>"
      ]
     },
     "metadata": {},
     "output_type": "display_data"
    }
   ],
   "source": [
    "## x:연속형 / y: 범주형\n",
    "for item in df_TT_T_dropna_condition_list :\n",
    "    sns.boxplot(data=df_TT_T_dropna_condition, x='Survived', y=item)\n",
    "    plt.show()"
   ]
  },
  {
   "cell_type": "code",
   "execution_count": 80,
   "id": "7be287b5-6bc6-483a-b5e5-8ff26d461e20",
   "metadata": {
    "tags": []
   },
   "outputs": [
    {
     "data": {
      "text/plain": [
       "['Pclass', 'Sex', 'SibSp', 'Parch', 'Cabin', 'Embarked']"
      ]
     },
     "execution_count": 80,
     "metadata": {},
     "output_type": "execute_result"
    }
   ],
   "source": [
    "df_TT_T_dropna_condition_object_list = df_TT_T_dropna_condition.describe(include=object).drop(columns=['Survived']).columns.to_list()\n",
    "df_TT_T_dropna_condition_object_list"
   ]
  },
  {
   "cell_type": "code",
   "execution_count": 81,
   "id": "cfb8c20e-7dc6-4dd3-8ee3-f7785d682d58",
   "metadata": {
    "tags": []
   },
   "outputs": [
    {
     "data": {
      "image/png": "[encoded data removed]",
      "text/plain": [
       "<Figure size 640x480 with 1 Axes>"
      ]
     },
     "metadata": {},
     "output_type": "display_data"
    },
    {
     "data": {
      "image/png": "[encoded data removed]",
      "text/plain": [
       "<Figure size 640x480 with 1 Axes>"
      ]
     },
     "metadata": {},
     "output_type": "display_data"
    },
    {
     "data": {
      "image/png": "[encoded data removed]",
      "text/plain": [
       "<Figure size 640x480 with 1 Axes>"
      ]
     },
     "metadata": {},
     "output_type": "display_data"
    },
    {
     "data": {
      "image/png": "[encoded data removed]",
      "text/plain": [
       "<Figure size 640x480 with 1 Axes>"
      ]
     },
     "metadata": {},
     "output_type": "display_data"
    },
    {
     "data": {
      "image/png": "[encoded data removed]",
      "text/plain": [
       "<Figure size 640x480 with 1 Axes>"
      ]
     },
     "metadata": {},
     "output_type": "display_data"
    },
    {
     "data": {
      "image/png": "[encoded data removed]",
      "text/plain": [
       "<Figure size 640x480 with 1 Axes>"
      ]
     },
     "metadata": {},
     "output_type": "display_data"
    }
   ],
   "source": [
    "for item in df_TT_T_dropna_condition_object_list :\n",
    "    sns.barplot(data=df_TT_T_dropna_condition, x=item, y='Survived')\n",
    "    plt.show()"
   ]
  },
  {
   "cell_type": "code",
   "execution_count": null,
   "id": "994b1a0a-003b-448a-aa23-00914533e976",
   "metadata": {},
   "outputs": [],
   "source": []
  }
 ],
 "metadata": {
  "kernelspec": {
   "display_name": "Python 3 (ipykernel)",
   "language": "python",
   "name": "python3"
  },
  "language_info": {
   "codemirror_mode": {
    "name": "ipython",
    "version": 3
   },
   "file_extension": ".py",
   "mimetype": "text/x-python",
   "name": "python",
   "nbconvert_exporter": "python",
   "pygments_lexer": "ipython3",
   "version": "3.11.3"
  }
 },
 "nbformat": 4,
 "nbformat_minor": 5
}
