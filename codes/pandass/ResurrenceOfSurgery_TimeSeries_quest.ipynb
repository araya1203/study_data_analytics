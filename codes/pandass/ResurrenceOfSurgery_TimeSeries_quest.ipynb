{
 "cells": [
  {
   "cell_type": "markdown",
   "id": "40cc7992-24f0-466a-bed4-c029144842dd",
   "metadata": {},
   "source": [
    "### quest\n",
    "- 주차별 환자 입원/퇴원 추이 시각화\n",
    "- 요일별 환자 입원/퇴원 추이 시각화\n",
    "- hint : df_DL['날짜_datetime'].dt.day_name()"
   ]
  },
  {
   "cell_type": "code",
   "execution_count": 1,
   "id": "58a02356-3207-4ad6-8067-00b9282a5c9f",
   "metadata": {
    "tags": []
   },
   "outputs": [
    {
     "data": {
      "text/html": [
       "<div>\n",
       "<style scoped>\n",
       "    .dataframe tbody tr th:only-of-type {\n",
       "        vertical-align: middle;\n",
       "    }\n",
       "\n",
       "    .dataframe tbody tr th {\n",
       "        vertical-align: top;\n",
       "    }\n",
       "\n",
       "    .dataframe thead th {\n",
       "        text-align: right;\n",
       "    }\n",
       "</style>\n",
       "<table border=\"1\" class=\"dataframe\">\n",
       "  <thead>\n",
       "    <tr style=\"text-align: right;\">\n",
       "      <th></th>\n",
       "      <th>Unnamed: 0</th>\n",
       "      <th>환자ID</th>\n",
       "      <th>Large Lymphocyte</th>\n",
       "      <th>Location of herniation</th>\n",
       "      <th>ODI</th>\n",
       "      <th>가족력</th>\n",
       "      <th>간질성폐질환</th>\n",
       "      <th>고혈압여부</th>\n",
       "      <th>과거수술횟수</th>\n",
       "      <th>당뇨여부</th>\n",
       "      <th>...</th>\n",
       "      <th>Modic change</th>\n",
       "      <th>PI</th>\n",
       "      <th>PT</th>\n",
       "      <th>Seg Angle(raw)</th>\n",
       "      <th>Vaccum disc</th>\n",
       "      <th>골밀도</th>\n",
       "      <th>디스크단면적</th>\n",
       "      <th>디스크위치</th>\n",
       "      <th>척추이동척도</th>\n",
       "      <th>척추전방위증</th>\n",
       "    </tr>\n",
       "  </thead>\n",
       "  <tbody>\n",
       "    <tr>\n",
       "      <th>0</th>\n",
       "      <td>0</td>\n",
       "      <td>1PT</td>\n",
       "      <td>22.8</td>\n",
       "      <td>3</td>\n",
       "      <td>51.0</td>\n",
       "      <td>0.0</td>\n",
       "      <td>0</td>\n",
       "      <td>0</td>\n",
       "      <td>0</td>\n",
       "      <td>0</td>\n",
       "      <td>...</td>\n",
       "      <td>3</td>\n",
       "      <td>51.6</td>\n",
       "      <td>36.6</td>\n",
       "      <td>14.4</td>\n",
       "      <td>0</td>\n",
       "      <td>-1.01</td>\n",
       "      <td>2048.50</td>\n",
       "      <td>4</td>\n",
       "      <td>Down</td>\n",
       "      <td>0</td>\n",
       "    </tr>\n",
       "    <tr>\n",
       "      <th>1</th>\n",
       "      <td>1</td>\n",
       "      <td>2PT</td>\n",
       "      <td>44.9</td>\n",
       "      <td>4</td>\n",
       "      <td>26.0</td>\n",
       "      <td>0.0</td>\n",
       "      <td>0</td>\n",
       "      <td>0</td>\n",
       "      <td>0</td>\n",
       "      <td>0</td>\n",
       "      <td>...</td>\n",
       "      <td>0</td>\n",
       "      <td>40.8</td>\n",
       "      <td>7.2</td>\n",
       "      <td>17.8</td>\n",
       "      <td>0</td>\n",
       "      <td>-1.14</td>\n",
       "      <td>1753.10</td>\n",
       "      <td>4</td>\n",
       "      <td>Up</td>\n",
       "      <td>0</td>\n",
       "    </tr>\n",
       "    <tr>\n",
       "      <th>2</th>\n",
       "      <td>2</td>\n",
       "      <td>3PT</td>\n",
       "      <td>53.0</td>\n",
       "      <td>3</td>\n",
       "      <td>NaN</td>\n",
       "      <td>0.0</td>\n",
       "      <td>0</td>\n",
       "      <td>0</td>\n",
       "      <td>1</td>\n",
       "      <td>0</td>\n",
       "      <td>...</td>\n",
       "      <td>0</td>\n",
       "      <td>67.5</td>\n",
       "      <td>27.3</td>\n",
       "      <td>10.2</td>\n",
       "      <td>0</td>\n",
       "      <td>-1.77</td>\n",
       "      <td>1749.00</td>\n",
       "      <td>4</td>\n",
       "      <td>Down</td>\n",
       "      <td>0</td>\n",
       "    </tr>\n",
       "    <tr>\n",
       "      <th>3</th>\n",
       "      <td>3</td>\n",
       "      <td>4PT</td>\n",
       "      <td>54.7</td>\n",
       "      <td>4</td>\n",
       "      <td>18.0</td>\n",
       "      <td>0.0</td>\n",
       "      <td>0</td>\n",
       "      <td>1</td>\n",
       "      <td>0</td>\n",
       "      <td>0</td>\n",
       "      <td>...</td>\n",
       "      <td>0</td>\n",
       "      <td>49.2</td>\n",
       "      <td>18.7</td>\n",
       "      <td>19.9</td>\n",
       "      <td>0</td>\n",
       "      <td>-1.58</td>\n",
       "      <td>1796.20</td>\n",
       "      <td>4</td>\n",
       "      <td>Down</td>\n",
       "      <td>0</td>\n",
       "    </tr>\n",
       "    <tr>\n",
       "      <th>4</th>\n",
       "      <td>4</td>\n",
       "      <td>5PT</td>\n",
       "      <td>53.8</td>\n",
       "      <td>4</td>\n",
       "      <td>NaN</td>\n",
       "      <td>0.0</td>\n",
       "      <td>0</td>\n",
       "      <td>1</td>\n",
       "      <td>0</td>\n",
       "      <td>0</td>\n",
       "      <td>...</td>\n",
       "      <td>0</td>\n",
       "      <td>58.8</td>\n",
       "      <td>14.7</td>\n",
       "      <td>5.2</td>\n",
       "      <td>0</td>\n",
       "      <td>-0.79</td>\n",
       "      <td>2021.48</td>\n",
       "      <td>4</td>\n",
       "      <td>Up</td>\n",
       "      <td>0</td>\n",
       "    </tr>\n",
       "    <tr>\n",
       "      <th>...</th>\n",
       "      <td>...</td>\n",
       "      <td>...</td>\n",
       "      <td>...</td>\n",
       "      <td>...</td>\n",
       "      <td>...</td>\n",
       "      <td>...</td>\n",
       "      <td>...</td>\n",
       "      <td>...</td>\n",
       "      <td>...</td>\n",
       "      <td>...</td>\n",
       "      <td>...</td>\n",
       "      <td>...</td>\n",
       "      <td>...</td>\n",
       "      <td>...</td>\n",
       "      <td>...</td>\n",
       "      <td>...</td>\n",
       "      <td>...</td>\n",
       "      <td>...</td>\n",
       "      <td>...</td>\n",
       "      <td>...</td>\n",
       "      <td>...</td>\n",
       "    </tr>\n",
       "    <tr>\n",
       "      <th>1889</th>\n",
       "      <td>1889</td>\n",
       "      <td>1890PT</td>\n",
       "      <td>44.0</td>\n",
       "      <td>1</td>\n",
       "      <td>NaN</td>\n",
       "      <td>0.0</td>\n",
       "      <td>0</td>\n",
       "      <td>0</td>\n",
       "      <td>0</td>\n",
       "      <td>0</td>\n",
       "      <td>...</td>\n",
       "      <td>2</td>\n",
       "      <td>59.5</td>\n",
       "      <td>23.0</td>\n",
       "      <td>21.8</td>\n",
       "      <td>0</td>\n",
       "      <td>NaN</td>\n",
       "      <td>2652.20</td>\n",
       "      <td>5</td>\n",
       "      <td>Middle</td>\n",
       "      <td>0</td>\n",
       "    </tr>\n",
       "    <tr>\n",
       "      <th>1890</th>\n",
       "      <td>1890</td>\n",
       "      <td>1891PT</td>\n",
       "      <td>30.8</td>\n",
       "      <td>2</td>\n",
       "      <td>NaN</td>\n",
       "      <td>0.0</td>\n",
       "      <td>0</td>\n",
       "      <td>0</td>\n",
       "      <td>0</td>\n",
       "      <td>0</td>\n",
       "      <td>...</td>\n",
       "      <td>0</td>\n",
       "      <td>47.7</td>\n",
       "      <td>20.2</td>\n",
       "      <td>5.0</td>\n",
       "      <td>0</td>\n",
       "      <td>NaN</td>\n",
       "      <td>1795.80</td>\n",
       "      <td>4</td>\n",
       "      <td>Down</td>\n",
       "      <td>0</td>\n",
       "    </tr>\n",
       "    <tr>\n",
       "      <th>1891</th>\n",
       "      <td>1891</td>\n",
       "      <td>1892PT</td>\n",
       "      <td>36.7</td>\n",
       "      <td>3</td>\n",
       "      <td>NaN</td>\n",
       "      <td>0.0</td>\n",
       "      <td>0</td>\n",
       "      <td>0</td>\n",
       "      <td>0</td>\n",
       "      <td>0</td>\n",
       "      <td>...</td>\n",
       "      <td>0</td>\n",
       "      <td>44.6</td>\n",
       "      <td>15.0</td>\n",
       "      <td>17.4</td>\n",
       "      <td>1</td>\n",
       "      <td>NaN</td>\n",
       "      <td>2624.40</td>\n",
       "      <td>4</td>\n",
       "      <td>Down</td>\n",
       "      <td>0</td>\n",
       "    </tr>\n",
       "    <tr>\n",
       "      <th>1892</th>\n",
       "      <td>1892</td>\n",
       "      <td>1893PT</td>\n",
       "      <td>32.5</td>\n",
       "      <td>2</td>\n",
       "      <td>NaN</td>\n",
       "      <td>0.0</td>\n",
       "      <td>0</td>\n",
       "      <td>0</td>\n",
       "      <td>0</td>\n",
       "      <td>0</td>\n",
       "      <td>...</td>\n",
       "      <td>2</td>\n",
       "      <td>32.2</td>\n",
       "      <td>11.1</td>\n",
       "      <td>17.7</td>\n",
       "      <td>0</td>\n",
       "      <td>NaN</td>\n",
       "      <td>1972.50</td>\n",
       "      <td>5</td>\n",
       "      <td>Down</td>\n",
       "      <td>0</td>\n",
       "    </tr>\n",
       "    <tr>\n",
       "      <th>1893</th>\n",
       "      <td>1893</td>\n",
       "      <td>1894PT</td>\n",
       "      <td>49.5</td>\n",
       "      <td>2</td>\n",
       "      <td>NaN</td>\n",
       "      <td>0.0</td>\n",
       "      <td>0</td>\n",
       "      <td>0</td>\n",
       "      <td>0</td>\n",
       "      <td>0</td>\n",
       "      <td>...</td>\n",
       "      <td>0</td>\n",
       "      <td>38.9</td>\n",
       "      <td>6.8</td>\n",
       "      <td>27.8</td>\n",
       "      <td>0</td>\n",
       "      <td>NaN</td>\n",
       "      <td>1574.40</td>\n",
       "      <td>5</td>\n",
       "      <td>Middle</td>\n",
       "      <td>0</td>\n",
       "    </tr>\n",
       "  </tbody>\n",
       "</table>\n",
       "<p>1894 rows × 52 columns</p>\n",
       "</div>"
      ],
      "text/plain": [
       "      Unnamed: 0    환자ID  Large Lymphocyte  Location of herniation   ODI  가족력  \\\n",
       "0              0     1PT              22.8                       3  51.0  0.0   \n",
       "1              1     2PT              44.9                       4  26.0  0.0   \n",
       "2              2     3PT              53.0                       3   NaN  0.0   \n",
       "3              3     4PT              54.7                       4  18.0  0.0   \n",
       "4              4     5PT              53.8                       4   NaN  0.0   \n",
       "...          ...     ...               ...                     ...   ...  ...   \n",
       "1889        1889  1890PT              44.0                       1   NaN  0.0   \n",
       "1890        1890  1891PT              30.8                       2   NaN  0.0   \n",
       "1891        1891  1892PT              36.7                       3   NaN  0.0   \n",
       "1892        1892  1893PT              32.5                       2   NaN  0.0   \n",
       "1893        1893  1894PT              49.5                       2   NaN  0.0   \n",
       "\n",
       "      간질성폐질환  고혈압여부  과거수술횟수  당뇨여부  ...  Modic change    PI    PT  \\\n",
       "0          0      0       0     0  ...             3  51.6  36.6   \n",
       "1          0      0       0     0  ...             0  40.8   7.2   \n",
       "2          0      0       1     0  ...             0  67.5  27.3   \n",
       "3          0      1       0     0  ...             0  49.2  18.7   \n",
       "4          0      1       0     0  ...             0  58.8  14.7   \n",
       "...      ...    ...     ...   ...  ...           ...   ...   ...   \n",
       "1889       0      0       0     0  ...             2  59.5  23.0   \n",
       "1890       0      0       0     0  ...             0  47.7  20.2   \n",
       "1891       0      0       0     0  ...             0  44.6  15.0   \n",
       "1892       0      0       0     0  ...             2  32.2  11.1   \n",
       "1893       0      0       0     0  ...             0  38.9   6.8   \n",
       "\n",
       "      Seg Angle(raw)  Vaccum disc   골밀도   디스크단면적  디스크위치  척추이동척도  척추전방위증  \n",
       "0               14.4            0 -1.01  2048.50      4    Down       0  \n",
       "1               17.8            0 -1.14  1753.10      4      Up       0  \n",
       "2               10.2            0 -1.77  1749.00      4    Down       0  \n",
       "3               19.9            0 -1.58  1796.20      4    Down       0  \n",
       "4                5.2            0 -0.79  2021.48      4      Up       0  \n",
       "...              ...          ...   ...      ...    ...     ...     ...  \n",
       "1889            21.8            0   NaN  2652.20      5  Middle       0  \n",
       "1890             5.0            0   NaN  1795.80      4    Down       0  \n",
       "1891            17.4            1   NaN  2624.40      4    Down       0  \n",
       "1892            17.7            0   NaN  1972.50      5    Down       0  \n",
       "1893            27.8            0   NaN  1574.40      5  Middle       0  \n",
       "\n",
       "[1894 rows x 52 columns]"
      ]
     },
     "execution_count": 1,
     "metadata": {},
     "output_type": "execute_result"
    }
   ],
   "source": [
    "import pandas as pd\n",
    "import matplotlib.pyplot as plt\n",
    "import matplotlib as mpl\n",
    "mpl.rc('font',family='Malgun Gothic')\n",
    "import seaborn as sns\n",
    "df_ROS = pd.read_csv('../../datasets/RecurrenceOfSurgery.csv')\n",
    "df_ROS"
   ]
  },
  {
   "cell_type": "code",
   "execution_count": 14,
   "id": "5e9c1f11-2372-47bf-a918-ed40601c5d92",
   "metadata": {
    "tags": []
   },
   "outputs": [
    {
     "name": "stdout",
     "output_type": "stream",
     "text": [
      "<class 'pandas.core.frame.DataFrame'>\n",
      "RangeIndex: 1894 entries, 0 to 1893\n",
      "Data columns (total 53 columns):\n",
      " #   Column                  Non-Null Count  Dtype         \n",
      "---  ------                  --------------  -----         \n",
      " 0   Unnamed: 0              1894 non-null   int64         \n",
      " 1   환자ID                    1894 non-null   object        \n",
      " 2   Large Lymphocyte        1894 non-null   float64       \n",
      " 3   Location of herniation  1894 non-null   int64         \n",
      " 4   ODI                     462 non-null    float64       \n",
      " 5   가족력                     1843 non-null   float64       \n",
      " 6   간질성폐질환                  1894 non-null   int64         \n",
      " 7   고혈압여부                   1894 non-null   int64         \n",
      " 8   과거수술횟수                  1894 non-null   int64         \n",
      " 9   당뇨여부                    1894 non-null   int64         \n",
      " 10  말초동맥질환여부                1894 non-null   int64         \n",
      " 11  빈혈여부                    1894 non-null   int64         \n",
      " 12  성별                      1894 non-null   int64         \n",
      " 13  스테로이드치료                 1894 non-null   int64         \n",
      " 14  신부전여부                   1894 non-null   int64         \n",
      " 15  신장                      1894 non-null   int64         \n",
      " 16  심혈관질환                   1894 non-null   int64         \n",
      " 17  암발병여부                   1894 non-null   int64         \n",
      " 18  연령                      1894 non-null   int64         \n",
      " 19  우울증여부                   1894 non-null   int64         \n",
      " 20  입원기간                    1894 non-null   int64         \n",
      " 21  입원일자                    1894 non-null   int64         \n",
      " 22  종양진행여부                  1894 non-null   int64         \n",
      " 23  직업                      1479 non-null   object        \n",
      " 24  체중                      1894 non-null   float64       \n",
      " 25  퇴원일자                    1894 non-null   int64         \n",
      " 26  헤모글로빈수치                 1893 non-null   float64       \n",
      " 27  혈전합병증여부                 1894 non-null   int64         \n",
      " 28  환자통증정도                  1894 non-null   int64         \n",
      " 29  흡연여부                    1894 non-null   int64         \n",
      " 30  통증기간(월)                 1890 non-null   float64       \n",
      " 31  수술기법                    1813 non-null   object        \n",
      " 32  수술시간                    1840 non-null   float64       \n",
      " 33  수술실패여부                  1894 non-null   int64         \n",
      " 34  수술일자                    1894 non-null   int64         \n",
      " 35  재발여부                    1894 non-null   int64         \n",
      " 36  혈액형                     1894 non-null   object        \n",
      " 37  전방디스크높이(mm)             1894 non-null   float64       \n",
      " 38  후방디스크높이(mm)             1894 non-null   float64       \n",
      " 39  지방축적도                   1891 non-null   float64       \n",
      " 40  Instability             1894 non-null   int64         \n",
      " 41  MF + ES                 1894 non-null   float64       \n",
      " 42  Modic change            1894 non-null   int64         \n",
      " 43  PI                      1890 non-null   float64       \n",
      " 44  PT                      1890 non-null   float64       \n",
      " 45  Seg Angle(raw)          1893 non-null   float64       \n",
      " 46  Vaccum disc             1894 non-null   int64         \n",
      " 47  골밀도                     998 non-null    float64       \n",
      " 48  디스크단면적                  1893 non-null   float64       \n",
      " 49  디스크위치                   1894 non-null   int64         \n",
      " 50  척추이동척도                  1894 non-null   object        \n",
      " 51  척추전방위증                  1894 non-null   int64         \n",
      " 52  입원일자_datetime           1894 non-null   datetime64[ns]\n",
      "dtypes: datetime64[ns](1), float64(16), int64(31), object(5)\n",
      "memory usage: 784.4+ KB\n"
     ]
    }
   ],
   "source": [
    "df_ROS.info()"
   ]
  },
  {
   "cell_type": "code",
   "execution_count": 22,
   "id": "b82723b1-bb4a-43fa-8045-df5fc9407966",
   "metadata": {
    "tags": []
   },
   "outputs": [
    {
     "data": {
      "text/html": [
       "<div>\n",
       "<style scoped>\n",
       "    .dataframe tbody tr th:only-of-type {\n",
       "        vertical-align: middle;\n",
       "    }\n",
       "\n",
       "    .dataframe tbody tr th {\n",
       "        vertical-align: top;\n",
       "    }\n",
       "\n",
       "    .dataframe thead th {\n",
       "        text-align: right;\n",
       "    }\n",
       "</style>\n",
       "<table border=\"1\" class=\"dataframe\">\n",
       "  <thead>\n",
       "    <tr style=\"text-align: right;\">\n",
       "      <th></th>\n",
       "      <th>환자ID</th>\n",
       "      <th>직업</th>\n",
       "      <th>수술기법</th>\n",
       "      <th>혈액형</th>\n",
       "      <th>척추이동척도</th>\n",
       "    </tr>\n",
       "  </thead>\n",
       "  <tbody>\n",
       "    <tr>\n",
       "      <th>count</th>\n",
       "      <td>1894</td>\n",
       "      <td>1479</td>\n",
       "      <td>1813</td>\n",
       "      <td>1894</td>\n",
       "      <td>1894</td>\n",
       "    </tr>\n",
       "    <tr>\n",
       "      <th>unique</th>\n",
       "      <td>1894</td>\n",
       "      <td>17</td>\n",
       "      <td>2</td>\n",
       "      <td>4</td>\n",
       "      <td>5</td>\n",
       "    </tr>\n",
       "    <tr>\n",
       "      <th>top</th>\n",
       "      <td>1PT</td>\n",
       "      <td>사무직</td>\n",
       "      <td>TELD</td>\n",
       "      <td>RH+A</td>\n",
       "      <td>Middle</td>\n",
       "    </tr>\n",
       "    <tr>\n",
       "      <th>freq</th>\n",
       "      <td>1</td>\n",
       "      <td>449</td>\n",
       "      <td>1673</td>\n",
       "      <td>688</td>\n",
       "      <td>1260</td>\n",
       "    </tr>\n",
       "  </tbody>\n",
       "</table>\n",
       "</div>"
      ],
      "text/plain": [
       "        환자ID    직업  수술기법   혈액형  척추이동척도\n",
       "count   1894  1479  1813  1894    1894\n",
       "unique  1894    17     2     4       5\n",
       "top      1PT   사무직  TELD  RH+A  Middle\n",
       "freq       1   449  1673   688    1260"
      ]
     },
     "execution_count": 22,
     "metadata": {},
     "output_type": "execute_result"
    }
   ],
   "source": [
    "df_ROS.describe(include='object')"
   ]
  },
  {
   "cell_type": "code",
   "execution_count": 18,
   "id": "987746ff-751b-46f3-84ee-7ea450c8a2d5",
   "metadata": {
    "tags": []
   },
   "outputs": [
    {
     "name": "stdout",
     "output_type": "stream",
     "text": [
      "          입원일자      퇴원일자\n",
      "0     20190713  20190716\n",
      "1     20190715  20190716\n",
      "2     20190729  20190801\n",
      "3     20190731  20190803\n",
      "4     20190903  20190907\n",
      "...        ...       ...\n",
      "1889  20170407  20170408\n",
      "1890  20170426  20170429\n",
      "1891  20170410  20170412\n",
      "1892  20170408  20170411\n",
      "1893  20170412  20170413\n",
      "\n",
      "[1894 rows x 2 columns]\n"
     ]
    }
   ],
   "source": [
    "columns_to_view = ['입원일자', '퇴원일자']\n",
    "df_view = df_ROS[columns_to_view]\n",
    "print(df_view)"
   ]
  },
  {
   "cell_type": "code",
   "execution_count": null,
   "id": "7a053c25-5b00-4d4e-bfca-3dae7e9f0d40",
   "metadata": {},
   "outputs": [],
   "source": [
    "### int -> object 타입변환"
   ]
  },
  {
   "cell_type": "code",
   "execution_count": 29,
   "id": "c21c4383-4c57-4df7-9398-4600c8d975b4",
   "metadata": {
    "tags": []
   },
   "outputs": [],
   "source": [
    "df_ROS['입원일자'] = df_ROS['입원일자'].apply(str)\n",
    "df_ROS['퇴원일자'] = df_ROS['퇴원일자'].apply(str)"
   ]
  },
  {
   "cell_type": "code",
   "execution_count": 30,
   "id": "2a012cd3-686b-4b13-8dd7-aab3099a64ec",
   "metadata": {
    "tags": []
   },
   "outputs": [],
   "source": [
    "df_ROS['입원일자_datetime'] = pd.to_datetime(df_ROS['입원일자'], format='%Y%m%d') \n",
    "df_ROS['퇴원일자_datetime'] = pd.to_datetime(df_ROS['퇴원일자'], format='%Y%m%d') "
   ]
  },
  {
   "cell_type": "code",
   "execution_count": 31,
   "id": "7e81fe63-b5f7-49e0-a16b-31dbf5c86130",
   "metadata": {
    "tags": []
   },
   "outputs": [
    {
     "data": {
      "text/html": [
       "<div>\n",
       "<style scoped>\n",
       "    .dataframe tbody tr th:only-of-type {\n",
       "        vertical-align: middle;\n",
       "    }\n",
       "\n",
       "    .dataframe tbody tr th {\n",
       "        vertical-align: top;\n",
       "    }\n",
       "\n",
       "    .dataframe thead th {\n",
       "        text-align: right;\n",
       "    }\n",
       "</style>\n",
       "<table border=\"1\" class=\"dataframe\">\n",
       "  <thead>\n",
       "    <tr style=\"text-align: right;\">\n",
       "      <th></th>\n",
       "      <th>Unnamed: 0</th>\n",
       "      <th>환자ID</th>\n",
       "      <th>Large Lymphocyte</th>\n",
       "      <th>Location of herniation</th>\n",
       "      <th>ODI</th>\n",
       "      <th>가족력</th>\n",
       "      <th>간질성폐질환</th>\n",
       "      <th>고혈압여부</th>\n",
       "      <th>과거수술횟수</th>\n",
       "      <th>당뇨여부</th>\n",
       "      <th>...</th>\n",
       "      <th>PT</th>\n",
       "      <th>Seg Angle(raw)</th>\n",
       "      <th>Vaccum disc</th>\n",
       "      <th>골밀도</th>\n",
       "      <th>디스크단면적</th>\n",
       "      <th>디스크위치</th>\n",
       "      <th>척추이동척도</th>\n",
       "      <th>척추전방위증</th>\n",
       "      <th>입원일자_datetime</th>\n",
       "      <th>퇴원일자_datetime</th>\n",
       "    </tr>\n",
       "  </thead>\n",
       "  <tbody>\n",
       "    <tr>\n",
       "      <th>0</th>\n",
       "      <td>0</td>\n",
       "      <td>1PT</td>\n",
       "      <td>22.8</td>\n",
       "      <td>3</td>\n",
       "      <td>51.0</td>\n",
       "      <td>0.0</td>\n",
       "      <td>0</td>\n",
       "      <td>0</td>\n",
       "      <td>0</td>\n",
       "      <td>0</td>\n",
       "      <td>...</td>\n",
       "      <td>36.6</td>\n",
       "      <td>14.4</td>\n",
       "      <td>0</td>\n",
       "      <td>-1.01</td>\n",
       "      <td>2048.5</td>\n",
       "      <td>4</td>\n",
       "      <td>Down</td>\n",
       "      <td>0</td>\n",
       "      <td>2019-07-13</td>\n",
       "      <td>2019-07-16</td>\n",
       "    </tr>\n",
       "    <tr>\n",
       "      <th>1</th>\n",
       "      <td>1</td>\n",
       "      <td>2PT</td>\n",
       "      <td>44.9</td>\n",
       "      <td>4</td>\n",
       "      <td>26.0</td>\n",
       "      <td>0.0</td>\n",
       "      <td>0</td>\n",
       "      <td>0</td>\n",
       "      <td>0</td>\n",
       "      <td>0</td>\n",
       "      <td>...</td>\n",
       "      <td>7.2</td>\n",
       "      <td>17.8</td>\n",
       "      <td>0</td>\n",
       "      <td>-1.14</td>\n",
       "      <td>1753.1</td>\n",
       "      <td>4</td>\n",
       "      <td>Up</td>\n",
       "      <td>0</td>\n",
       "      <td>2019-07-15</td>\n",
       "      <td>2019-07-16</td>\n",
       "    </tr>\n",
       "  </tbody>\n",
       "</table>\n",
       "<p>2 rows × 54 columns</p>\n",
       "</div>"
      ],
      "text/plain": [
       "   Unnamed: 0 환자ID  Large Lymphocyte  Location of herniation   ODI  가족력  \\\n",
       "0           0  1PT              22.8                       3  51.0  0.0   \n",
       "1           1  2PT              44.9                       4  26.0  0.0   \n",
       "\n",
       "   간질성폐질환  고혈압여부  과거수술횟수  당뇨여부  ...    PT  Seg Angle(raw)  Vaccum disc   골밀도  \\\n",
       "0       0      0       0     0  ...  36.6            14.4            0 -1.01   \n",
       "1       0      0       0     0  ...   7.2            17.8            0 -1.14   \n",
       "\n",
       "   디스크단면적  디스크위치  척추이동척도  척추전방위증  입원일자_datetime  퇴원일자_datetime  \n",
       "0  2048.5      4    Down       0     2019-07-13     2019-07-16  \n",
       "1  1753.1      4      Up       0     2019-07-15     2019-07-16  \n",
       "\n",
       "[2 rows x 54 columns]"
      ]
     },
     "execution_count": 31,
     "metadata": {},
     "output_type": "execute_result"
    }
   ],
   "source": [
    "df_ROS[:2]"
   ]
  },
  {
   "cell_type": "code",
   "execution_count": 38,
   "id": "d2c14ffd-f209-4118-b49b-bf70e0adb38c",
   "metadata": {
    "tags": []
   },
   "outputs": [],
   "source": [
    "df_ROS['입원일자_datetime_year'] = df_ROS['입원일자_datetime'].dt.year\n",
    "df_ROS['퇴원일자_datetime_year'] = df_ROS['퇴원일자_datetime'].dt.year\n",
    "#df_ROS['입원일자_datetime_month'] = df_ROS['입원일자_datetime_month'].dt.month"
   ]
  },
  {
   "cell_type": "markdown",
   "id": "8fa1f44f-9fcc-4995-9d46-b73d82c0df37",
   "metadata": {},
   "source": [
    "### 주차별 환자 입원/퇴원 추이 시각화 및 인사이트 1차 방법 (2차 데이터 사용시)"
   ]
  },
  {
   "cell_type": "code",
   "execution_count": 39,
   "id": "6daa2ddb-dff2-47aa-883a-821bf549c8fc",
   "metadata": {
    "tags": []
   },
   "outputs": [
    {
     "data": {
      "text/plain": [
       "<Axes: xlabel='입원일자_datetime_year'>"
      ]
     },
     "execution_count": 39,
     "metadata": {},
     "output_type": "execute_result"
    },
    {
     "data": {
      "image/png": "[encoded data removed]",
      "text/plain": [
       "<Figure size 640x480 with 1 Axes>"
      ]
     },
     "metadata": {},
     "output_type": "display_data"
    }
   ],
   "source": [
    "pd.pivot_table(data=df_ROS, index='입원일자_datetime_year', values='퇴원일자_datetime_year', aggfunc=sum).plot(kind='bar')  "
   ]
  },
  {
   "cell_type": "code",
   "execution_count": 40,
   "id": "25b6b8ae-dce0-4046-ad34-80ff64377f88",
   "metadata": {
    "tags": []
   },
   "outputs": [
    {
     "name": "stderr",
     "output_type": "stream",
     "text": [
      "C:\\Users\\04-02\\AppData\\Local\\Temp\\ipykernel_6152\\1239965468.py:1: FutureWarning: Series.dt.weekofyear and Series.dt.week have been deprecated. Please use Series.dt.isocalendar().week instead.\n",
      "  df_ROS['입원일자_datetime_week'] = df_ROS['입원일자_datetime'].dt.weekofyear\n",
      "C:\\Users\\04-02\\AppData\\Local\\Temp\\ipykernel_6152\\1239965468.py:2: FutureWarning: Series.dt.weekofyear and Series.dt.week have been deprecated. Please use Series.dt.isocalendar().week instead.\n",
      "  df_ROS['퇴원일자_datetime_week'] = df_ROS['퇴원일자_datetime'].dt.weekofyear\n"
     ]
    }
   ],
   "source": [
    "df_ROS['입원일자_datetime_week'] = df_ROS['입원일자_datetime'].dt.weekofyear\n",
    "df_ROS['퇴원일자_datetime_week'] = df_ROS['퇴원일자_datetime'].dt.weekofyear"
   ]
  },
  {
   "cell_type": "markdown",
   "id": "60cb2101-c0af-4667-8434-6df2f3da9779",
   "metadata": {
    "tags": []
   },
   "source": [
    "### 주차별 환자 입원/퇴원 추이 시각화 및 인사이트 2차 방법 (단순 시각화) "
   ]
  },
  {
   "cell_type": "code",
   "execution_count": 41,
   "id": "3f46666a-02de-42ac-acea-804985d529f2",
   "metadata": {
    "tags": []
   },
   "outputs": [
    {
     "data": {
      "text/plain": [
       "<Axes: xlabel='입원일자_datetime_week', ylabel='퇴원일자_datetime_year'>"
      ]
     },
     "execution_count": 41,
     "metadata": {},
     "output_type": "execute_result"
    },
    {
     "data": {
      "image/png": "[encoded data removed]",
      "text/plain": [
       "<Figure size 640x480 with 1 Axes>"
      ]
     },
     "metadata": {},
     "output_type": "display_data"
    }
   ],
   "source": [
    "sns.lineplot(data=df_ROS, x='입원일자_datetime_week', y='퇴원일자_datetime_year', estimator='sum')"
   ]
  },
  {
   "cell_type": "markdown",
   "id": "97318339-1213-4618-955e-5bdef6f7564f",
   "metadata": {
    "tags": []
   },
   "source": [
    "### 요일별 환자 입원/퇴원 추이 시각화 및 인사이트 1차 방법 (2차 데이터 사용시)"
   ]
  },
  {
   "cell_type": "code",
   "execution_count": 44,
   "id": "fbed8195-28f0-464e-91b9-d261cbf11fc7",
   "metadata": {
    "tags": []
   },
   "outputs": [],
   "source": [
    "# df_ROS['요일'] = df_ROS['입원일자_datetime'].dt.day_name()\n",
    "\n",
    "df_ROS['입원일자_datetime_day'] = df_ROS['입원일자_datetime'].dt.day_name()\n",
    "df_ROS['퇴원일자_datetime_day'] = df_ROS['퇴원일자_datetime'].dt.day_name()"
   ]
  },
  {
   "cell_type": "code",
   "execution_count": 46,
   "id": "c813049c-ddbe-4cd4-9031-4027a818cdb0",
   "metadata": {
    "tags": []
   },
   "outputs": [
    {
     "data": {
      "text/plain": [
       "<Axes: xlabel='입원일자_datetime_day'>"
      ]
     },
     "execution_count": 46,
     "metadata": {},
     "output_type": "execute_result"
    },
    {
     "data": {
      "image/png": "[encoded data removed]",
      "text/plain": [
       "<Figure size 640x480 with 1 Axes>"
      ]
     },
     "metadata": {},
     "output_type": "display_data"
    }
   ],
   "source": [
    "pd.pivot_table(data=df_ROS, index='입원일자_datetime_day', values='퇴원일자_datetime_year', aggfunc=sum).plot(kind='bar')  "
   ]
  },
  {
   "cell_type": "markdown",
   "id": "8b35411f-6308-4d7b-8157-34fe11155a26",
   "metadata": {
    "tags": []
   },
   "source": [
    "### 요일별 환자 입원/퇴원 추이 시각화 및 인사이트 2차 방법 (단순 시각화) "
   ]
  },
  {
   "cell_type": "code",
   "execution_count": 47,
   "id": "746f7e81-bece-46c2-b646-2b5df086c1ec",
   "metadata": {
    "tags": []
   },
   "outputs": [
    {
     "data": {
      "text/plain": [
       "<Axes: xlabel='입원일자_datetime_day', ylabel='퇴원일자_datetime_day'>"
      ]
     },
     "execution_count": 47,
     "metadata": {},
     "output_type": "execute_result"
    },
    {
     "data": {
      "image/png": "[encoded data removed]",
      "text/plain": [
       "<Figure size 640x480 with 1 Axes>"
      ]
     },
     "metadata": {},
     "output_type": "display_data"
    }
   ],
   "source": [
    "sns.lineplot(data=df_ROS, x='입원일자_datetime_day', y='퇴원일자_datetime_day', estimator='sum')"
   ]
  },
  {
   "cell_type": "code",
   "execution_count": null,
   "id": "dd842cfd-bf3c-4ec8-a78a-8acd57752b00",
   "metadata": {},
   "outputs": [],
   "source": []
  }
 ],
 "metadata": {
  "kernelspec": {
   "display_name": "Python 3 (ipykernel)",
   "language": "python",
   "name": "python3"
  },
  "language_info": {
   "codemirror_mode": {
    "name": "ipython",
    "version": 3
   },
   "file_extension": ".py",
   "mimetype": "text/x-python",
   "name": "python",
   "nbconvert_exporter": "python",
   "pygments_lexer": "ipython3",
   "version": "3.11.3"
  }
 },
 "nbformat": 4,
 "nbformat_minor": 5
}
