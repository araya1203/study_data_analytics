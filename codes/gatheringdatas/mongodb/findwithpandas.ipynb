{
 "cells": [
  {
   "cell_type": "code",
   "execution_count": 16,
   "id": "75708cc4-df9f-4257-9e0d-b86e18be4b1b",
   "metadata": {
    "tags": []
   },
   "outputs": [
    {
     "name": "stdout",
     "output_type": "stream",
     "text": [
      "Retrieving notices: ...working... done\n",
      "Collecting package metadata (current_repodata.json): ...working... done\n",
      "Solving environment: ...working... done\n",
      "\n",
      "## Package Plan ##\n",
      "\n",
      "  environment location: C:\\Users\\04-02\\anaconda3\n",
      "\n",
      "  added / updated specs:\n",
      "    - pymongo\n",
      "\n",
      "\n",
      "The following packages will be downloaded:\n",
      "\n",
      "    package                    |            build\n",
      "    ---------------------------|-----------------\n",
      "    pymongo-3.12.0             |  py311hd77b12b_0         1.5 MB\n",
      "    ------------------------------------------------------------\n",
      "                                           Total:         1.5 MB\n",
      "\n",
      "The following NEW packages will be INSTALLED:\n",
      "\n",
      "  pymongo            pkgs/main/win-64::pymongo-3.12.0-py311hd77b12b_0 \n",
      "\n",
      "\n",
      "\n",
      "Downloading and Extracting Packages\n",
      "\n",
      "pymongo-3.12.0       | 1.5 MB    |            |   0% \n",
      "pymongo-3.12.0       | 1.5 MB    | #4         |  15% \n",
      "pymongo-3.12.0       | 1.5 MB    | ######1    |  62% \n",
      "pymongo-3.12.0       | 1.5 MB    | #########8 |  98% \n",
      "pymongo-3.12.0       | 1.5 MB    | ########## | 100% \n",
      "                                                     \n",
      "\n",
      "\n",
      "Preparing transaction: ...working... done\n",
      "Verifying transaction: ...working... done\n",
      "Executing transaction: ...working... done\n",
      "\n",
      "Note: you may need to restart the kernel to use updated packages.\n"
     ]
    }
   ],
   "source": [
    "%conda install pymongo"
   ]
  },
  {
   "cell_type": "code",
   "execution_count": 19,
   "id": "76e9bb7d-4979-4329-940b-af2597f420bd",
   "metadata": {
    "tags": []
   },
   "outputs": [],
   "source": [
    "import pymongo as mg\n",
    "import pandas as pd"
   ]
  },
  {
   "cell_type": "code",
   "execution_count": 20,
   "id": "9f54d598-2cb6-4d96-8ddf-32e72cb27575",
   "metadata": {
    "tags": []
   },
   "outputs": [
    {
     "data": {
      "text/plain": [
       "'3.12.0'"
      ]
     },
     "execution_count": 20,
     "metadata": {},
     "output_type": "execute_result"
    }
   ],
   "source": [
    "mg.__version__"
   ]
  },
  {
   "cell_type": "code",
   "execution_count": 27,
   "id": "955d91a0-2114-4723-b6b0-79c4d7b71e89",
   "metadata": {
    "tags": []
   },
   "outputs": [],
   "source": [
    "client = mg.MongoClient(host='mongodb://localhost:27017')"
   ]
  },
  {
   "cell_type": "code",
   "execution_count": 28,
   "id": "bf345755-e266-4015-8afc-681f9b8183e9",
   "metadata": {
    "tags": []
   },
   "outputs": [],
   "source": [
    "database = client['db_NHIS']"
   ]
  },
  {
   "cell_type": "code",
   "execution_count": 29,
   "id": "2a10c753-99c2-48ac-b4bb-28b499db00c0",
   "metadata": {
    "tags": []
   },
   "outputs": [],
   "source": [
    "collection = database['NSC2_BND']"
   ]
  },
  {
   "cell_type": "code",
   "execution_count": 30,
   "id": "4eb6efc2-dc79-4ad4-87a1-e49b1ff09156",
   "metadata": {
    "tags": []
   },
   "outputs": [],
   "source": [
    "cursor = collection.find({})"
   ]
  },
  {
   "cell_type": "code",
   "execution_count": 31,
   "id": "9dbd3121-03b3-4d09-be13-f8fe1a04a133",
   "metadata": {
    "tags": []
   },
   "outputs": [],
   "source": [
    "# List(cursor)"
   ]
  },
  {
   "cell_type": "code",
   "execution_count": 37,
   "id": "3f94ee94-4726-4ac5-909d-6025d6f7327b",
   "metadata": {
    "tags": []
   },
   "outputs": [],
   "source": [
    "list_BND = list(cursor)"
   ]
  },
  {
   "cell_type": "code",
   "execution_count": 38,
   "id": "98d11444-0143-44f7-bf06-8335e045e5ac",
   "metadata": {
    "tags": []
   },
   "outputs": [
    {
     "data": {
      "text/plain": [
       "[]"
      ]
     },
     "execution_count": 38,
     "metadata": {},
     "output_type": "execute_result"
    }
   ],
   "source": [
    "list_BND"
   ]
  },
  {
   "cell_type": "code",
   "execution_count": 39,
   "id": "7bf3a9b6-f97e-46a8-8c39-0a2101929c56",
   "metadata": {
    "tags": []
   },
   "outputs": [],
   "source": [
    "df_BND = pd.DataFrame(list_BND)"
   ]
  },
  {
   "cell_type": "code",
   "execution_count": 40,
   "id": "59cccf15-46ad-4879-b48e-1457a1b84add",
   "metadata": {
    "tags": []
   },
   "outputs": [
    {
     "data": {
      "text/html": [
       "<div>\n",
       "<style scoped>\n",
       "    .dataframe tbody tr th:only-of-type {\n",
       "        vertical-align: middle;\n",
       "    }\n",
       "\n",
       "    .dataframe tbody tr th {\n",
       "        vertical-align: top;\n",
       "    }\n",
       "\n",
       "    .dataframe thead th {\n",
       "        text-align: right;\n",
       "    }\n",
       "</style>\n",
       "<table border=\"1\" class=\"dataframe\">\n",
       "  <thead>\n",
       "    <tr style=\"text-align: right;\">\n",
       "      <th></th>\n",
       "    </tr>\n",
       "  </thead>\n",
       "  <tbody>\n",
       "  </tbody>\n",
       "</table>\n",
       "</div>"
      ],
      "text/plain": [
       "Empty DataFrame\n",
       "Columns: []\n",
       "Index: []"
      ]
     },
     "execution_count": 40,
     "metadata": {},
     "output_type": "execute_result"
    }
   ],
   "source": [
    "df_BND"
   ]
  },
  {
   "cell_type": "code",
   "execution_count": 41,
   "id": "8818ad70-2faa-4829-bfd7-53be774ba751",
   "metadata": {
    "tags": []
   },
   "outputs": [],
   "source": [
    "df_BND.to_csv('./NSC2_BND.csv')"
   ]
  }
 ],
 "metadata": {
  "kernelspec": {
   "display_name": "Python 3 (ipykernel)",
   "language": "python",
   "name": "python3"
  },
  "language_info": {
   "codemirror_mode": {
    "name": "ipython",
    "version": 3
   },
   "file_extension": ".py",
   "mimetype": "text/x-python",
   "name": "python",
   "nbconvert_exporter": "python",
   "pygments_lexer": "ipython3",
   "version": "3.11.3"
  }
 },
 "nbformat": 4,
 "nbformat_minor": 5
}
