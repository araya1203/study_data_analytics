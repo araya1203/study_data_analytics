{
 "cells": [
  {
   "cell_type": "markdown",
   "id": "58f75743-4a88-447a-b78c-e90b3c194812",
   "metadata": {},
   "source": [
    "### quest\n",
    "- 도서목록 제목만 스크래핑\n",
    "- csv로 저장(yes24_books_title.csv)"
   ]
  },
  {
   "cell_type": "code",
   "execution_count": 14,
   "id": "e1b8d8e1-ac02-47cd-992b-4dda2959d926",
   "metadata": {
    "tags": []
   },
   "outputs": [],
   "source": [
    "from selenium import webdriver"
   ]
  },
  {
   "cell_type": "code",
   "execution_count": 15,
   "id": "4544f59e-4659-4383-9517-f1d2410f9dc2",
   "metadata": {
    "tags": []
   },
   "outputs": [],
   "source": [
    "# open chorme browser\n",
    "browser= webdriver.Chrome(executable_path='../../../../chromedriver.exe')"
   ]
  },
  {
   "cell_type": "code",
   "execution_count": 21,
   "id": "98ed13b9-00cf-4e18-aeba-27b0de0655dc",
   "metadata": {
    "tags": []
   },
   "outputs": [],
   "source": [
    "# url in address window\n",
    "browser.get('https://brunch.co.kr/keyword/%EC%B1%85%EB%A6%AC%EB%B7%B0')"
   ]
  },
  {
   "cell_type": "markdown",
   "id": "2e740da0-4a95-48a1-a26e-e6e32281c659",
   "metadata": {},
   "source": [
    "#### 여러개 가져오기 (element) "
   ]
  },
  {
   "cell_type": "code",
   "execution_count": 22,
   "id": "5a219805-ab6e-4990-b4e1-31ac325add89",
   "metadata": {
    "tags": []
   },
   "outputs": [
    {
     "data": {
      "text/plain": [
       "(list, selenium.webdriver.remote.webelement.WebElement)"
      ]
     },
     "execution_count": 22,
     "metadata": {},
     "output_type": "execute_result"
    }
   ],
   "source": [
    "element_path = '.tit_subject'\n",
    "elements = browser.find_elements_by_css_selector(element_path)\n",
    "type(elements), type(elements[0])"
   ]
  },
  {
   "cell_type": "code",
   "execution_count": 23,
   "id": "a1eceba7-1949-4640-8f4a-a42794369cac",
   "metadata": {
    "tags": []
   },
   "outputs": [],
   "source": [
    "## for문을 활용하여 제목만 가져오기 \n",
    "titles = []\n",
    "for bookelement in elements:\n",
    "    title = bookelement.text\n",
    "    titles.append(title)"
   ]
  },
  {
   "cell_type": "code",
   "execution_count": 24,
   "id": "ed32e105-ece1-4b54-abae-502f04ea9aac",
   "metadata": {
    "tags": []
   },
   "outputs": [
    {
     "name": "stdout",
     "output_type": "stream",
     "text": [
      "[\"'국사'만으로는 부족하다. '동북아사'여야 한다\", '젊어서 위태로운 예술가를 향한 등대', '그래서 내가 불안했던 거야', '완벽한 아이 팔아요', '일상의 모험 - 서동욱', 'Egon Schiele : the complete wo', '노동자의 시간은 저절로 흐르지 않는다', '방랑기 / 하야시 후미코 / 1930', '나카오카 겐메이에게 배우는 일']\n"
     ]
    }
   ],
   "source": [
    "print(titles) "
   ]
  },
  {
   "cell_type": "code",
   "execution_count": 26,
   "id": "10ddb5de-0cc4-40d4-b482-d182fd753f1b",
   "metadata": {
    "tags": []
   },
   "outputs": [],
   "source": [
    "import pandas as pd"
   ]
  },
  {
   "cell_type": "code",
   "execution_count": 27,
   "id": "524fcd20-e438-4f31-9c77-37324e7d3962",
   "metadata": {},
   "outputs": [],
   "source": [
    "# 리스트를 DataFrame으로 변환\n",
    "df_titles = pd.DataFrame(titles, columns=['Title'])"
   ]
  },
  {
   "cell_type": "code",
   "execution_count": 28,
   "id": "3e484627-bf02-4b24-ad7d-dbfc9667fc38",
   "metadata": {
    "tags": []
   },
   "outputs": [],
   "source": [
    "# CSV 파일로 저장\n",
    "df_titles.to_csv('../../../datasets/booklist.csv', index=False)"
   ]
  },
  {
   "cell_type": "code",
   "execution_count": null,
   "id": "383132d3-83fb-4834-8a6a-05c2867487b8",
   "metadata": {},
   "outputs": [],
   "source": []
  }
 ],
 "metadata": {
  "kernelspec": {
   "display_name": "Python 3 (ipykernel)",
   "language": "python",
   "name": "python3"
  },
  "language_info": {
   "codemirror_mode": {
    "name": "ipython",
    "version": 3
   },
   "file_extension": ".py",
   "mimetype": "text/x-python",
   "name": "python",
   "nbconvert_exporter": "python",
   "pygments_lexer": "ipython3",
   "version": "3.11.3"
  }
 },
 "nbformat": 4,
 "nbformat_minor": 5
}
