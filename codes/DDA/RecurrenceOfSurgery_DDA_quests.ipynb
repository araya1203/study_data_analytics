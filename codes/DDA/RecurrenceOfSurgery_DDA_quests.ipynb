{
 "cells": [
  {
   "cell_type": "markdown",
   "id": "58d8dde4-483d-405e-9079-76f2e542908b",
   "metadata": {},
   "source": [
    "### quest5 \n",
    "- 분석 대상 : \n",
    "성별,신장,심혈관질환,체중,흡연여부,연령,직업,혈액형,재발여부\n",
    "- 단일 변수 chart 각각 작성\n",
    "- 이상치와 결측치가 없는 데이터셋 만들기\n",
    "- option : 연령이 Q1~Q3 범위 속한 인원 수 찾기"
   ]
  },
  {
   "cell_type": "code",
   "execution_count": 17,
   "id": "970de202-8eec-4a06-bb5b-14f412c9bcf6",
   "metadata": {
    "tags": []
   },
   "outputs": [
    {
     "data": {
      "text/html": [
       "<div>\n",
       "<style scoped>\n",
       "    .dataframe tbody tr th:only-of-type {\n",
       "        vertical-align: middle;\n",
       "    }\n",
       "\n",
       "    .dataframe tbody tr th {\n",
       "        vertical-align: top;\n",
       "    }\n",
       "\n",
       "    .dataframe thead th {\n",
       "        text-align: right;\n",
       "    }\n",
       "</style>\n",
       "<table border=\"1\" class=\"dataframe\">\n",
       "  <thead>\n",
       "    <tr style=\"text-align: right;\">\n",
       "      <th></th>\n",
       "      <th>Unnamed: 0</th>\n",
       "      <th>환자ID</th>\n",
       "      <th>Large Lymphocyte</th>\n",
       "      <th>Location of herniation</th>\n",
       "      <th>ODI</th>\n",
       "      <th>가족력</th>\n",
       "      <th>간질성폐질환</th>\n",
       "      <th>고혈압여부</th>\n",
       "      <th>과거수술횟수</th>\n",
       "      <th>당뇨여부</th>\n",
       "      <th>...</th>\n",
       "      <th>Modic change</th>\n",
       "      <th>PI</th>\n",
       "      <th>PT</th>\n",
       "      <th>Seg Angle(raw)</th>\n",
       "      <th>Vaccum disc</th>\n",
       "      <th>골밀도</th>\n",
       "      <th>디스크단면적</th>\n",
       "      <th>디스크위치</th>\n",
       "      <th>척추이동척도</th>\n",
       "      <th>척추전방위증</th>\n",
       "    </tr>\n",
       "  </thead>\n",
       "  <tbody>\n",
       "    <tr>\n",
       "      <th>0</th>\n",
       "      <td>0</td>\n",
       "      <td>1PT</td>\n",
       "      <td>22.8</td>\n",
       "      <td>3</td>\n",
       "      <td>51.0</td>\n",
       "      <td>0.0</td>\n",
       "      <td>0</td>\n",
       "      <td>0</td>\n",
       "      <td>0</td>\n",
       "      <td>0</td>\n",
       "      <td>...</td>\n",
       "      <td>3</td>\n",
       "      <td>51.6</td>\n",
       "      <td>36.6</td>\n",
       "      <td>14.4</td>\n",
       "      <td>0</td>\n",
       "      <td>-1.01</td>\n",
       "      <td>2048.50</td>\n",
       "      <td>4</td>\n",
       "      <td>Down</td>\n",
       "      <td>0</td>\n",
       "    </tr>\n",
       "    <tr>\n",
       "      <th>1</th>\n",
       "      <td>1</td>\n",
       "      <td>2PT</td>\n",
       "      <td>44.9</td>\n",
       "      <td>4</td>\n",
       "      <td>26.0</td>\n",
       "      <td>0.0</td>\n",
       "      <td>0</td>\n",
       "      <td>0</td>\n",
       "      <td>0</td>\n",
       "      <td>0</td>\n",
       "      <td>...</td>\n",
       "      <td>0</td>\n",
       "      <td>40.8</td>\n",
       "      <td>7.2</td>\n",
       "      <td>17.8</td>\n",
       "      <td>0</td>\n",
       "      <td>-1.14</td>\n",
       "      <td>1753.10</td>\n",
       "      <td>4</td>\n",
       "      <td>Up</td>\n",
       "      <td>0</td>\n",
       "    </tr>\n",
       "    <tr>\n",
       "      <th>2</th>\n",
       "      <td>2</td>\n",
       "      <td>3PT</td>\n",
       "      <td>53.0</td>\n",
       "      <td>3</td>\n",
       "      <td>NaN</td>\n",
       "      <td>0.0</td>\n",
       "      <td>0</td>\n",
       "      <td>0</td>\n",
       "      <td>1</td>\n",
       "      <td>0</td>\n",
       "      <td>...</td>\n",
       "      <td>0</td>\n",
       "      <td>67.5</td>\n",
       "      <td>27.3</td>\n",
       "      <td>10.2</td>\n",
       "      <td>0</td>\n",
       "      <td>-1.77</td>\n",
       "      <td>1749.00</td>\n",
       "      <td>4</td>\n",
       "      <td>Down</td>\n",
       "      <td>0</td>\n",
       "    </tr>\n",
       "    <tr>\n",
       "      <th>3</th>\n",
       "      <td>3</td>\n",
       "      <td>4PT</td>\n",
       "      <td>54.7</td>\n",
       "      <td>4</td>\n",
       "      <td>18.0</td>\n",
       "      <td>0.0</td>\n",
       "      <td>0</td>\n",
       "      <td>1</td>\n",
       "      <td>0</td>\n",
       "      <td>0</td>\n",
       "      <td>...</td>\n",
       "      <td>0</td>\n",
       "      <td>49.2</td>\n",
       "      <td>18.7</td>\n",
       "      <td>19.9</td>\n",
       "      <td>0</td>\n",
       "      <td>-1.58</td>\n",
       "      <td>1796.20</td>\n",
       "      <td>4</td>\n",
       "      <td>Down</td>\n",
       "      <td>0</td>\n",
       "    </tr>\n",
       "    <tr>\n",
       "      <th>4</th>\n",
       "      <td>4</td>\n",
       "      <td>5PT</td>\n",
       "      <td>53.8</td>\n",
       "      <td>4</td>\n",
       "      <td>NaN</td>\n",
       "      <td>0.0</td>\n",
       "      <td>0</td>\n",
       "      <td>1</td>\n",
       "      <td>0</td>\n",
       "      <td>0</td>\n",
       "      <td>...</td>\n",
       "      <td>0</td>\n",
       "      <td>58.8</td>\n",
       "      <td>14.7</td>\n",
       "      <td>5.2</td>\n",
       "      <td>0</td>\n",
       "      <td>-0.79</td>\n",
       "      <td>2021.48</td>\n",
       "      <td>4</td>\n",
       "      <td>Up</td>\n",
       "      <td>0</td>\n",
       "    </tr>\n",
       "    <tr>\n",
       "      <th>...</th>\n",
       "      <td>...</td>\n",
       "      <td>...</td>\n",
       "      <td>...</td>\n",
       "      <td>...</td>\n",
       "      <td>...</td>\n",
       "      <td>...</td>\n",
       "      <td>...</td>\n",
       "      <td>...</td>\n",
       "      <td>...</td>\n",
       "      <td>...</td>\n",
       "      <td>...</td>\n",
       "      <td>...</td>\n",
       "      <td>...</td>\n",
       "      <td>...</td>\n",
       "      <td>...</td>\n",
       "      <td>...</td>\n",
       "      <td>...</td>\n",
       "      <td>...</td>\n",
       "      <td>...</td>\n",
       "      <td>...</td>\n",
       "      <td>...</td>\n",
       "    </tr>\n",
       "    <tr>\n",
       "      <th>1889</th>\n",
       "      <td>1889</td>\n",
       "      <td>1890PT</td>\n",
       "      <td>44.0</td>\n",
       "      <td>1</td>\n",
       "      <td>NaN</td>\n",
       "      <td>0.0</td>\n",
       "      <td>0</td>\n",
       "      <td>0</td>\n",
       "      <td>0</td>\n",
       "      <td>0</td>\n",
       "      <td>...</td>\n",
       "      <td>2</td>\n",
       "      <td>59.5</td>\n",
       "      <td>23.0</td>\n",
       "      <td>21.8</td>\n",
       "      <td>0</td>\n",
       "      <td>NaN</td>\n",
       "      <td>2652.20</td>\n",
       "      <td>5</td>\n",
       "      <td>Middle</td>\n",
       "      <td>0</td>\n",
       "    </tr>\n",
       "    <tr>\n",
       "      <th>1890</th>\n",
       "      <td>1890</td>\n",
       "      <td>1891PT</td>\n",
       "      <td>30.8</td>\n",
       "      <td>2</td>\n",
       "      <td>NaN</td>\n",
       "      <td>0.0</td>\n",
       "      <td>0</td>\n",
       "      <td>0</td>\n",
       "      <td>0</td>\n",
       "      <td>0</td>\n",
       "      <td>...</td>\n",
       "      <td>0</td>\n",
       "      <td>47.7</td>\n",
       "      <td>20.2</td>\n",
       "      <td>5.0</td>\n",
       "      <td>0</td>\n",
       "      <td>NaN</td>\n",
       "      <td>1795.80</td>\n",
       "      <td>4</td>\n",
       "      <td>Down</td>\n",
       "      <td>0</td>\n",
       "    </tr>\n",
       "    <tr>\n",
       "      <th>1891</th>\n",
       "      <td>1891</td>\n",
       "      <td>1892PT</td>\n",
       "      <td>36.7</td>\n",
       "      <td>3</td>\n",
       "      <td>NaN</td>\n",
       "      <td>0.0</td>\n",
       "      <td>0</td>\n",
       "      <td>0</td>\n",
       "      <td>0</td>\n",
       "      <td>0</td>\n",
       "      <td>...</td>\n",
       "      <td>0</td>\n",
       "      <td>44.6</td>\n",
       "      <td>15.0</td>\n",
       "      <td>17.4</td>\n",
       "      <td>1</td>\n",
       "      <td>NaN</td>\n",
       "      <td>2624.40</td>\n",
       "      <td>4</td>\n",
       "      <td>Down</td>\n",
       "      <td>0</td>\n",
       "    </tr>\n",
       "    <tr>\n",
       "      <th>1892</th>\n",
       "      <td>1892</td>\n",
       "      <td>1893PT</td>\n",
       "      <td>32.5</td>\n",
       "      <td>2</td>\n",
       "      <td>NaN</td>\n",
       "      <td>0.0</td>\n",
       "      <td>0</td>\n",
       "      <td>0</td>\n",
       "      <td>0</td>\n",
       "      <td>0</td>\n",
       "      <td>...</td>\n",
       "      <td>2</td>\n",
       "      <td>32.2</td>\n",
       "      <td>11.1</td>\n",
       "      <td>17.7</td>\n",
       "      <td>0</td>\n",
       "      <td>NaN</td>\n",
       "      <td>1972.50</td>\n",
       "      <td>5</td>\n",
       "      <td>Down</td>\n",
       "      <td>0</td>\n",
       "    </tr>\n",
       "    <tr>\n",
       "      <th>1893</th>\n",
       "      <td>1893</td>\n",
       "      <td>1894PT</td>\n",
       "      <td>49.5</td>\n",
       "      <td>2</td>\n",
       "      <td>NaN</td>\n",
       "      <td>0.0</td>\n",
       "      <td>0</td>\n",
       "      <td>0</td>\n",
       "      <td>0</td>\n",
       "      <td>0</td>\n",
       "      <td>...</td>\n",
       "      <td>0</td>\n",
       "      <td>38.9</td>\n",
       "      <td>6.8</td>\n",
       "      <td>27.8</td>\n",
       "      <td>0</td>\n",
       "      <td>NaN</td>\n",
       "      <td>1574.40</td>\n",
       "      <td>5</td>\n",
       "      <td>Middle</td>\n",
       "      <td>0</td>\n",
       "    </tr>\n",
       "  </tbody>\n",
       "</table>\n",
       "<p>1894 rows × 52 columns</p>\n",
       "</div>"
      ],
      "text/plain": [
       "      Unnamed: 0    환자ID  Large Lymphocyte  Location of herniation   ODI  가족력  \\\n",
       "0              0     1PT              22.8                       3  51.0  0.0   \n",
       "1              1     2PT              44.9                       4  26.0  0.0   \n",
       "2              2     3PT              53.0                       3   NaN  0.0   \n",
       "3              3     4PT              54.7                       4  18.0  0.0   \n",
       "4              4     5PT              53.8                       4   NaN  0.0   \n",
       "...          ...     ...               ...                     ...   ...  ...   \n",
       "1889        1889  1890PT              44.0                       1   NaN  0.0   \n",
       "1890        1890  1891PT              30.8                       2   NaN  0.0   \n",
       "1891        1891  1892PT              36.7                       3   NaN  0.0   \n",
       "1892        1892  1893PT              32.5                       2   NaN  0.0   \n",
       "1893        1893  1894PT              49.5                       2   NaN  0.0   \n",
       "\n",
       "      간질성폐질환  고혈압여부  과거수술횟수  당뇨여부  ...  Modic change    PI    PT  \\\n",
       "0          0      0       0     0  ...             3  51.6  36.6   \n",
       "1          0      0       0     0  ...             0  40.8   7.2   \n",
       "2          0      0       1     0  ...             0  67.5  27.3   \n",
       "3          0      1       0     0  ...             0  49.2  18.7   \n",
       "4          0      1       0     0  ...             0  58.8  14.7   \n",
       "...      ...    ...     ...   ...  ...           ...   ...   ...   \n",
       "1889       0      0       0     0  ...             2  59.5  23.0   \n",
       "1890       0      0       0     0  ...             0  47.7  20.2   \n",
       "1891       0      0       0     0  ...             0  44.6  15.0   \n",
       "1892       0      0       0     0  ...             2  32.2  11.1   \n",
       "1893       0      0       0     0  ...             0  38.9   6.8   \n",
       "\n",
       "      Seg Angle(raw)  Vaccum disc   골밀도   디스크단면적  디스크위치  척추이동척도  척추전방위증  \n",
       "0               14.4            0 -1.01  2048.50      4    Down       0  \n",
       "1               17.8            0 -1.14  1753.10      4      Up       0  \n",
       "2               10.2            0 -1.77  1749.00      4    Down       0  \n",
       "3               19.9            0 -1.58  1796.20      4    Down       0  \n",
       "4                5.2            0 -0.79  2021.48      4      Up       0  \n",
       "...              ...          ...   ...      ...    ...     ...     ...  \n",
       "1889            21.8            0   NaN  2652.20      5  Middle       0  \n",
       "1890             5.0            0   NaN  1795.80      4    Down       0  \n",
       "1891            17.4            1   NaN  2624.40      4    Down       0  \n",
       "1892            17.7            0   NaN  1972.50      5    Down       0  \n",
       "1893            27.8            0   NaN  1574.40      5  Middle       0  \n",
       "\n",
       "[1894 rows x 52 columns]"
      ]
     },
     "execution_count": 17,
     "metadata": {},
     "output_type": "execute_result"
    }
   ],
   "source": [
    "import pandas as pd\n",
    "import matplotlib.pyplot as plt\n",
    "import matplotlib as mpl\n",
    "mpl.rc('font',family='Malgun Gothic')\n",
    "import seaborn as sns\n",
    "df_ROS = pd.read_csv('../../datasets/RecurrenceOfSurgery.csv')\n",
    "df_ROS"
   ]
  },
  {
   "cell_type": "code",
   "execution_count": 18,
   "id": "5c3f7ed5-35be-4c1d-9ad6-ce9198b2fb3a",
   "metadata": {
    "tags": []
   },
   "outputs": [
    {
     "name": "stdout",
     "output_type": "stream",
     "text": [
      "<class 'pandas.core.frame.DataFrame'>\n",
      "RangeIndex: 1894 entries, 0 to 1893\n",
      "Data columns (total 52 columns):\n",
      " #   Column                  Non-Null Count  Dtype  \n",
      "---  ------                  --------------  -----  \n",
      " 0   Unnamed: 0              1894 non-null   int64  \n",
      " 1   환자ID                    1894 non-null   object \n",
      " 2   Large Lymphocyte        1894 non-null   float64\n",
      " 3   Location of herniation  1894 non-null   int64  \n",
      " 4   ODI                     462 non-null    float64\n",
      " 5   가족력                     1843 non-null   float64\n",
      " 6   간질성폐질환                  1894 non-null   int64  \n",
      " 7   고혈압여부                   1894 non-null   int64  \n",
      " 8   과거수술횟수                  1894 non-null   int64  \n",
      " 9   당뇨여부                    1894 non-null   int64  \n",
      " 10  말초동맥질환여부                1894 non-null   int64  \n",
      " 11  빈혈여부                    1894 non-null   int64  \n",
      " 12  성별                      1894 non-null   int64  \n",
      " 13  스테로이드치료                 1894 non-null   int64  \n",
      " 14  신부전여부                   1894 non-null   int64  \n",
      " 15  신장                      1894 non-null   int64  \n",
      " 16  심혈관질환                   1894 non-null   int64  \n",
      " 17  암발병여부                   1894 non-null   int64  \n",
      " 18  연령                      1894 non-null   int64  \n",
      " 19  우울증여부                   1894 non-null   int64  \n",
      " 20  입원기간                    1894 non-null   int64  \n",
      " 21  입원일자                    1894 non-null   int64  \n",
      " 22  종양진행여부                  1894 non-null   int64  \n",
      " 23  직업                      1479 non-null   object \n",
      " 24  체중                      1894 non-null   float64\n",
      " 25  퇴원일자                    1894 non-null   int64  \n",
      " 26  헤모글로빈수치                 1893 non-null   float64\n",
      " 27  혈전합병증여부                 1894 non-null   int64  \n",
      " 28  환자통증정도                  1894 non-null   int64  \n",
      " 29  흡연여부                    1894 non-null   int64  \n",
      " 30  통증기간(월)                 1890 non-null   float64\n",
      " 31  수술기법                    1813 non-null   object \n",
      " 32  수술시간                    1840 non-null   float64\n",
      " 33  수술실패여부                  1894 non-null   int64  \n",
      " 34  수술일자                    1894 non-null   int64  \n",
      " 35  재발여부                    1894 non-null   int64  \n",
      " 36  혈액형                     1894 non-null   object \n",
      " 37  전방디스크높이(mm)             1894 non-null   float64\n",
      " 38  후방디스크높이(mm)             1894 non-null   float64\n",
      " 39  지방축적도                   1891 non-null   float64\n",
      " 40  Instability             1894 non-null   int64  \n",
      " 41  MF + ES                 1894 non-null   float64\n",
      " 42  Modic change            1894 non-null   int64  \n",
      " 43  PI                      1890 non-null   float64\n",
      " 44  PT                      1890 non-null   float64\n",
      " 45  Seg Angle(raw)          1893 non-null   float64\n",
      " 46  Vaccum disc             1894 non-null   int64  \n",
      " 47  골밀도                     998 non-null    float64\n",
      " 48  디스크단면적                  1893 non-null   float64\n",
      " 49  디스크위치                   1894 non-null   int64  \n",
      " 50  척추이동척도                  1894 non-null   object \n",
      " 51  척추전방위증                  1894 non-null   int64  \n",
      "dtypes: float64(16), int64(31), object(5)\n",
      "memory usage: 769.6+ KB\n"
     ]
    }
   ],
   "source": [
    "df_ROS.info() "
   ]
  },
  {
   "cell_type": "code",
   "execution_count": 45,
   "id": "832426e3-fdd7-4f1f-8440-9cc12c2ac37d",
   "metadata": {
    "tags": []
   },
   "outputs": [
    {
     "data": {
      "text/html": [
       "<div>\n",
       "<style scoped>\n",
       "    .dataframe tbody tr th:only-of-type {\n",
       "        vertical-align: middle;\n",
       "    }\n",
       "\n",
       "    .dataframe tbody tr th {\n",
       "        vertical-align: top;\n",
       "    }\n",
       "\n",
       "    .dataframe thead th {\n",
       "        text-align: right;\n",
       "    }\n",
       "</style>\n",
       "<table border=\"1\" class=\"dataframe\">\n",
       "  <thead>\n",
       "    <tr style=\"text-align: right;\">\n",
       "      <th></th>\n",
       "      <th>성별</th>\n",
       "      <th>신장</th>\n",
       "      <th>심혈관질환</th>\n",
       "      <th>체중</th>\n",
       "      <th>흡연여부</th>\n",
       "      <th>연령</th>\n",
       "      <th>재발여부</th>\n",
       "    </tr>\n",
       "  </thead>\n",
       "  <tbody>\n",
       "    <tr>\n",
       "      <th>count</th>\n",
       "      <td>1894.000000</td>\n",
       "      <td>1894.000000</td>\n",
       "      <td>1894.000000</td>\n",
       "      <td>1894.000000</td>\n",
       "      <td>1894.000000</td>\n",
       "      <td>1894.000000</td>\n",
       "      <td>1894.000000</td>\n",
       "    </tr>\n",
       "    <tr>\n",
       "      <th>mean</th>\n",
       "      <td>1.383316</td>\n",
       "      <td>168.027983</td>\n",
       "      <td>0.035903</td>\n",
       "      <td>68.111140</td>\n",
       "      <td>0.217001</td>\n",
       "      <td>41.463569</td>\n",
       "      <td>0.119852</td>\n",
       "    </tr>\n",
       "    <tr>\n",
       "      <th>std</th>\n",
       "      <td>0.486323</td>\n",
       "      <td>9.211419</td>\n",
       "      <td>0.186097</td>\n",
       "      <td>11.234318</td>\n",
       "      <td>0.412312</td>\n",
       "      <td>13.444629</td>\n",
       "      <td>0.324874</td>\n",
       "    </tr>\n",
       "    <tr>\n",
       "      <th>min</th>\n",
       "      <td>1.000000</td>\n",
       "      <td>140.000000</td>\n",
       "      <td>0.000000</td>\n",
       "      <td>35.000000</td>\n",
       "      <td>0.000000</td>\n",
       "      <td>15.000000</td>\n",
       "      <td>0.000000</td>\n",
       "    </tr>\n",
       "    <tr>\n",
       "      <th>25%</th>\n",
       "      <td>1.000000</td>\n",
       "      <td>161.000000</td>\n",
       "      <td>0.000000</td>\n",
       "      <td>59.700000</td>\n",
       "      <td>0.000000</td>\n",
       "      <td>32.000000</td>\n",
       "      <td>0.000000</td>\n",
       "    </tr>\n",
       "    <tr>\n",
       "      <th>50%</th>\n",
       "      <td>1.000000</td>\n",
       "      <td>169.000000</td>\n",
       "      <td>0.000000</td>\n",
       "      <td>68.000000</td>\n",
       "      <td>0.000000</td>\n",
       "      <td>41.000000</td>\n",
       "      <td>0.000000</td>\n",
       "    </tr>\n",
       "    <tr>\n",
       "      <th>75%</th>\n",
       "      <td>2.000000</td>\n",
       "      <td>175.000000</td>\n",
       "      <td>0.000000</td>\n",
       "      <td>75.000000</td>\n",
       "      <td>0.000000</td>\n",
       "      <td>49.000000</td>\n",
       "      <td>0.000000</td>\n",
       "    </tr>\n",
       "    <tr>\n",
       "      <th>max</th>\n",
       "      <td>2.000000</td>\n",
       "      <td>204.000000</td>\n",
       "      <td>1.000000</td>\n",
       "      <td>136.100000</td>\n",
       "      <td>1.000000</td>\n",
       "      <td>86.000000</td>\n",
       "      <td>1.000000</td>\n",
       "    </tr>\n",
       "  </tbody>\n",
       "</table>\n",
       "</div>"
      ],
      "text/plain": [
       "                성별           신장        심혈관질환           체중         흡연여부  \\\n",
       "count  1894.000000  1894.000000  1894.000000  1894.000000  1894.000000   \n",
       "mean      1.383316   168.027983     0.035903    68.111140     0.217001   \n",
       "std       0.486323     9.211419     0.186097    11.234318     0.412312   \n",
       "min       1.000000   140.000000     0.000000    35.000000     0.000000   \n",
       "25%       1.000000   161.000000     0.000000    59.700000     0.000000   \n",
       "50%       1.000000   169.000000     0.000000    68.000000     0.000000   \n",
       "75%       2.000000   175.000000     0.000000    75.000000     0.000000   \n",
       "max       2.000000   204.000000     1.000000   136.100000     1.000000   \n",
       "\n",
       "                연령         재발여부  \n",
       "count  1894.000000  1894.000000  \n",
       "mean     41.463569     0.119852  \n",
       "std      13.444629     0.324874  \n",
       "min      15.000000     0.000000  \n",
       "25%      32.000000     0.000000  \n",
       "50%      41.000000     0.000000  \n",
       "75%      49.000000     0.000000  \n",
       "max      86.000000     1.000000  "
      ]
     },
     "execution_count": 45,
     "metadata": {},
     "output_type": "execute_result"
    }
   ],
   "source": [
    "# 분석 대상 : 성별,신장,심혈관질환,체중,흡연여부,연령,직업,혈액형,재발여부\n",
    "df_ROS_forpatient = df_ROS[['성별', '신장', '심혈관질환', '체중', '흡연여부','연령','직업', '혈액형','재발여부']]\n",
    "df_ROS_forpatient.describe()"
   ]
  },
  {
   "cell_type": "code",
   "execution_count": 22,
   "id": "5c254add-f348-4c05-ab4a-8710f7267de7",
   "metadata": {
    "tags": []
   },
   "outputs": [
    {
     "name": "stdout",
     "output_type": "stream",
     "text": [
      "<class 'pandas.core.frame.DataFrame'>\n",
      "RangeIndex: 1894 entries, 0 to 1893\n",
      "Data columns (total 9 columns):\n",
      " #   Column  Non-Null Count  Dtype  \n",
      "---  ------  --------------  -----  \n",
      " 0   성별      1894 non-null   int64  \n",
      " 1   신장      1894 non-null   int64  \n",
      " 2   심혈관질환   1894 non-null   int64  \n",
      " 3   체중      1894 non-null   float64\n",
      " 4   흡연여부    1894 non-null   int64  \n",
      " 5   연령      1894 non-null   int64  \n",
      " 6   직업      1479 non-null   object \n",
      " 7   혈액형     1894 non-null   object \n",
      " 8   재발여부    1894 non-null   int64  \n",
      "dtypes: float64(1), int64(6), object(2)\n",
      "memory usage: 133.3+ KB\n"
     ]
    }
   ],
   "source": [
    "df_ROS_forpatient.info()"
   ]
  },
  {
   "cell_type": "code",
   "execution_count": 46,
   "id": "841133bb-1d05-487e-a62a-7b33b1532eda",
   "metadata": {
    "tags": []
   },
   "outputs": [
    {
     "data": {
      "text/html": [
       "<div>\n",
       "<style scoped>\n",
       "    .dataframe tbody tr th:only-of-type {\n",
       "        vertical-align: middle;\n",
       "    }\n",
       "\n",
       "    .dataframe tbody tr th {\n",
       "        vertical-align: top;\n",
       "    }\n",
       "\n",
       "    .dataframe thead th {\n",
       "        text-align: right;\n",
       "    }\n",
       "</style>\n",
       "<table border=\"1\" class=\"dataframe\">\n",
       "  <thead>\n",
       "    <tr style=\"text-align: right;\">\n",
       "      <th></th>\n",
       "      <th>직업</th>\n",
       "      <th>혈액형</th>\n",
       "    </tr>\n",
       "  </thead>\n",
       "  <tbody>\n",
       "    <tr>\n",
       "      <th>count</th>\n",
       "      <td>1479</td>\n",
       "      <td>1894</td>\n",
       "    </tr>\n",
       "    <tr>\n",
       "      <th>unique</th>\n",
       "      <td>17</td>\n",
       "      <td>4</td>\n",
       "    </tr>\n",
       "    <tr>\n",
       "      <th>top</th>\n",
       "      <td>사무직</td>\n",
       "      <td>RH+A</td>\n",
       "    </tr>\n",
       "    <tr>\n",
       "      <th>freq</th>\n",
       "      <td>449</td>\n",
       "      <td>688</td>\n",
       "    </tr>\n",
       "  </tbody>\n",
       "</table>\n",
       "</div>"
      ],
      "text/plain": [
       "          직업   혈액형\n",
       "count   1479  1894\n",
       "unique    17     4\n",
       "top      사무직  RH+A\n",
       "freq     449   688"
      ]
     },
     "execution_count": 46,
     "metadata": {},
     "output_type": "execute_result"
    }
   ],
   "source": [
    "df_ROS_forpatient.describe(include=object) # 범주형"
   ]
  },
  {
   "cell_type": "code",
   "execution_count": 47,
   "id": "a3b705ac-9e5c-46de-a009-01ec7c1b4585",
   "metadata": {
    "tags": []
   },
   "outputs": [
    {
     "data": {
      "text/html": [
       "<div>\n",
       "<style scoped>\n",
       "    .dataframe tbody tr th:only-of-type {\n",
       "        vertical-align: middle;\n",
       "    }\n",
       "\n",
       "    .dataframe tbody tr th {\n",
       "        vertical-align: top;\n",
       "    }\n",
       "\n",
       "    .dataframe thead th {\n",
       "        text-align: right;\n",
       "    }\n",
       "</style>\n",
       "<table border=\"1\" class=\"dataframe\">\n",
       "  <thead>\n",
       "    <tr style=\"text-align: right;\">\n",
       "      <th></th>\n",
       "      <th>성별</th>\n",
       "      <th>신장</th>\n",
       "      <th>심혈관질환</th>\n",
       "      <th>체중</th>\n",
       "      <th>흡연여부</th>\n",
       "      <th>연령</th>\n",
       "      <th>재발여부</th>\n",
       "    </tr>\n",
       "  </thead>\n",
       "  <tbody>\n",
       "    <tr>\n",
       "      <th>count</th>\n",
       "      <td>1894.000000</td>\n",
       "      <td>1894.000000</td>\n",
       "      <td>1894.000000</td>\n",
       "      <td>1894.000000</td>\n",
       "      <td>1894.000000</td>\n",
       "      <td>1894.000000</td>\n",
       "      <td>1894.000000</td>\n",
       "    </tr>\n",
       "    <tr>\n",
       "      <th>mean</th>\n",
       "      <td>1.383316</td>\n",
       "      <td>168.027983</td>\n",
       "      <td>0.035903</td>\n",
       "      <td>68.111140</td>\n",
       "      <td>0.217001</td>\n",
       "      <td>41.463569</td>\n",
       "      <td>0.119852</td>\n",
       "    </tr>\n",
       "    <tr>\n",
       "      <th>std</th>\n",
       "      <td>0.486323</td>\n",
       "      <td>9.211419</td>\n",
       "      <td>0.186097</td>\n",
       "      <td>11.234318</td>\n",
       "      <td>0.412312</td>\n",
       "      <td>13.444629</td>\n",
       "      <td>0.324874</td>\n",
       "    </tr>\n",
       "    <tr>\n",
       "      <th>min</th>\n",
       "      <td>1.000000</td>\n",
       "      <td>140.000000</td>\n",
       "      <td>0.000000</td>\n",
       "      <td>35.000000</td>\n",
       "      <td>0.000000</td>\n",
       "      <td>15.000000</td>\n",
       "      <td>0.000000</td>\n",
       "    </tr>\n",
       "    <tr>\n",
       "      <th>25%</th>\n",
       "      <td>1.000000</td>\n",
       "      <td>161.000000</td>\n",
       "      <td>0.000000</td>\n",
       "      <td>59.700000</td>\n",
       "      <td>0.000000</td>\n",
       "      <td>32.000000</td>\n",
       "      <td>0.000000</td>\n",
       "    </tr>\n",
       "    <tr>\n",
       "      <th>50%</th>\n",
       "      <td>1.000000</td>\n",
       "      <td>169.000000</td>\n",
       "      <td>0.000000</td>\n",
       "      <td>68.000000</td>\n",
       "      <td>0.000000</td>\n",
       "      <td>41.000000</td>\n",
       "      <td>0.000000</td>\n",
       "    </tr>\n",
       "    <tr>\n",
       "      <th>75%</th>\n",
       "      <td>2.000000</td>\n",
       "      <td>175.000000</td>\n",
       "      <td>0.000000</td>\n",
       "      <td>75.000000</td>\n",
       "      <td>0.000000</td>\n",
       "      <td>49.000000</td>\n",
       "      <td>0.000000</td>\n",
       "    </tr>\n",
       "    <tr>\n",
       "      <th>max</th>\n",
       "      <td>2.000000</td>\n",
       "      <td>204.000000</td>\n",
       "      <td>1.000000</td>\n",
       "      <td>136.100000</td>\n",
       "      <td>1.000000</td>\n",
       "      <td>86.000000</td>\n",
       "      <td>1.000000</td>\n",
       "    </tr>\n",
       "  </tbody>\n",
       "</table>\n",
       "</div>"
      ],
      "text/plain": [
       "                성별           신장        심혈관질환           체중         흡연여부  \\\n",
       "count  1894.000000  1894.000000  1894.000000  1894.000000  1894.000000   \n",
       "mean      1.383316   168.027983     0.035903    68.111140     0.217001   \n",
       "std       0.486323     9.211419     0.186097    11.234318     0.412312   \n",
       "min       1.000000   140.000000     0.000000    35.000000     0.000000   \n",
       "25%       1.000000   161.000000     0.000000    59.700000     0.000000   \n",
       "50%       1.000000   169.000000     0.000000    68.000000     0.000000   \n",
       "75%       2.000000   175.000000     0.000000    75.000000     0.000000   \n",
       "max       2.000000   204.000000     1.000000   136.100000     1.000000   \n",
       "\n",
       "                연령         재발여부  \n",
       "count  1894.000000  1894.000000  \n",
       "mean     41.463569     0.119852  \n",
       "std      13.444629     0.324874  \n",
       "min      15.000000     0.000000  \n",
       "25%      32.000000     0.000000  \n",
       "50%      41.000000     0.000000  \n",
       "75%      49.000000     0.000000  \n",
       "max      86.000000     1.000000  "
      ]
     },
     "execution_count": 47,
     "metadata": {},
     "output_type": "execute_result"
    }
   ],
   "source": [
    "df_ROS_forpatient.describe() # 연속형"
   ]
  },
  {
   "cell_type": "code",
   "execution_count": 21,
   "id": "dfe025a8-c3e5-4f2b-a93e-163d15978619",
   "metadata": {
    "tags": []
   },
   "outputs": [
    {
     "data": {
      "image/png": "[encoded data removed]",
      "text/plain": [
       "<Figure size 640x480 with 1 Axes>"
      ]
     },
     "metadata": {},
     "output_type": "display_data"
    }
   ],
   "source": [
    "## 단일 변수 chart 각각 작성\n",
    "# 성별 chart\n",
    "sns.countplot(data=df_ROS_forpatient, x='성별')\n",
    "plt.title(\"성별\")\n",
    "plt.show()"
   ]
  },
  {
   "cell_type": "code",
   "execution_count": 25,
   "id": "a3b671ad-8b55-470c-942c-d22e0c10cac3",
   "metadata": {
    "tags": []
   },
   "outputs": [
    {
     "data": {
      "image/png": "[encoded data removed]",
      "text/plain": [
       "<Figure size 640x480 with 1 Axes>"
      ]
     },
     "metadata": {},
     "output_type": "display_data"
    }
   ],
   "source": [
    "# 신장 chart\n",
    "sns.histplot(data=df_ROS_forpatient, x='신장', kde='True') \n",
    "plt.show()"
   ]
  },
  {
   "cell_type": "code",
   "execution_count": 76,
   "id": "2b0f8869-02bf-4b29-a977-5c0c6cc4821a",
   "metadata": {
    "tags": []
   },
   "outputs": [
    {
     "data": {
      "image/png": "[encoded data removed]",
      "text/plain": [
       "<Figure size 640x480 with 1 Axes>"
      ]
     },
     "metadata": {},
     "output_type": "display_data"
    }
   ],
   "source": [
    "# 심혈관질환 chart\n",
    "sns.countplot(data=df_ROS_forpatient, x='심혈관질환')\n",
    "plt.show()"
   ]
  },
  {
   "cell_type": "code",
   "execution_count": 26,
   "id": "e17dc18f-23f0-4191-8d3b-f63f131945d0",
   "metadata": {
    "tags": []
   },
   "outputs": [
    {
     "data": {
      "image/png": "[encoded data removed]",
      "text/plain": [
       "<Figure size 640x480 with 1 Axes>"
      ]
     },
     "metadata": {},
     "output_type": "display_data"
    }
   ],
   "source": [
    "# 질환 chart\n",
    "sns.histplot(data=df_ROS_forpatient, x='체중', kde='True') \n",
    "plt.show()"
   ]
  },
  {
   "cell_type": "code",
   "execution_count": 77,
   "id": "ae3c1998-9ca2-46d5-807f-1d137352b827",
   "metadata": {
    "tags": []
   },
   "outputs": [
    {
     "data": {
      "image/png": "[encoded data removed]",
      "text/plain": [
       "<Figure size 640x480 with 1 Axes>"
      ]
     },
     "metadata": {},
     "output_type": "display_data"
    }
   ],
   "source": [
    "# 흡연여부 chart\n",
    "sns.countplot(data=df_ROS_forpatient, x='흡연여부')\n",
    "plt.show()"
   ]
  },
  {
   "cell_type": "code",
   "execution_count": 30,
   "id": "866aab57-5ccf-4e45-ab8d-34c1ee440e62",
   "metadata": {
    "tags": []
   },
   "outputs": [
    {
     "data": {
      "text/plain": [
       "<Axes: xlabel='연령'>"
      ]
     },
     "execution_count": 30,
     "metadata": {},
     "output_type": "execute_result"
    },
    {
     "data": {
      "image/png": "[encoded data removed]",
      "text/plain": [
       "<Figure size 640x480 with 1 Axes>"
      ]
     },
     "metadata": {},
     "output_type": "display_data"
    }
   ],
   "source": [
    "# 연령 chart\n",
    "sns.boxplot(data=df_ROS_forpatient, x='연령') # 사분위 표시, 중앙값"
   ]
  },
  {
   "cell_type": "code",
   "execution_count": 32,
   "id": "7f346a13-8b22-4901-9635-b37abf1ad8c3",
   "metadata": {
    "tags": []
   },
   "outputs": [
    {
     "data": {
      "text/plain": [
       "['사무직',\n",
       " '자영업',\n",
       " '무직',\n",
       " '학생',\n",
       " '주부',\n",
       " '군인',\n",
       " '공무원',\n",
       " '운수업',\n",
       " '노동직',\n",
       " '농업',\n",
       " '의료직',\n",
       " '사업가',\n",
       " '교사',\n",
       " '특수전문직',\n",
       " '건설업',\n",
       " '운동선수',\n",
       " '예술가']"
      ]
     },
     "execution_count": 32,
     "metadata": {},
     "output_type": "execute_result"
    }
   ],
   "source": [
    "# 직업 chart\n",
    "order_list = df_ROS_forpatient['직업'].value_counts().index.to_list()\n",
    "order_list"
   ]
  },
  {
   "cell_type": "code",
   "execution_count": 75,
   "id": "8ff63bed-e6a2-4c20-8f65-d94fbdcf0563",
   "metadata": {
    "tags": []
   },
   "outputs": [
    {
     "data": {
      "image/png": "[encoded data removed]",
      "text/plain": [
       "<Figure size 640x480 with 1 Axes>"
      ]
     },
     "metadata": {},
     "output_type": "display_data"
    }
   ],
   "source": [
    "sns.countplot(data=df_ROS_forpatient, y='직업', order=order_list)\n",
    "plt.title(\"직업\")\n",
    "plt.show()"
   ]
  },
  {
   "cell_type": "code",
   "execution_count": 34,
   "id": "c938c747-a61d-44ab-ba8b-7b6b8616e493",
   "metadata": {
    "tags": []
   },
   "outputs": [
    {
     "data": {
      "image/png": "[encoded data removed]",
      "text/plain": [
       "<Figure size 640x480 with 1 Axes>"
      ]
     },
     "metadata": {},
     "output_type": "display_data"
    }
   ],
   "source": [
    "# 혈액형 chart\n",
    "\n",
    "sns.countplot(data=df_ROS_forpatient, x='혈액형')\n",
    "plt.title(\"혈액형\")\n",
    "plt.show()"
   ]
  },
  {
   "cell_type": "code",
   "execution_count": 78,
   "id": "38e65400-6ffb-4d48-aaf9-383aafe16bcf",
   "metadata": {
    "tags": []
   },
   "outputs": [
    {
     "data": {
      "image/png": "[encoded data removed]",
      "text/plain": [
       "<Figure size 640x480 with 1 Axes>"
      ]
     },
     "metadata": {},
     "output_type": "display_data"
    }
   ],
   "source": [
    "# 재발여부 chart\n",
    "\n",
    "sns.countplot(data=df_ROS_forpatient, x='재발여부')\n",
    "plt.show()"
   ]
  },
  {
   "cell_type": "markdown",
   "id": "1a8e0c3a-40dc-4979-8e8c-55837cf21c0d",
   "metadata": {},
   "source": [
    "### 데이터셋 만들기 "
   ]
  },
  {
   "cell_type": "code",
   "execution_count": 40,
   "id": "50c3dd17-c268-4da8-a8bd-17f6bd60e455",
   "metadata": {
    "tags": []
   },
   "outputs": [
    {
     "name": "stdout",
     "output_type": "stream",
     "text": [
      "<class 'pandas.core.frame.DataFrame'>\n",
      "RangeIndex: 1894 entries, 0 to 1893\n",
      "Data columns (total 9 columns):\n",
      " #   Column  Non-Null Count  Dtype  \n",
      "---  ------  --------------  -----  \n",
      " 0   성별      1894 non-null   int64  \n",
      " 1   신장      1894 non-null   int64  \n",
      " 2   심혈관질환   1894 non-null   int64  \n",
      " 3   체중      1894 non-null   float64\n",
      " 4   흡연여부    1894 non-null   int64  \n",
      " 5   연령      1894 non-null   int64  \n",
      " 6   직업      1479 non-null   object \n",
      " 7   혈액형     1894 non-null   object \n",
      " 8   재발여부    1894 non-null   int64  \n",
      "dtypes: float64(1), int64(6), object(2)\n",
      "memory usage: 133.3+ KB\n"
     ]
    }
   ],
   "source": [
    "df_ROS_forpatient.info()"
   ]
  },
  {
   "cell_type": "code",
   "execution_count": 41,
   "id": "de667ab3-d5a2-4bb2-9c3e-520f125db4ce",
   "metadata": {
    "tags": []
   },
   "outputs": [
    {
     "data": {
      "text/plain": [
       "성별         0\n",
       "신장         0\n",
       "심혈관질환      0\n",
       "체중         0\n",
       "흡연여부       0\n",
       "연령         0\n",
       "직업       415\n",
       "혈액형        0\n",
       "재발여부       0\n",
       "dtype: int64"
      ]
     },
     "execution_count": 41,
     "metadata": {},
     "output_type": "execute_result"
    }
   ],
   "source": [
    "df_ROS_forpatient.isnull().sum() # 결측치 확인"
   ]
  },
  {
   "cell_type": "code",
   "execution_count": 42,
   "id": "e95bb02b-584e-4da8-b02b-b8cacaa604cd",
   "metadata": {
    "tags": []
   },
   "outputs": [
    {
     "data": {
      "text/html": [
       "<div>\n",
       "<style scoped>\n",
       "    .dataframe tbody tr th:only-of-type {\n",
       "        vertical-align: middle;\n",
       "    }\n",
       "\n",
       "    .dataframe tbody tr th {\n",
       "        vertical-align: top;\n",
       "    }\n",
       "\n",
       "    .dataframe thead th {\n",
       "        text-align: right;\n",
       "    }\n",
       "</style>\n",
       "<table border=\"1\" class=\"dataframe\">\n",
       "  <thead>\n",
       "    <tr style=\"text-align: right;\">\n",
       "      <th></th>\n",
       "      <th>성별</th>\n",
       "      <th>신장</th>\n",
       "      <th>심혈관질환</th>\n",
       "      <th>체중</th>\n",
       "      <th>흡연여부</th>\n",
       "      <th>연령</th>\n",
       "      <th>직업</th>\n",
       "      <th>혈액형</th>\n",
       "      <th>재발여부</th>\n",
       "    </tr>\n",
       "  </thead>\n",
       "  <tbody>\n",
       "    <tr>\n",
       "      <th>0</th>\n",
       "      <td>2</td>\n",
       "      <td>163</td>\n",
       "      <td>0</td>\n",
       "      <td>60.3</td>\n",
       "      <td>0</td>\n",
       "      <td>66</td>\n",
       "      <td>자영업</td>\n",
       "      <td>RH+A</td>\n",
       "      <td>0</td>\n",
       "    </tr>\n",
       "    <tr>\n",
       "      <th>1</th>\n",
       "      <td>1</td>\n",
       "      <td>171</td>\n",
       "      <td>0</td>\n",
       "      <td>71.7</td>\n",
       "      <td>0</td>\n",
       "      <td>47</td>\n",
       "      <td>운동선수</td>\n",
       "      <td>RH+A</td>\n",
       "      <td>0</td>\n",
       "    </tr>\n",
       "    <tr>\n",
       "      <th>2</th>\n",
       "      <td>1</td>\n",
       "      <td>178</td>\n",
       "      <td>0</td>\n",
       "      <td>77.1</td>\n",
       "      <td>0</td>\n",
       "      <td>39</td>\n",
       "      <td>특수전문직</td>\n",
       "      <td>RH+B</td>\n",
       "      <td>0</td>\n",
       "    </tr>\n",
       "    <tr>\n",
       "      <th>3</th>\n",
       "      <td>1</td>\n",
       "      <td>174</td>\n",
       "      <td>0</td>\n",
       "      <td>74.2</td>\n",
       "      <td>0</td>\n",
       "      <td>40</td>\n",
       "      <td>주부</td>\n",
       "      <td>RH+O</td>\n",
       "      <td>0</td>\n",
       "    </tr>\n",
       "    <tr>\n",
       "      <th>4</th>\n",
       "      <td>1</td>\n",
       "      <td>183</td>\n",
       "      <td>0</td>\n",
       "      <td>80.7</td>\n",
       "      <td>0</td>\n",
       "      <td>42</td>\n",
       "      <td>특수전문직</td>\n",
       "      <td>RH+A</td>\n",
       "      <td>0</td>\n",
       "    </tr>\n",
       "    <tr>\n",
       "      <th>...</th>\n",
       "      <td>...</td>\n",
       "      <td>...</td>\n",
       "      <td>...</td>\n",
       "      <td>...</td>\n",
       "      <td>...</td>\n",
       "      <td>...</td>\n",
       "      <td>...</td>\n",
       "      <td>...</td>\n",
       "      <td>...</td>\n",
       "    </tr>\n",
       "    <tr>\n",
       "      <th>1889</th>\n",
       "      <td>2</td>\n",
       "      <td>157</td>\n",
       "      <td>0</td>\n",
       "      <td>64.0</td>\n",
       "      <td>0</td>\n",
       "      <td>59</td>\n",
       "      <td>무직</td>\n",
       "      <td>RH+A</td>\n",
       "      <td>0</td>\n",
       "    </tr>\n",
       "    <tr>\n",
       "      <th>1890</th>\n",
       "      <td>2</td>\n",
       "      <td>157</td>\n",
       "      <td>0</td>\n",
       "      <td>59.0</td>\n",
       "      <td>0</td>\n",
       "      <td>42</td>\n",
       "      <td>사무직</td>\n",
       "      <td>RH+B</td>\n",
       "      <td>0</td>\n",
       "    </tr>\n",
       "    <tr>\n",
       "      <th>1891</th>\n",
       "      <td>1</td>\n",
       "      <td>167</td>\n",
       "      <td>0</td>\n",
       "      <td>70.0</td>\n",
       "      <td>0</td>\n",
       "      <td>61</td>\n",
       "      <td>무직</td>\n",
       "      <td>RH+O</td>\n",
       "      <td>0</td>\n",
       "    </tr>\n",
       "    <tr>\n",
       "      <th>1892</th>\n",
       "      <td>1</td>\n",
       "      <td>177</td>\n",
       "      <td>0</td>\n",
       "      <td>77.0</td>\n",
       "      <td>0</td>\n",
       "      <td>29</td>\n",
       "      <td>사무직</td>\n",
       "      <td>RH+A</td>\n",
       "      <td>0</td>\n",
       "    </tr>\n",
       "    <tr>\n",
       "      <th>1893</th>\n",
       "      <td>2</td>\n",
       "      <td>168</td>\n",
       "      <td>0</td>\n",
       "      <td>49.0</td>\n",
       "      <td>0</td>\n",
       "      <td>30</td>\n",
       "      <td>사무직</td>\n",
       "      <td>RH+AB</td>\n",
       "      <td>0</td>\n",
       "    </tr>\n",
       "  </tbody>\n",
       "</table>\n",
       "<p>1479 rows × 9 columns</p>\n",
       "</div>"
      ],
      "text/plain": [
       "      성별   신장  심혈관질환    체중  흡연여부  연령     직업    혈액형  재발여부\n",
       "0      2  163      0  60.3     0  66    자영업   RH+A     0\n",
       "1      1  171      0  71.7     0  47   운동선수   RH+A     0\n",
       "2      1  178      0  77.1     0  39  특수전문직   RH+B     0\n",
       "3      1  174      0  74.2     0  40     주부   RH+O     0\n",
       "4      1  183      0  80.7     0  42  특수전문직   RH+A     0\n",
       "...   ..  ...    ...   ...   ...  ..    ...    ...   ...\n",
       "1889   2  157      0  64.0     0  59     무직   RH+A     0\n",
       "1890   2  157      0  59.0     0  42    사무직   RH+B     0\n",
       "1891   1  167      0  70.0     0  61     무직   RH+O     0\n",
       "1892   1  177      0  77.0     0  29    사무직   RH+A     0\n",
       "1893   2  168      0  49.0     0  30    사무직  RH+AB     0\n",
       "\n",
       "[1479 rows x 9 columns]"
      ]
     },
     "execution_count": 42,
     "metadata": {},
     "output_type": "execute_result"
    }
   ],
   "source": [
    "df_ROS_forpatient.dropna()"
   ]
  },
  {
   "cell_type": "code",
   "execution_count": 59,
   "id": "9cf238c9-6064-4343-b232-f27e85311a9a",
   "metadata": {
    "tags": []
   },
   "outputs": [
    {
     "name": "stdout",
     "output_type": "stream",
     "text": [
      "<class 'pandas.core.frame.DataFrame'>\n",
      "Int64Index: 1479 entries, 0 to 1893\n",
      "Data columns (total 9 columns):\n",
      " #   Column  Non-Null Count  Dtype  \n",
      "---  ------  --------------  -----  \n",
      " 0   성별      1479 non-null   int64  \n",
      " 1   신장      1479 non-null   int64  \n",
      " 2   심혈관질환   1479 non-null   int64  \n",
      " 3   체중      1479 non-null   float64\n",
      " 4   흡연여부    1479 non-null   int64  \n",
      " 5   연령      1479 non-null   int64  \n",
      " 6   직업      1479 non-null   object \n",
      " 7   혈액형     1479 non-null   object \n",
      " 8   재발여부    1479 non-null   int64  \n",
      "dtypes: float64(1), int64(6), object(2)\n",
      "memory usage: 115.5+ KB\n"
     ]
    }
   ],
   "source": [
    "df_ROS_forpatient_dropna = df_ROS_forpatient.dropna() \n",
    "df_ROS_forpatient_dropna.info() # 결측치 삭제"
   ]
  },
  {
   "cell_type": "code",
   "execution_count": 52,
   "id": "0f02109c-8680-41d9-bf1b-b831cef515db",
   "metadata": {
    "tags": []
   },
   "outputs": [
    {
     "data": {
      "text/plain": [
       "count    1479.000000\n",
       "mean       39.980392\n",
       "std        13.314364\n",
       "min        15.000000\n",
       "25%        30.000000\n",
       "50%        39.000000\n",
       "75%        47.000000\n",
       "max        86.000000\n",
       "Name: 연령, dtype: float64"
      ]
     },
     "execution_count": 52,
     "metadata": {},
     "output_type": "execute_result"
    }
   ],
   "source": [
    "df_ROS_forpatient_dropna['연령'].describe()"
   ]
  },
  {
   "cell_type": "code",
   "execution_count": null,
   "id": "a328294f-e644-405f-bc0f-3566256b6fe6",
   "metadata": {},
   "outputs": [],
   "source": [
    "# 연령 이상치 제거 \n",
    "- Q1 * 1.5, Q3 * 1.5 밖의 값"
   ]
  },
  {
   "cell_type": "code",
   "execution_count": 53,
   "id": "b244e228-9eec-4274-a74a-8489871de959",
   "metadata": {
    "tags": []
   },
   "outputs": [],
   "source": [
    "# Q1 , Q3 구하기 \n",
    "Q1 = df_ROS_forpatient_dropna['연령'].describe()['25%']\n",
    "Q3 = df_ROS_forpatient_dropna['연령'].describe()['75%']\n",
    "IQR = Q3 -Q1"
   ]
  },
  {
   "cell_type": "code",
   "execution_count": 38,
   "id": "462f734f-2da2-48b7-be31-1f95d941ffa2",
   "metadata": {
    "tags": []
   },
   "outputs": [
    {
     "data": {
      "text/plain": [
       "(32.0, 49.0, 17.0)"
      ]
     },
     "execution_count": 38,
     "metadata": {},
     "output_type": "execute_result"
    }
   ],
   "source": [
    "Q1, Q3, IQR"
   ]
  },
  {
   "cell_type": "code",
   "execution_count": 55,
   "id": "4ea2014f-ee50-41e5-b11b-e4b50a5370eb",
   "metadata": {
    "tags": []
   },
   "outputs": [
    {
     "data": {
      "text/plain": [
       "0       True\n",
       "1       True\n",
       "2       True\n",
       "3       True\n",
       "4       True\n",
       "        ... \n",
       "1889    True\n",
       "1890    True\n",
       "1891    True\n",
       "1892    True\n",
       "1893    True\n",
       "Name: 연령, Length: 1479, dtype: bool"
      ]
     },
     "execution_count": 55,
     "metadata": {},
     "output_type": "execute_result"
    }
   ],
   "source": [
    "#filler\n",
    "condition = (df_ROS_forpatient_dropna['연령'] < bound_up) # 긍정 조건 변환\n",
    "condition"
   ]
  },
  {
   "cell_type": "code",
   "execution_count": 54,
   "id": "ebdfd141-1be9-47a3-8509-30f66e6c2079",
   "metadata": {
    "tags": []
   },
   "outputs": [
    {
     "data": {
      "text/plain": [
       "(4.5, 72.5)"
      ]
     },
     "execution_count": 54,
     "metadata": {},
     "output_type": "execute_result"
    }
   ],
   "source": [
    "bound_up = Q3 + 1.5 * IQR\n",
    "bound_low = Q1 - 1.5 * IQR\n",
    "bound_low, bound_up"
   ]
  },
  {
   "cell_type": "code",
   "execution_count": 56,
   "id": "d995719f-3423-4ae2-8981-625925c49e58",
   "metadata": {
    "tags": []
   },
   "outputs": [],
   "source": [
    "df_ROS_condition = df_ROS_forpatient_dropna[condition]"
   ]
  },
  {
   "cell_type": "code",
   "execution_count": 69,
   "id": "979fec32-49fa-4c28-b85d-0fa402f33ba9",
   "metadata": {
    "tags": []
   },
   "outputs": [
    {
     "data": {
      "image/png": "[encoded data removed]",
      "text/plain": [
       "<Figure size 640x480 with 1 Axes>"
      ]
     },
     "metadata": {},
     "output_type": "display_data"
    }
   ],
   "source": [
    "sns.boxplot(df_ROS_condition, x='연령')\n",
    "plt.title('연령 이상치 제거')\n",
    "plt.show()"
   ]
  },
  {
   "cell_type": "code",
   "execution_count": 63,
   "id": "7adaf01e-7141-4934-a567-d61f7c205126",
   "metadata": {
    "tags": []
   },
   "outputs": [
    {
     "data": {
      "text/plain": [
       "count    1479.000000\n",
       "mean      168.158891\n",
       "std         9.250669\n",
       "min       140.000000\n",
       "25%       161.000000\n",
       "50%       169.000000\n",
       "75%       175.000000\n",
       "max       204.000000\n",
       "Name: 신장, dtype: float64"
      ]
     },
     "execution_count": 63,
     "metadata": {},
     "output_type": "execute_result"
    }
   ],
   "source": [
    "# 신장 이상치 제거\n",
    "df_ROS_forpatient_dropna['신장'].describe()"
   ]
  },
  {
   "cell_type": "code",
   "execution_count": 65,
   "id": "a7f53019-d312-42f0-b09b-23dab6b6ed7b",
   "metadata": {
    "tags": []
   },
   "outputs": [],
   "source": [
    "Q1 = df_ROS_forpatient_dropna['신장'].describe()['25%']\n",
    "Q3 = df_ROS_forpatient_dropna['신장'].describe()['75%']\n",
    "IQR = Q3 - Q1"
   ]
  },
  {
   "cell_type": "code",
   "execution_count": 66,
   "id": "db8fea1b-9351-439c-a3b0-2d2c5ee48a4f",
   "metadata": {
    "tags": []
   },
   "outputs": [
    {
     "data": {
      "text/plain": [
       "(161.0, 175.0, 14.0)"
      ]
     },
     "execution_count": 66,
     "metadata": {},
     "output_type": "execute_result"
    }
   ],
   "source": [
    "Q1, Q3, IQR"
   ]
  },
  {
   "cell_type": "code",
   "execution_count": 67,
   "id": "37da193e-7537-47ed-b068-a967e5c120a5",
   "metadata": {
    "tags": []
   },
   "outputs": [
    {
     "data": {
      "text/plain": [
       "(140.0, 196.0)"
      ]
     },
     "execution_count": 67,
     "metadata": {},
     "output_type": "execute_result"
    }
   ],
   "source": [
    "bound_up = Q3 + 1.5 * IQR\n",
    "bound_down = Q1 - 1.5 *IQR\n",
    "bound_down, bound_up"
   ]
  },
  {
   "cell_type": "code",
   "execution_count": 68,
   "id": "193acdab-e303-4f61-bbd6-e01c332520e0",
   "metadata": {
    "tags": []
   },
   "outputs": [
    {
     "data": {
      "text/plain": [
       "Text(0.5, 1.0, '신장 이상치 제거')"
      ]
     },
     "execution_count": 68,
     "metadata": {},
     "output_type": "execute_result"
    },
    {
     "data": {
      "image/png": "[encoded data removed]",
      "text/plain": [
       "<Figure size 640x480 with 1 Axes>"
      ]
     },
     "metadata": {},
     "output_type": "display_data"
    }
   ],
   "source": [
    "condition = (df_ROS_forpatient_dropna['신장']<= bound_up)\n",
    "df_ROS_forpatient_dropna_length = df_ROS_forpatient_dropna[condition]\n",
    "sns.boxplot(df_ROS_forpatient_dropna_length, x= '신장')\n",
    "plt.title('신장 이상치 제거')"
   ]
  },
  {
   "cell_type": "code",
   "execution_count": 70,
   "id": "88373c61-4402-45f8-b1e6-5269298a40f8",
   "metadata": {
    "tags": []
   },
   "outputs": [
    {
     "data": {
      "text/plain": [
       "count    1479.000000\n",
       "mean       68.243070\n",
       "std        11.426661\n",
       "min        35.000000\n",
       "25%        60.000000\n",
       "50%        67.800000\n",
       "75%        75.150000\n",
       "max       136.100000\n",
       "Name: 체중, dtype: float64"
      ]
     },
     "execution_count": 70,
     "metadata": {},
     "output_type": "execute_result"
    }
   ],
   "source": [
    "# 체중 이상치 제거\n",
    "df_ROS_forpatient_dropna['체중'].describe()"
   ]
  },
  {
   "cell_type": "code",
   "execution_count": 71,
   "id": "26bb34a9-929c-43aa-96ee-30c930e54bec",
   "metadata": {
    "tags": []
   },
   "outputs": [],
   "source": [
    "Q1 = df_ROS_forpatient_dropna['체중'].describe()['25%']\n",
    "Q3 = df_ROS_forpatient_dropna['체중'].describe()['75%']\n",
    "IQR = Q3 - Q1"
   ]
  },
  {
   "cell_type": "code",
   "execution_count": 72,
   "id": "c94c3dae-ded7-4baf-a521-b604e55c01cb",
   "metadata": {
    "tags": []
   },
   "outputs": [
    {
     "data": {
      "text/plain": [
       "(60.0, 75.15, 15.150000000000006)"
      ]
     },
     "execution_count": 72,
     "metadata": {},
     "output_type": "execute_result"
    }
   ],
   "source": [
    "Q1, Q3, IQR"
   ]
  },
  {
   "cell_type": "code",
   "execution_count": 73,
   "id": "b4372df9-a791-43ed-862c-a937380602c7",
   "metadata": {
    "tags": []
   },
   "outputs": [
    {
     "data": {
      "text/plain": [
       "(97.87500000000001, 37.27499999999999)"
      ]
     },
     "execution_count": 73,
     "metadata": {},
     "output_type": "execute_result"
    }
   ],
   "source": [
    "bound_up = Q3 + 1.5 * IQR\n",
    "bound_down = Q1 - 1.5 * IQR\n",
    "bound_up, bound_down"
   ]
  },
  {
   "cell_type": "code",
   "execution_count": 74,
   "id": "efda8c64-8a0d-44f2-8f2b-0073e912aadf",
   "metadata": {
    "tags": []
   },
   "outputs": [
    {
     "data": {
      "text/plain": [
       "Text(0.5, 1.0, '체중 이상치 제거')"
      ]
     },
     "execution_count": 74,
     "metadata": {},
     "output_type": "execute_result"
    },
    {
     "data": {
      "image/png": "[encoded data removed]",
      "text/plain": [
       "<Figure size 640x480 with 1 Axes>"
      ]
     },
     "metadata": {},
     "output_type": "display_data"
    }
   ],
   "source": [
    "condition = (df_ROS_forpatient_dropna['체중']<= bound_up)\n",
    "df_ROS_forpatient_dropna_length = df_ROS_forpatient_dropna[condition]\n",
    "sns.boxplot(df_ROS_forpatient_dropna_length, x= '체중')\n",
    "plt.title('체중 이상치 제거')"
   ]
  },
  {
   "cell_type": "code",
   "execution_count": null,
   "id": "4472f34d-11a5-471b-8924-b9aa39bbc674",
   "metadata": {},
   "outputs": [],
   "source": []
  }
 ],
 "metadata": {
  "kernelspec": {
   "display_name": "Python 3 (ipykernel)",
   "language": "python",
   "name": "python3"
  },
  "language_info": {
   "codemirror_mode": {
    "name": "ipython",
    "version": 3
   },
   "file_extension": ".py",
   "mimetype": "text/x-python",
   "name": "python",
   "nbconvert_exporter": "python",
   "pygments_lexer": "ipython3",
   "version": "3.11.3"
  }
 },
 "nbformat": 4,
 "nbformat_minor": 5
}
