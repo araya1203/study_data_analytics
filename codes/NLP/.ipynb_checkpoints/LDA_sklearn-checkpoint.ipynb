{
 "cells": [
  {
   "cell_type": "code",
   "execution_count": 1,
   "id": "cb196b8f-e6b2-4e5a-bbab-dd1aeb5337af",
   "metadata": {
    "tags": []
   },
   "outputs": [],
   "source": [
    "# %pip install python-mecab-ko"
   ]
  },
  {
   "cell_type": "code",
   "execution_count": 40,
   "id": "a7db1819-ecee-4eb8-9743-06038b6f09f3",
   "metadata": {
    "tags": []
   },
   "outputs": [],
   "source": [
    "sentences = [\n",
    "    \"오늘 날씨가 좋아서 나들이 가고 싶다.\", # -> [오늘, 날씨가, 좋아서 ...]\n",
    "    \"이 영화는 정말 재미있었어요.\",\n",
    "    \"맛있는 음식을 먹으러 갈까요?\",\n",
    "    \"운동을 하면 건강에 좋아지는 것 같아요.\",\n",
    "    \"공부하기 싫어서 미루고 있어요.\",\n",
    "    \"여행 계획을 세우고 있는데 어디로 갈까요?\",\n",
    "    \"좋은 책을 읽으면 마음이 편안해져요.\",\n",
    "    \"오늘은 친구들과 만나서 재미있게 놀았어요.\",\n",
    "    \"새로운 언어를 배우는 것은 어려워도 흥미로워요.\",\n",
    "    \"주말에 가족들과 함께 시간을 보내기로 했습니다.\"\n",
    "]"
   ]
  },
  {
   "cell_type": "code",
   "execution_count": 41,
   "id": "4ceb0f23-e03f-4703-bb8c-887b1054d9b9",
   "metadata": {},
   "outputs": [],
   "source": [
    "# 자연어 전처리\n",
    "# 자연어 처리는 데이터 분포 처리하기 위함. 비정형데이터라고 해서 분포가 빠지지 않음. 어쨋든 분포가 들어가야함. 분포를 찾기 위해 비슷한 점을 찾아야한다. 분포에 도움이 안되는 경우 우리나라 언어 중 조사임. 조사는 빼내야 한다. \n",
    "# 문장에서 필요없는 것 빼내야함. 첫번째 토크나이저에서 하는 것은 필요없는 품사 빼내고, 두번째 stopword, 세번째 특정 글자 빼버림. \n",
    "# 그리고 나면 오늘 날씨 "
   ]
  },
  {
   "cell_type": "code",
   "execution_count": 42,
   "id": "9bb6d3f0-dd8c-4dc4-bdbc-6eb78f5c4982",
   "metadata": {
    "tags": []
   },
   "outputs": [],
   "source": [
    "# !pip install konlpy"
   ]
  },
  {
   "cell_type": "markdown",
   "id": "5b001e79-bb04-4e8e-89d1-4e8a2c134b19",
   "metadata": {},
   "source": [
    "### 자연어 전처리 "
   ]
  },
  {
   "cell_type": "code",
   "execution_count": 43,
   "id": "9571d777-3f82-4e11-b7e9-96bbb6f5de1b",
   "metadata": {},
   "outputs": [],
   "source": [
    "from mecab import MeCab\n",
    "mecab = MeCab()\n",
    "# 형태분석기 사용해 명사만 추출\n",
    "# morphs_list = list()\n",
    "# for sentence in sentences :\n",
    "#     morphs = mecab.nouns(sentence)\n",
    "#     morphs_list = morphs_list + morphs\n",
    "# morphs_list"
   ]
  },
  {
   "cell_type": "code",
   "execution_count": 44,
   "id": "52909902-cfe0-466e-81f6-97995b75246b",
   "metadata": {
    "tags": []
   },
   "outputs": [],
   "source": [
    "# 불용어 리스트 생성 (예시)\n",
    "stopwords = ['가', '고', '을', '를', '이', '는']\n",
    "from konlpy.tag import Okt\n",
    "\n",
    "# Okt 형태소 분석기 인스턴스 생성\n",
    "okt = Okt()\n",
    "\n",
    "# 불용어 리스트 생성 (예시)\n",
    "stopwords = ['가', '고', '을', '를', '이', '는']\n",
    "\n",
    "# 토크나이징 함수 정의\n",
    "def tokenizer(raw, pos=[\"Noun\",\"Alpha\",\"Verb\",\"Number\"], stopword=stopwords):\n",
    "    \n",
    "    return [\n",
    "        word for word, tag in okt.pos(\n",
    "            raw, \n",
    "            norm=True,   # normalize 그랰ㅋㅏ -> 그래ㅋㅋ\n",
    "            stem=True    # stemming 바뀌나->바뀌다\n",
    "            )\n",
    "            if len(word) > 1 and tag in pos and word not in stopword\n",
    "\n",
    "    ]"
   ]
  },
  {
   "cell_type": "code",
   "execution_count": 45,
   "id": "1f318f6a-0c06-4578-9fa1-2be3a641d0a5",
   "metadata": {},
   "outputs": [
    {
     "name": "stderr",
     "output_type": "stream",
     "text": [
      "C:\\Users\\04-02\\anaconda3\\Lib\\site-packages\\sklearn\\feature_extraction\\text.py:528: UserWarning: The parameter 'token_pattern' will not be used since 'tokenizer' is not None'\n",
      "  warnings.warn(\n"
     ]
    },
    {
     "data": {
      "text/plain": [
       "array([[0.46015789, 0.        , 0.        , 0.        , 0.        ,\n",
       "        0.        , 0.46015789, 0.46015789, 0.        , 0.        ,\n",
       "        0.        , 0.        , 0.        , 0.        , 0.        ,\n",
       "        0.        , 0.        , 0.46015789, 0.        , 0.        ,\n",
       "        0.        , 0.        , 0.39117625, 0.        , 0.        ,\n",
       "        0.        , 0.        , 0.        , 0.        , 0.        ,\n",
       "        0.        ],\n",
       "       [0.        , 0.        , 0.        , 0.        , 0.        ,\n",
       "        0.        , 0.        , 0.        , 0.        , 0.        ,\n",
       "        0.        , 0.        , 0.        , 0.        , 0.        ,\n",
       "        0.        , 0.        , 0.        , 0.        , 0.        ,\n",
       "        0.        , 0.70710678, 0.        , 0.        , 0.        ,\n",
       "        0.        , 0.70710678, 0.        , 0.        , 0.        ,\n",
       "        0.        ],\n",
       "       [0.        , 0.        , 0.51519219, 0.        , 0.        ,\n",
       "        0.        , 0.        , 0.        , 0.        , 0.        ,\n",
       "        0.        , 0.60604332, 0.        , 0.        , 0.        ,\n",
       "        0.        , 0.        , 0.        , 0.        , 0.        ,\n",
       "        0.        , 0.        , 0.        , 0.        , 0.60604332,\n",
       "        0.        , 0.        , 0.        , 0.        , 0.        ,\n",
       "        0.        ],\n",
       "       [0.        , 0.        , 0.        , 0.53051081, 0.        ,\n",
       "        0.        , 0.        , 0.        , 0.        , 0.        ,\n",
       "        0.        , 0.        , 0.        , 0.        , 0.        ,\n",
       "        0.        , 0.        , 0.        , 0.        , 0.        ,\n",
       "        0.        , 0.        , 0.        , 0.53051081, 0.        ,\n",
       "        0.        , 0.        , 0.53051081, 0.        , 0.        ,\n",
       "        0.39455653],\n",
       "       [0.        , 0.        , 0.        , 0.        , 0.        ,\n",
       "        0.62583988, 0.        , 0.        , 0.        , 0.        ,\n",
       "        0.        , 0.        , 0.62583988, 0.        , 0.        ,\n",
       "        0.        , 0.        , 0.        , 0.        , 0.        ,\n",
       "        0.        , 0.        , 0.        , 0.        , 0.        ,\n",
       "        0.        , 0.        , 0.        , 0.        , 0.        ,\n",
       "        0.46545557],\n",
       "       [0.        , 0.        , 0.39117625, 0.        , 0.46015789,\n",
       "        0.        , 0.        , 0.        , 0.        , 0.        ,\n",
       "        0.        , 0.        , 0.        , 0.        , 0.        ,\n",
       "        0.46015789, 0.        , 0.        , 0.46015789, 0.        ,\n",
       "        0.46015789, 0.        , 0.        , 0.        , 0.        ,\n",
       "        0.        , 0.        , 0.        , 0.        , 0.        ,\n",
       "        0.        ],\n",
       "       [0.        , 0.        , 0.        , 0.        , 0.        ,\n",
       "        0.        , 0.        , 0.        , 0.        , 0.70710678,\n",
       "        0.        , 0.        , 0.        , 0.        , 0.        ,\n",
       "        0.        , 0.        , 0.        , 0.        , 0.        ,\n",
       "        0.        , 0.        , 0.        , 0.        , 0.        ,\n",
       "        0.70710678, 0.        , 0.        , 0.        , 0.        ,\n",
       "        0.        ],\n",
       "       [0.        , 0.        , 0.        , 0.        , 0.        ,\n",
       "        0.        , 0.        , 0.        , 0.5182909 , 0.        ,\n",
       "        0.5182909 , 0.        , 0.        , 0.        , 0.        ,\n",
       "        0.        , 0.        , 0.        , 0.        , 0.        ,\n",
       "        0.        , 0.        , 0.44059462, 0.        , 0.        ,\n",
       "        0.        , 0.        , 0.        , 0.        , 0.5182909 ,\n",
       "        0.        ],\n",
       "       [0.        , 0.        , 0.        , 0.        , 0.        ,\n",
       "        0.        , 0.        , 0.        , 0.        , 0.        ,\n",
       "        0.        , 0.        , 0.        , 0.70710678, 0.        ,\n",
       "        0.        , 0.        , 0.        , 0.        , 0.70710678,\n",
       "        0.        , 0.        , 0.        , 0.        , 0.        ,\n",
       "        0.        , 0.        , 0.        , 0.        , 0.        ,\n",
       "        0.        ],\n",
       "       [0.        , 0.46864588, 0.        , 0.        , 0.        ,\n",
       "        0.        , 0.        , 0.        , 0.        , 0.        ,\n",
       "        0.        , 0.        , 0.        , 0.        , 0.46864588,\n",
       "        0.        , 0.46864588, 0.        , 0.        , 0.        ,\n",
       "        0.        , 0.        , 0.        , 0.        , 0.        ,\n",
       "        0.        , 0.        , 0.        , 0.46864588, 0.        ,\n",
       "        0.34854576]])"
      ]
     },
     "execution_count": 45,
     "metadata": {},
     "output_type": "execute_result"
    }
   ],
   "source": [
    "from sklearn.feature_extraction.text import TfidfVectorizer\n",
    "vectorizer = TfidfVectorizer(tokenizer=tokenizer, use_idf=True)\n",
    "features = vectorizer.fit_transform(sentences)\n",
    "features.toarray()\n",
    "# 디션너리가 만들어짐 "
   ]
  },
  {
   "cell_type": "markdown",
   "id": "e16f1455-d01d-4179-b0a6-05fa9e848383",
   "metadata": {},
   "source": [
    "### LDA 적용"
   ]
  },
  {
   "cell_type": "code",
   "execution_count": 46,
   "id": "705cea3f-fa76-4d03-b9e8-51ebfefd4558",
   "metadata": {},
   "outputs": [],
   "source": [
    "from sklearn.decomposition import LatentDirichletAllocation\n",
    "lda_model = LatentDirichletAllocation(n_components=3, random_state=111) #인스턴스화 #n_components 토픽의 갯수"
   ]
  },
  {
   "cell_type": "code",
   "execution_count": 47,
   "id": "aff0a813-d9a8-499d-b83f-4feda4747fe8",
   "metadata": {},
   "outputs": [
    {
     "data": {
      "text/html": [
       "<style>#sk-container-id-3 {color: black;background-color: white;}#sk-container-id-3 pre{padding: 0;}#sk-container-id-3 div.sk-toggleable {background-color: white;}#sk-container-id-3 label.sk-toggleable__label {cursor: pointer;display: block;width: 100%;margin-bottom: 0;padding: 0.3em;box-sizing: border-box;text-align: center;}#sk-container-id-3 label.sk-toggleable__label-arrow:before {content: \"▸\";float: left;margin-right: 0.25em;color: #696969;}#sk-container-id-3 label.sk-toggleable__label-arrow:hover:before {color: black;}#sk-container-id-3 div.sk-estimator:hover label.sk-toggleable__label-arrow:before {color: black;}#sk-container-id-3 div.sk-toggleable__content {max-height: 0;max-width: 0;overflow: hidden;text-align: left;background-color: #f0f8ff;}#sk-container-id-3 div.sk-toggleable__content pre {margin: 0.2em;color: black;border-radius: 0.25em;background-color: #f0f8ff;}#sk-container-id-3 input.sk-toggleable__control:checked~div.sk-toggleable__content {max-height: 200px;max-width: 100%;overflow: auto;}#sk-container-id-3 input.sk-toggleable__control:checked~label.sk-toggleable__label-arrow:before {content: \"▾\";}#sk-container-id-3 div.sk-estimator input.sk-toggleable__control:checked~label.sk-toggleable__label {background-color: #d4ebff;}#sk-container-id-3 div.sk-label input.sk-toggleable__control:checked~label.sk-toggleable__label {background-color: #d4ebff;}#sk-container-id-3 input.sk-hidden--visually {border: 0;clip: rect(1px 1px 1px 1px);clip: rect(1px, 1px, 1px, 1px);height: 1px;margin: -1px;overflow: hidden;padding: 0;position: absolute;width: 1px;}#sk-container-id-3 div.sk-estimator {font-family: monospace;background-color: #f0f8ff;border: 1px dotted black;border-radius: 0.25em;box-sizing: border-box;margin-bottom: 0.5em;}#sk-container-id-3 div.sk-estimator:hover {background-color: #d4ebff;}#sk-container-id-3 div.sk-parallel-item::after {content: \"\";width: 100%;border-bottom: 1px solid gray;flex-grow: 1;}#sk-container-id-3 div.sk-label:hover label.sk-toggleable__label {background-color: #d4ebff;}#sk-container-id-3 div.sk-serial::before {content: \"\";position: absolute;border-left: 1px solid gray;box-sizing: border-box;top: 0;bottom: 0;left: 50%;z-index: 0;}#sk-container-id-3 div.sk-serial {display: flex;flex-direction: column;align-items: center;background-color: white;padding-right: 0.2em;padding-left: 0.2em;position: relative;}#sk-container-id-3 div.sk-item {position: relative;z-index: 1;}#sk-container-id-3 div.sk-parallel {display: flex;align-items: stretch;justify-content: center;background-color: white;position: relative;}#sk-container-id-3 div.sk-item::before, #sk-container-id-3 div.sk-parallel-item::before {content: \"\";position: absolute;border-left: 1px solid gray;box-sizing: border-box;top: 0;bottom: 0;left: 50%;z-index: -1;}#sk-container-id-3 div.sk-parallel-item {display: flex;flex-direction: column;z-index: 1;position: relative;background-color: white;}#sk-container-id-3 div.sk-parallel-item:first-child::after {align-self: flex-end;width: 50%;}#sk-container-id-3 div.sk-parallel-item:last-child::after {align-self: flex-start;width: 50%;}#sk-container-id-3 div.sk-parallel-item:only-child::after {width: 0;}#sk-container-id-3 div.sk-dashed-wrapped {border: 1px dashed gray;margin: 0 0.4em 0.5em 0.4em;box-sizing: border-box;padding-bottom: 0.4em;background-color: white;}#sk-container-id-3 div.sk-label label {font-family: monospace;font-weight: bold;display: inline-block;line-height: 1.2em;}#sk-container-id-3 div.sk-label-container {text-align: center;}#sk-container-id-3 div.sk-container {/* jupyter's `normalize.less` sets `[hidden] { display: none; }` but bootstrap.min.css set `[hidden] { display: none !important; }` so we also need the `!important` here to be able to override the default hidden behavior on the sphinx rendered scikit-learn.org. See: https://github.com/scikit-learn/scikit-learn/issues/21755 */display: inline-block !important;position: relative;}#sk-container-id-3 div.sk-text-repr-fallback {display: none;}</style><div id=\"sk-container-id-3\" class=\"sk-top-container\"><div class=\"sk-text-repr-fallback\"><pre>LatentDirichletAllocation(n_components=3, random_state=111)</pre><b>In a Jupyter environment, please rerun this cell to show the HTML representation or trust the notebook. <br />On GitHub, the HTML representation is unable to render, please try loading this page with nbviewer.org.</b></div><div class=\"sk-container\" hidden><div class=\"sk-item\"><div class=\"sk-estimator sk-toggleable\"><input class=\"sk-toggleable__control sk-hidden--visually\" id=\"sk-estimator-id-3\" type=\"checkbox\" checked><label for=\"sk-estimator-id-3\" class=\"sk-toggleable__label sk-toggleable__label-arrow\">LatentDirichletAllocation</label><div class=\"sk-toggleable__content\"><pre>LatentDirichletAllocation(n_components=3, random_state=111)</pre></div></div></div></div></div>"
      ],
      "text/plain": [
       "LatentDirichletAllocation(n_components=3, random_state=111)"
      ]
     },
     "execution_count": 47,
     "metadata": {},
     "output_type": "execute_result"
    }
   ],
   "source": [
    "lda_model.fit(features) #교육"
   ]
  },
  {
   "cell_type": "code",
   "execution_count": 48,
   "id": "15f251d4-107a-4663-bfef-b384e5755d9a",
   "metadata": {
    "tags": []
   },
   "outputs": [],
   "source": [
    "#lda_model.components_\n",
    "#len(lda_model.components_[0])\n",
    "topics_list = lda_model.components_[0] # 첫번째 토픽"
   ]
  },
  {
   "cell_type": "markdown",
   "id": "358a7e1c-9c32-4bc1-b22c-31e02731e529",
   "metadata": {},
   "source": [
    "### 토픽별 단어 표시"
   ]
  },
  {
   "cell_type": "code",
   "execution_count": 49,
   "id": "0c8b52b7-5eeb-4ed5-8de0-3bc9a2f7a61d",
   "metadata": {},
   "outputs": [],
   "source": [
    "dictionary_list = vectorizer.get_feature_names_out()\n",
    "# len(vectorizer.get_feature_names_out())"
   ]
  },
  {
   "cell_type": "code",
   "execution_count": 50,
   "id": "b1d5c29f-fcc8-48cc-ad1a-e494aa862208",
   "metadata": {
    "tags": []
   },
   "outputs": [],
   "source": [
    "import pandas as pd"
   ]
  },
  {
   "cell_type": "code",
   "execution_count": 51,
   "id": "4886aff6-9b03-476d-90c2-826f4e9d56a2",
   "metadata": {
    "tags": []
   },
   "outputs": [
    {
     "name": "stdout",
     "output_type": "stream",
     "text": [
      "하다 언어 배우다 미루다\n",
      "오늘 영화 정말 놀다\n",
      "갈다 읽다 마음 먹다\n"
     ]
    }
   ],
   "source": [
    "## 상위 단어 추출 \n",
    "## 0 확률 1은 dictionary\n",
    "topics_list = list()\n",
    "for topic in lda_model.components_:\n",
    "    df_datas = [topic, dictionary_list]\n",
    "    df_topics = pd.DataFrame(data=df_datas)\n",
    "    df_topics= df_topics.T\n",
    "    df_topics = df_topics.sort_values(0, ascending=False)\n",
    "    # print(df_topics[:3])\n",
    "    topics_text = ' '.join(df_topics[1].values[:4])# 시리즈 형식으로 출력 get values from series / index \n",
    "    print(topics_text)\n",
    "    topics_list.append(topics_text)"
   ]
  },
  {
   "cell_type": "code",
   "execution_count": 52,
   "id": "46f69333-9163-405c-9fe8-fba607876e4f",
   "metadata": {},
   "outputs": [
    {
     "data": {
      "text/plain": [
       "'갈다 읽다 마음 먹다'"
      ]
     },
     "execution_count": 52,
     "metadata": {},
     "output_type": "execute_result"
    }
   ],
   "source": [
    "' '.join(df_topics[1].values[:4]) #시리즈를 하나에 문장 생성"
   ]
  },
  {
   "cell_type": "code",
   "execution_count": 53,
   "id": "7785eaf7-536b-4d12-91af-90f5c823e250",
   "metadata": {},
   "outputs": [
    {
     "data": {
      "text/html": [
       "<div>\n",
       "<style scoped>\n",
       "    .dataframe tbody tr th:only-of-type {\n",
       "        vertical-align: middle;\n",
       "    }\n",
       "\n",
       "    .dataframe tbody tr th {\n",
       "        vertical-align: top;\n",
       "    }\n",
       "\n",
       "    .dataframe thead th {\n",
       "        text-align: right;\n",
       "    }\n",
       "</style>\n",
       "<table border=\"1\" class=\"dataframe\">\n",
       "  <thead>\n",
       "    <tr style=\"text-align: right;\">\n",
       "      <th></th>\n",
       "      <th>0</th>\n",
       "      <th>1</th>\n",
       "    </tr>\n",
       "  </thead>\n",
       "  <tbody>\n",
       "    <tr>\n",
       "      <th>0</th>\n",
       "      <td>하다 언어 배우다 미루다</td>\n",
       "      <td>Topic0</td>\n",
       "    </tr>\n",
       "    <tr>\n",
       "      <th>1</th>\n",
       "      <td>오늘 영화 정말 놀다</td>\n",
       "      <td>Topic1</td>\n",
       "    </tr>\n",
       "    <tr>\n",
       "      <th>2</th>\n",
       "      <td>갈다 읽다 마음 먹다</td>\n",
       "      <td>Topic2</td>\n",
       "    </tr>\n",
       "  </tbody>\n",
       "</table>\n",
       "</div>"
      ],
      "text/plain": [
       "               0       1\n",
       "0  하다 언어 배우다 미루다  Topic0\n",
       "1    오늘 영화 정말 놀다  Topic1\n",
       "2    갈다 읽다 마음 먹다  Topic2"
      ]
     },
     "execution_count": 53,
     "metadata": {},
     "output_type": "execute_result"
    }
   ],
   "source": [
    "topics_list_add = [topics_list, ['Topic0', 'Topic1', 'Topic2']]\n",
    "df_topics_keywords = pd.DataFrame(topics_list_add)\n",
    "df_topics_keywords.T"
   ]
  },
  {
   "cell_type": "markdown",
   "id": "5666e9e6-73e7-4a40-9e38-97b35b359a5a",
   "metadata": {
    "tags": []
   },
   "source": [
    "### 댓글과 주요 토픽 연결"
   ]
  },
  {
   "cell_type": "code",
   "execution_count": 54,
   "id": "1e7620b7-5ba2-4cca-957c-2a1d026a4643",
   "metadata": {
    "tags": []
   },
   "outputs": [
    {
     "data": {
      "text/plain": [
       "array([[0.10462299, 0.7905512 , 0.10482582],\n",
       "       [0.13946382, 0.72088285, 0.13965333],\n",
       "       [0.12347941, 0.12362429, 0.7528963 ],\n",
       "       [0.77339137, 0.11328861, 0.11332002],\n",
       "       [0.75164634, 0.12416304, 0.12419063],\n",
       "       [0.10458222, 0.10474923, 0.79066855],\n",
       "       [0.13943843, 0.13959605, 0.72096551],\n",
       "       [0.11268585, 0.77443415, 0.11288   ],\n",
       "       [0.72035161, 0.13980797, 0.13984042],\n",
       "       [0.78957076, 0.10519796, 0.10523128]])"
      ]
     },
     "execution_count": 54,
     "metadata": {},
     "output_type": "execute_result"
    }
   ],
   "source": [
    "topics_output = lda_model.transform(features)\n",
    "topics_output"
   ]
  },
  {
   "cell_type": "code",
   "execution_count": 55,
   "id": "2e8c1fd7-e56b-4796-99fd-1d39fc5f2cd4",
   "metadata": {
    "tags": []
   },
   "outputs": [
    {
     "data": {
      "text/plain": [
       "3"
      ]
     },
     "execution_count": 55,
     "metadata": {},
     "output_type": "execute_result"
    }
   ],
   "source": [
    "lda_model.n_components"
   ]
  },
  {
   "cell_type": "code",
   "execution_count": 56,
   "id": "1c6f09c2-51b9-4b72-bbdc-6a79d9b1b991",
   "metadata": {
    "tags": []
   },
   "outputs": [],
   "source": [
    "df_topics_score = pd.DataFrame(topics_output) # 각 댓글 당 토픽 분류 점수 "
   ]
  },
  {
   "cell_type": "code",
   "execution_count": 57,
   "id": "a5edc2cd-67e4-4420-8eb3-8da329955632",
   "metadata": {
    "tags": []
   },
   "outputs": [],
   "source": [
    "# 각 댓글 마다 토픽 분류 지정\n",
    "import numpy as np\n",
    "dominant_in_topic = np.argmax(topics_output, axis=1) # 댓글의 갯수만큼 분류 출력"
   ]
  },
  {
   "cell_type": "code",
   "execution_count": 58,
   "id": "ec92eb37-ab32-4d83-b406-c35384f03585",
   "metadata": {
    "tags": []
   },
   "outputs": [
    {
     "data": {
      "text/html": [
       "<div>\n",
       "<style scoped>\n",
       "    .dataframe tbody tr th:only-of-type {\n",
       "        vertical-align: middle;\n",
       "    }\n",
       "\n",
       "    .dataframe tbody tr th {\n",
       "        vertical-align: top;\n",
       "    }\n",
       "\n",
       "    .dataframe thead th {\n",
       "        text-align: right;\n",
       "    }\n",
       "</style>\n",
       "<table border=\"1\" class=\"dataframe\">\n",
       "  <thead>\n",
       "    <tr style=\"text-align: right;\">\n",
       "      <th></th>\n",
       "      <th>0</th>\n",
       "      <th>1</th>\n",
       "      <th>2</th>\n",
       "      <th>dominant_topic</th>\n",
       "    </tr>\n",
       "  </thead>\n",
       "  <tbody>\n",
       "    <tr>\n",
       "      <th>0</th>\n",
       "      <td>0.104623</td>\n",
       "      <td>0.790551</td>\n",
       "      <td>0.104826</td>\n",
       "      <td>1</td>\n",
       "    </tr>\n",
       "    <tr>\n",
       "      <th>1</th>\n",
       "      <td>0.139464</td>\n",
       "      <td>0.720883</td>\n",
       "      <td>0.139653</td>\n",
       "      <td>1</td>\n",
       "    </tr>\n",
       "    <tr>\n",
       "      <th>2</th>\n",
       "      <td>0.123479</td>\n",
       "      <td>0.123624</td>\n",
       "      <td>0.752896</td>\n",
       "      <td>2</td>\n",
       "    </tr>\n",
       "  </tbody>\n",
       "</table>\n",
       "</div>"
      ],
      "text/plain": [
       "          0         1         2  dominant_topic\n",
       "0  0.104623  0.790551  0.104826               1\n",
       "1  0.139464  0.720883  0.139653               1\n",
       "2  0.123479  0.123624  0.752896               2"
      ]
     },
     "execution_count": 58,
     "metadata": {},
     "output_type": "execute_result"
    }
   ],
   "source": [
    "df_topics_score['dominant_topic'] = dominant_in_topic\n",
    "df_topics_score[:3]"
   ]
  },
  {
   "cell_type": "code",
   "execution_count": 59,
   "id": "e222cd61-806b-4150-a4e3-00821a5eb449",
   "metadata": {
    "tags": []
   },
   "outputs": [
    {
     "data": {
      "text/html": [
       "<div>\n",
       "<style scoped>\n",
       "    .dataframe tbody tr th:only-of-type {\n",
       "        vertical-align: middle;\n",
       "    }\n",
       "\n",
       "    .dataframe tbody tr th {\n",
       "        vertical-align: top;\n",
       "    }\n",
       "\n",
       "    .dataframe thead th {\n",
       "        text-align: right;\n",
       "    }\n",
       "</style>\n",
       "<table border=\"1\" class=\"dataframe\">\n",
       "  <thead>\n",
       "    <tr style=\"text-align: right;\">\n",
       "      <th></th>\n",
       "      <th>0</th>\n",
       "      <th>1</th>\n",
       "      <th>2</th>\n",
       "      <th>dominant_topic</th>\n",
       "      <th>sentences</th>\n",
       "    </tr>\n",
       "  </thead>\n",
       "  <tbody>\n",
       "    <tr>\n",
       "      <th>0</th>\n",
       "      <td>0.104623</td>\n",
       "      <td>0.790551</td>\n",
       "      <td>0.104826</td>\n",
       "      <td>1</td>\n",
       "      <td>오늘 날씨가 좋아서 나들이 가고 싶다.</td>\n",
       "    </tr>\n",
       "    <tr>\n",
       "      <th>1</th>\n",
       "      <td>0.139464</td>\n",
       "      <td>0.720883</td>\n",
       "      <td>0.139653</td>\n",
       "      <td>1</td>\n",
       "      <td>이 영화는 정말 재미있었어요.</td>\n",
       "    </tr>\n",
       "    <tr>\n",
       "      <th>2</th>\n",
       "      <td>0.123479</td>\n",
       "      <td>0.123624</td>\n",
       "      <td>0.752896</td>\n",
       "      <td>2</td>\n",
       "      <td>맛있는 음식을 먹으러 갈까요?</td>\n",
       "    </tr>\n",
       "    <tr>\n",
       "      <th>3</th>\n",
       "      <td>0.773391</td>\n",
       "      <td>0.113289</td>\n",
       "      <td>0.113320</td>\n",
       "      <td>0</td>\n",
       "      <td>운동을 하면 건강에 좋아지는 것 같아요.</td>\n",
       "    </tr>\n",
       "    <tr>\n",
       "      <th>4</th>\n",
       "      <td>0.751646</td>\n",
       "      <td>0.124163</td>\n",
       "      <td>0.124191</td>\n",
       "      <td>0</td>\n",
       "      <td>공부하기 싫어서 미루고 있어요.</td>\n",
       "    </tr>\n",
       "    <tr>\n",
       "      <th>5</th>\n",
       "      <td>0.104582</td>\n",
       "      <td>0.104749</td>\n",
       "      <td>0.790669</td>\n",
       "      <td>2</td>\n",
       "      <td>여행 계획을 세우고 있는데 어디로 갈까요?</td>\n",
       "    </tr>\n",
       "    <tr>\n",
       "      <th>6</th>\n",
       "      <td>0.139438</td>\n",
       "      <td>0.139596</td>\n",
       "      <td>0.720966</td>\n",
       "      <td>2</td>\n",
       "      <td>좋은 책을 읽으면 마음이 편안해져요.</td>\n",
       "    </tr>\n",
       "    <tr>\n",
       "      <th>7</th>\n",
       "      <td>0.112686</td>\n",
       "      <td>0.774434</td>\n",
       "      <td>0.112880</td>\n",
       "      <td>1</td>\n",
       "      <td>오늘은 친구들과 만나서 재미있게 놀았어요.</td>\n",
       "    </tr>\n",
       "    <tr>\n",
       "      <th>8</th>\n",
       "      <td>0.720352</td>\n",
       "      <td>0.139808</td>\n",
       "      <td>0.139840</td>\n",
       "      <td>0</td>\n",
       "      <td>새로운 언어를 배우는 것은 어려워도 흥미로워요.</td>\n",
       "    </tr>\n",
       "    <tr>\n",
       "      <th>9</th>\n",
       "      <td>0.789571</td>\n",
       "      <td>0.105198</td>\n",
       "      <td>0.105231</td>\n",
       "      <td>0</td>\n",
       "      <td>주말에 가족들과 함께 시간을 보내기로 했습니다.</td>\n",
       "    </tr>\n",
       "  </tbody>\n",
       "</table>\n",
       "</div>"
      ],
      "text/plain": [
       "          0         1         2  dominant_topic                   sentences\n",
       "0  0.104623  0.790551  0.104826               1       오늘 날씨가 좋아서 나들이 가고 싶다.\n",
       "1  0.139464  0.720883  0.139653               1            이 영화는 정말 재미있었어요.\n",
       "2  0.123479  0.123624  0.752896               2            맛있는 음식을 먹으러 갈까요?\n",
       "3  0.773391  0.113289  0.113320               0      운동을 하면 건강에 좋아지는 것 같아요.\n",
       "4  0.751646  0.124163  0.124191               0           공부하기 싫어서 미루고 있어요.\n",
       "5  0.104582  0.104749  0.790669               2     여행 계획을 세우고 있는데 어디로 갈까요?\n",
       "6  0.139438  0.139596  0.720966               2        좋은 책을 읽으면 마음이 편안해져요.\n",
       "7  0.112686  0.774434  0.112880               1     오늘은 친구들과 만나서 재미있게 놀았어요.\n",
       "8  0.720352  0.139808  0.139840               0  새로운 언어를 배우는 것은 어려워도 흥미로워요.\n",
       "9  0.789571  0.105198  0.105231               0  주말에 가족들과 함께 시간을 보내기로 했습니다."
      ]
     },
     "execution_count": 59,
     "metadata": {},
     "output_type": "execute_result"
    }
   ],
   "source": [
    "df_topics_score['sentences'] = sentences\n",
    "df_topics_score"
   ]
  },
  {
   "cell_type": "code",
   "execution_count": 60,
   "id": "c4a07978-b392-4f1c-9cfa-f9d07c35e9bf",
   "metadata": {
    "tags": []
   },
   "outputs": [
    {
     "data": {
      "text/html": [
       "<div>\n",
       "<style scoped>\n",
       "    .dataframe tbody tr th:only-of-type {\n",
       "        vertical-align: middle;\n",
       "    }\n",
       "\n",
       "    .dataframe tbody tr th {\n",
       "        vertical-align: top;\n",
       "    }\n",
       "\n",
       "    .dataframe thead th {\n",
       "        text-align: right;\n",
       "    }\n",
       "</style>\n",
       "<table border=\"1\" class=\"dataframe\">\n",
       "  <thead>\n",
       "    <tr style=\"text-align: right;\">\n",
       "      <th></th>\n",
       "      <th>0</th>\n",
       "      <th>1</th>\n",
       "      <th>2</th>\n",
       "      <th>dominant_topic</th>\n",
       "      <th>sentences</th>\n",
       "    </tr>\n",
       "  </thead>\n",
       "  <tbody>\n",
       "    <tr>\n",
       "      <th>3</th>\n",
       "      <td>0.773391</td>\n",
       "      <td>0.113289</td>\n",
       "      <td>0.113320</td>\n",
       "      <td>0</td>\n",
       "      <td>운동을 하면 건강에 좋아지는 것 같아요.</td>\n",
       "    </tr>\n",
       "    <tr>\n",
       "      <th>4</th>\n",
       "      <td>0.751646</td>\n",
       "      <td>0.124163</td>\n",
       "      <td>0.124191</td>\n",
       "      <td>0</td>\n",
       "      <td>공부하기 싫어서 미루고 있어요.</td>\n",
       "    </tr>\n",
       "    <tr>\n",
       "      <th>8</th>\n",
       "      <td>0.720352</td>\n",
       "      <td>0.139808</td>\n",
       "      <td>0.139840</td>\n",
       "      <td>0</td>\n",
       "      <td>새로운 언어를 배우는 것은 어려워도 흥미로워요.</td>\n",
       "    </tr>\n",
       "    <tr>\n",
       "      <th>9</th>\n",
       "      <td>0.789571</td>\n",
       "      <td>0.105198</td>\n",
       "      <td>0.105231</td>\n",
       "      <td>0</td>\n",
       "      <td>주말에 가족들과 함께 시간을 보내기로 했습니다.</td>\n",
       "    </tr>\n",
       "  </tbody>\n",
       "</table>\n",
       "</div>"
      ],
      "text/plain": [
       "          0         1         2  dominant_topic                   sentences\n",
       "3  0.773391  0.113289  0.113320               0      운동을 하면 건강에 좋아지는 것 같아요.\n",
       "4  0.751646  0.124163  0.124191               0           공부하기 싫어서 미루고 있어요.\n",
       "8  0.720352  0.139808  0.139840               0  새로운 언어를 배우는 것은 어려워도 흥미로워요.\n",
       "9  0.789571  0.105198  0.105231               0  주말에 가족들과 함께 시간을 보내기로 했습니다."
      ]
     },
     "execution_count": 60,
     "metadata": {},
     "output_type": "execute_result"
    }
   ],
   "source": [
    "# 'dominant_topic' 열이 0인 행만 선택\n",
    "filtered_df = df_topics_score[df_topics_score['dominant_topic'] == 0]\n",
    "filtered_df"
   ]
  },
  {
   "cell_type": "code",
   "execution_count": null,
   "id": "a8e76837-663c-4192-b81a-141bc0e4bc2a",
   "metadata": {},
   "outputs": [],
   "source": []
  },
  {
   "cell_type": "code",
   "execution_count": null,
   "id": "396d5a19-b723-41f3-adcf-bbd083074db3",
   "metadata": {},
   "outputs": [],
   "source": []
  }
 ],
 "metadata": {
  "kernelspec": {
   "display_name": "Python 3 (ipykernel)",
   "language": "python",
   "name": "python3"
  },
  "language_info": {
   "codemirror_mode": {
    "name": "ipython",
    "version": 3
   },
   "file_extension": ".py",
   "mimetype": "text/x-python",
   "name": "python",
   "nbconvert_exporter": "python",
   "pygments_lexer": "ipython3",
   "version": "3.11.3"
  }
 },
 "nbformat": 4,
 "nbformat_minor": 5
}
