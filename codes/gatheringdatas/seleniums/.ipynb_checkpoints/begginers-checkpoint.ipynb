{
 "cells": [
  {
   "cell_type": "code",
   "execution_count": 9,
   "id": "e1b8d8e1-ac02-47cd-992b-4dda2959d926",
   "metadata": {
    "tags": []
   },
   "outputs": [],
   "source": [
    "from selenium import webdriver"
   ]
  },
  {
   "cell_type": "code",
   "execution_count": 10,
   "id": "4544f59e-4659-4383-9517-f1d2410f9dc2",
   "metadata": {
    "tags": []
   },
   "outputs": [],
   "source": [
    "# open chorme browser\n",
    "brower= webdriver.Chrome(executable_path='../../../../chromedriver.exe')"
   ]
  },
  {
   "cell_type": "code",
   "execution_count": 11,
   "id": "98ed13b9-00cf-4e18-aeba-27b0de0655dc",
   "metadata": {
    "tags": []
   },
   "outputs": [],
   "source": [
    "brower.get('https://www.w3schools.com/')"
   ]
  },
  {
   "cell_type": "code",
   "execution_count": 12,
   "id": "ed32e105-ece1-4b54-abae-502f04ea9aac",
   "metadata": {
    "tags": []
   },
   "outputs": [],
   "source": [
    "brower.quit()"
   ]
  },
  {
   "cell_type": "code",
   "execution_count": null,
   "id": "eb1e65d0-e70e-49c6-a293-2845820149e2",
   "metadata": {},
   "outputs": [],
   "source": []
  }
 ],
 "metadata": {
  "kernelspec": {
   "display_name": "Python 3 (ipykernel)",
   "language": "python",
   "name": "python3"
  },
  "language_info": {
   "codemirror_mode": {
    "name": "ipython",
    "version": 3
   },
   "file_extension": ".py",
   "mimetype": "text/x-python",
   "name": "python",
   "nbconvert_exporter": "python",
   "pygments_lexer": "ipython3",
   "version": "3.11.3"
  }
 },
 "nbformat": 4,
 "nbformat_minor": 5
}
