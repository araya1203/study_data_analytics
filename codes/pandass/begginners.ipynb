{
 "cells": [
  {
   "cell_type": "code",
   "execution_count": 19,
   "id": "a57b98b4-f19c-43dd-9a4a-7b99ddce2130",
   "metadata": {
    "tags": []
   },
   "outputs": [],
   "source": [
    "import pandas as pd"
   ]
  },
  {
   "cell_type": "code",
   "execution_count": 20,
   "id": "b9dc3dd1-c49f-4b5f-9016-6805b96b5604",
   "metadata": {
    "tags": []
   },
   "outputs": [
    {
     "name": "stdout",
     "output_type": "stream",
     "text": [
      "1.5.3\n"
     ]
    }
   ],
   "source": [
    "print(pd.__version__)"
   ]
  },
  {
   "cell_type": "code",
   "execution_count": 21,
   "id": "a6d70311-5432-4f99-8797-daa42e959917",
   "metadata": {
    "tags": []
   },
   "outputs": [],
   "source": [
    "### DataFrame 구조\n",
    "#- index(row) - coulmn(column) - data"
   ]
  },
  {
   "cell_type": "code",
   "execution_count": 22,
   "id": "7cd1b499-579a-45e9-9eb5-953b158bcf72",
   "metadata": {
    "tags": []
   },
   "outputs": [
    {
     "data": {
      "text/html": [
       "<div>\n",
       "<style scoped>\n",
       "    .dataframe tbody tr th:only-of-type {\n",
       "        vertical-align: middle;\n",
       "    }\n",
       "\n",
       "    .dataframe tbody tr th {\n",
       "        vertical-align: top;\n",
       "    }\n",
       "\n",
       "    .dataframe thead th {\n",
       "        text-align: right;\n",
       "    }\n",
       "</style>\n",
       "<table border=\"1\" class=\"dataframe\">\n",
       "  <thead>\n",
       "    <tr style=\"text-align: right;\">\n",
       "      <th></th>\n",
       "      <th>0</th>\n",
       "    </tr>\n",
       "  </thead>\n",
       "  <tbody>\n",
       "    <tr>\n",
       "      <th>0</th>\n",
       "      <td>10</td>\n",
       "    </tr>\n",
       "    <tr>\n",
       "      <th>1</th>\n",
       "      <td>20</td>\n",
       "    </tr>\n",
       "    <tr>\n",
       "      <th>2</th>\n",
       "      <td>30</td>\n",
       "    </tr>\n",
       "    <tr>\n",
       "      <th>3</th>\n",
       "      <td>40</td>\n",
       "    </tr>\n",
       "    <tr>\n",
       "      <th>4</th>\n",
       "      <td>50</td>\n",
       "    </tr>\n",
       "  </tbody>\n",
       "</table>\n",
       "</div>"
      ],
      "text/plain": [
       "    0\n",
       "0  10\n",
       "1  20\n",
       "2  30\n",
       "3  40\n",
       "4  50"
      ]
     },
     "execution_count": 22,
     "metadata": {},
     "output_type": "execute_result"
    }
   ],
   "source": [
    "num_list = [10,20,30,40,50]\n",
    "pd. DataFrame(data=num_list)"
   ]
  },
  {
   "cell_type": "code",
   "execution_count": 25,
   "id": "4de2b370-b4cb-4971-b44f-2ca677c03463",
   "metadata": {
    "tags": []
   },
   "outputs": [
    {
     "data": {
      "text/html": [
       "<div>\n",
       "<style scoped>\n",
       "    .dataframe tbody tr th:only-of-type {\n",
       "        vertical-align: middle;\n",
       "    }\n",
       "\n",
       "    .dataframe tbody tr th {\n",
       "        vertical-align: top;\n",
       "    }\n",
       "\n",
       "    .dataframe thead th {\n",
       "        text-align: right;\n",
       "    }\n",
       "</style>\n",
       "<table border=\"1\" class=\"dataframe\">\n",
       "  <thead>\n",
       "    <tr style=\"text-align: right;\">\n",
       "      <th></th>\n",
       "      <th>0</th>\n",
       "      <th>1</th>\n",
       "      <th>2</th>\n",
       "      <th>3</th>\n",
       "    </tr>\n",
       "  </thead>\n",
       "  <tbody>\n",
       "    <tr>\n",
       "      <th>0</th>\n",
       "      <td>1000</td>\n",
       "      <td>과자</td>\n",
       "      <td>2019-12-31</td>\n",
       "      <td>반품</td>\n",
       "    </tr>\n",
       "    <tr>\n",
       "      <th>1</th>\n",
       "      <td>2000</td>\n",
       "      <td>음료</td>\n",
       "      <td>2020-03-02</td>\n",
       "      <td>정상</td>\n",
       "    </tr>\n",
       "    <tr>\n",
       "      <th>2</th>\n",
       "      <td>3000</td>\n",
       "      <td>아이스크림</td>\n",
       "      <td>2020-02-03</td>\n",
       "      <td>정상</td>\n",
       "    </tr>\n",
       "    <tr>\n",
       "      <th>3</th>\n",
       "      <td>1000</td>\n",
       "      <td>과자</td>\n",
       "      <td>2019-12-31</td>\n",
       "      <td>반품</td>\n",
       "    </tr>\n",
       "  </tbody>\n",
       "</table>\n",
       "</div>"
      ],
      "text/plain": [
       "      0      1           2   3\n",
       "0  1000     과자  2019-12-31  반품\n",
       "1  2000     음료  2020-03-02  정상\n",
       "2  3000  아이스크림  2020-02-03  정상\n",
       "3  1000     과자  2019-12-31  반품"
      ]
     },
     "execution_count": 25,
     "metadata": {},
     "output_type": "execute_result"
    }
   ],
   "source": [
    "double_list = [[1000, '과자','2019-12-31','반품'],\n",
    " [2000, '음료', '2020-03-02', '정상'],\n",
    " [3000, '아이스크림', '2020-02-03','정상'],\n",
    " [1000,'과자','2019-12-31','반품']]\n",
    "pd.DataFrame(data=double_list)"
   ]
  },
  {
   "cell_type": "code",
   "execution_count": 26,
   "id": "5acf03eb-ec63-4c3c-94a9-758ab75e27f7",
   "metadata": {
    "tags": []
   },
   "outputs": [
    {
     "data": {
      "text/html": [
       "<div>\n",
       "<style scoped>\n",
       "    .dataframe tbody tr th:only-of-type {\n",
       "        vertical-align: middle;\n",
       "    }\n",
       "\n",
       "    .dataframe tbody tr th {\n",
       "        vertical-align: top;\n",
       "    }\n",
       "\n",
       "    .dataframe thead th {\n",
       "        text-align: right;\n",
       "    }\n",
       "</style>\n",
       "<table border=\"1\" class=\"dataframe\">\n",
       "  <thead>\n",
       "    <tr style=\"text-align: right;\">\n",
       "      <th></th>\n",
       "      <th>가격</th>\n",
       "      <th>종류</th>\n",
       "      <th>판매일자</th>\n",
       "      <th>반품여부</th>\n",
       "    </tr>\n",
       "  </thead>\n",
       "  <tbody>\n",
       "    <tr>\n",
       "      <th>0</th>\n",
       "      <td>1000</td>\n",
       "      <td>과자</td>\n",
       "      <td>2019-12-31</td>\n",
       "      <td>반품</td>\n",
       "    </tr>\n",
       "    <tr>\n",
       "      <th>1</th>\n",
       "      <td>2000</td>\n",
       "      <td>음료</td>\n",
       "      <td>2020-03-02</td>\n",
       "      <td>정상</td>\n",
       "    </tr>\n",
       "    <tr>\n",
       "      <th>2</th>\n",
       "      <td>3000</td>\n",
       "      <td>아이스크림</td>\n",
       "      <td>2020-02-03</td>\n",
       "      <td>정상</td>\n",
       "    </tr>\n",
       "    <tr>\n",
       "      <th>3</th>\n",
       "      <td>1000</td>\n",
       "      <td>과자</td>\n",
       "      <td>2019-12-31</td>\n",
       "      <td>반품</td>\n",
       "    </tr>\n",
       "  </tbody>\n",
       "</table>\n",
       "</div>"
      ],
      "text/plain": [
       "     가격     종류        판매일자 반품여부\n",
       "0  1000     과자  2019-12-31   반품\n",
       "1  2000     음료  2020-03-02   정상\n",
       "2  3000  아이스크림  2020-02-03   정상\n",
       "3  1000     과자  2019-12-31   반품"
      ]
     },
     "execution_count": 26,
     "metadata": {},
     "output_type": "execute_result"
    }
   ],
   "source": [
    "double_columns = ['가격','종류','판매일자','반품여부']\n",
    "df_salesdays = pd.DataFrame(data=double_list, columns=double_columns)\n",
    "df_salesdays"
   ]
  },
  {
   "cell_type": "code",
   "execution_count": 27,
   "id": "05e4f22c-b8f7-4fef-b655-1bfc488d951e",
   "metadata": {
    "tags": []
   },
   "outputs": [
    {
     "data": {
      "text/plain": [
       "(Index(['가격', '종류', '판매일자', '반품여부'], dtype='object'),\n",
       " pandas.core.indexes.base.Index,\n",
       " ['가격', '종류', '판매일자', '반품여부'])"
      ]
     },
     "execution_count": 27,
     "metadata": {},
     "output_type": "execute_result"
    }
   ],
   "source": [
    "df_salesdays.columns , type(df_salesdays.columns), list(df_salesdays.columns)"
   ]
  },
  {
   "cell_type": "code",
   "execution_count": 28,
   "id": "ccba96f6-246a-4760-891b-fe7ce829b992",
   "metadata": {},
   "outputs": [
    {
     "data": {
      "text/plain": [
       "RangeIndex(start=0, stop=4, step=1)"
      ]
     },
     "execution_count": 28,
     "metadata": {},
     "output_type": "execute_result"
    }
   ],
   "source": [
    "df_salesdays.index"
   ]
  },
  {
   "cell_type": "code",
   "execution_count": 29,
   "id": "99d0125a-a598-4e0b-8273-bc528a8c7319",
   "metadata": {
    "tags": []
   },
   "outputs": [
    {
     "data": {
      "text/plain": [
       "array([[1000, '과자', '2019-12-31', '반품'],\n",
       "       [2000, '음료', '2020-03-02', '정상'],\n",
       "       [3000, '아이스크림', '2020-02-03', '정상'],\n",
       "       [1000, '과자', '2019-12-31', '반품']], dtype=object)"
      ]
     },
     "execution_count": 29,
     "metadata": {},
     "output_type": "execute_result"
    }
   ],
   "source": [
    "df_salesdays.values"
   ]
  },
  {
   "cell_type": "code",
   "execution_count": 44,
   "id": "222e6c07-b0b9-4f20-af74-572bc8024341",
   "metadata": {
    "tags": []
   },
   "outputs": [],
   "source": [
    "df_salesdays_dropcol = df_salesdays.drop(columns=['종류','판매일자',])\n",
    "# df_salesdays.drop(columns=['종류','판매일자',],inplace=True) # 자체 지정한 df값이 변화한다"
   ]
  },
  {
   "cell_type": "code",
   "execution_count": 45,
   "id": "77acaa61-8d8e-4b6e-a67d-03ba4de913cf",
   "metadata": {
    "tags": []
   },
   "outputs": [
    {
     "data": {
      "text/html": [
       "<div>\n",
       "<style scoped>\n",
       "    .dataframe tbody tr th:only-of-type {\n",
       "        vertical-align: middle;\n",
       "    }\n",
       "\n",
       "    .dataframe tbody tr th {\n",
       "        vertical-align: top;\n",
       "    }\n",
       "\n",
       "    .dataframe thead th {\n",
       "        text-align: right;\n",
       "    }\n",
       "</style>\n",
       "<table border=\"1\" class=\"dataframe\">\n",
       "  <thead>\n",
       "    <tr style=\"text-align: right;\">\n",
       "      <th></th>\n",
       "      <th>가격</th>\n",
       "      <th>반품여부</th>\n",
       "    </tr>\n",
       "  </thead>\n",
       "  <tbody>\n",
       "    <tr>\n",
       "      <th>0</th>\n",
       "      <td>1000</td>\n",
       "      <td>반품</td>\n",
       "    </tr>\n",
       "    <tr>\n",
       "      <th>1</th>\n",
       "      <td>2000</td>\n",
       "      <td>정상</td>\n",
       "    </tr>\n",
       "    <tr>\n",
       "      <th>2</th>\n",
       "      <td>3000</td>\n",
       "      <td>정상</td>\n",
       "    </tr>\n",
       "    <tr>\n",
       "      <th>3</th>\n",
       "      <td>1000</td>\n",
       "      <td>반품</td>\n",
       "    </tr>\n",
       "  </tbody>\n",
       "</table>\n",
       "</div>"
      ],
      "text/plain": [
       "     가격 반품여부\n",
       "0  1000   반품\n",
       "1  2000   정상\n",
       "2  3000   정상\n",
       "3  1000   반품"
      ]
     },
     "execution_count": 45,
     "metadata": {},
     "output_type": "execute_result"
    }
   ],
   "source": [
    "df_salesdays_dropcol"
   ]
  },
  {
   "cell_type": "code",
   "execution_count": 48,
   "id": "b1129687-20c9-4f60-b6b7-49f95b31eca2",
   "metadata": {
    "tags": []
   },
   "outputs": [
    {
     "data": {
      "text/html": [
       "<div>\n",
       "<style scoped>\n",
       "    .dataframe tbody tr th:only-of-type {\n",
       "        vertical-align: middle;\n",
       "    }\n",
       "\n",
       "    .dataframe tbody tr th {\n",
       "        vertical-align: top;\n",
       "    }\n",
       "\n",
       "    .dataframe thead th {\n",
       "        text-align: right;\n",
       "    }\n",
       "</style>\n",
       "<table border=\"1\" class=\"dataframe\">\n",
       "  <thead>\n",
       "    <tr style=\"text-align: right;\">\n",
       "      <th></th>\n",
       "      <th>가격</th>\n",
       "      <th>반품여부</th>\n",
       "    </tr>\n",
       "  </thead>\n",
       "  <tbody>\n",
       "    <tr>\n",
       "      <th>2</th>\n",
       "      <td>3000</td>\n",
       "      <td>정상</td>\n",
       "    </tr>\n",
       "  </tbody>\n",
       "</table>\n",
       "</div>"
      ],
      "text/plain": [
       "     가격 반품여부\n",
       "2  3000   정상"
      ]
     },
     "execution_count": 48,
     "metadata": {},
     "output_type": "execute_result"
    }
   ],
   "source": [
    "## 필터 : and -&, or -|\n",
    "# condition = (df_saledays_dropcol['반품여부'] == '정상')\n",
    "condition = (df_salesdays_dropcol['가격'] >= 2500)\n",
    "df_salesdays_dropcol.loc[condition]"
   ]
  },
  {
   "cell_type": "code",
   "execution_count": 52,
   "id": "ae4b0e53-9553-463c-a09e-61c36543c8bb",
   "metadata": {
    "tags": []
   },
   "outputs": [],
   "source": [
    "## Series\n",
    "# -index - data"
   ]
  },
  {
   "cell_type": "code",
   "execution_count": 47,
   "id": "1be340f5-5eb8-4d0c-9045-c4dd9d9fd3b3",
   "metadata": {
    "tags": []
   },
   "outputs": [
    {
     "data": {
      "text/plain": [
       "0    0.1\n",
       "1    0.2\n",
       "2    0.3\n",
       "3    0.4\n",
       "4    0.5\n",
       "dtype: float64"
      ]
     },
     "execution_count": 47,
     "metadata": {},
     "output_type": "execute_result"
    }
   ],
   "source": [
    "single_data = [0.1,0.2,0.3,0.4,0.5]\n",
    "series_floats = pd.Series(data=single_data)\n",
    "series_floats"
   ]
  },
  {
   "cell_type": "code",
   "execution_count": 34,
   "id": "faf761ab-30c7-4a8d-8e2a-80f854a5748e",
   "metadata": {
    "tags": []
   },
   "outputs": [
    {
     "data": {
      "text/plain": [
       "pandas.core.series.Series"
      ]
     },
     "execution_count": 34,
     "metadata": {},
     "output_type": "execute_result"
    }
   ],
   "source": [
    "type(series_floats)"
   ]
  },
  {
   "cell_type": "code",
   "execution_count": null,
   "id": "131cb772-bf3d-41b1-a6d6-cc4161fc892d",
   "metadata": {},
   "outputs": [],
   "source": []
  }
 ],
 "metadata": {
  "kernelspec": {
   "display_name": "Python 3 (ipykernel)",
   "language": "python",
   "name": "python3"
  },
  "language_info": {
   "codemirror_mode": {
    "name": "ipython",
    "version": 3
   },
   "file_extension": ".py",
   "mimetype": "text/x-python",
   "name": "python",
   "nbconvert_exporter": "python",
   "pygments_lexer": "ipython3",
   "version": "3.11.3"
  }
 },
 "nbformat": 4,
 "nbformat_minor": 5
}
