{
 "cells": [
  {
   "cell_type": "code",
   "execution_count": 1,
   "id": "91a54249-9f2c-438e-ac58-c4f76a10f6d2",
   "metadata": {
    "tags": []
   },
   "outputs": [],
   "source": [
    "import pandas as pd\n",
    "import matplotlib.pyplot as plt\n",
    "import matplotlib as mpl\n",
    "mpl.rc('font',family='Malgun Gothic')\n",
    "import seaborn as sns"
   ]
  },
  {
   "cell_type": "markdown",
   "id": "2e6ce026-9cfa-4165-a74c-9e846c874d87",
   "metadata": {},
   "source": [
    "### DeliveryList 1"
   ]
  },
  {
   "cell_type": "code",
   "execution_count": 2,
   "id": "af7962ae-0766-4d3e-b42c-fe55de798653",
   "metadata": {
    "tags": []
   },
   "outputs": [
    {
     "data": {
      "text/html": [
       "<div>\n",
       "<style scoped>\n",
       "    .dataframe tbody tr th:only-of-type {\n",
       "        vertical-align: middle;\n",
       "    }\n",
       "\n",
       "    .dataframe tbody tr th {\n",
       "        vertical-align: top;\n",
       "    }\n",
       "\n",
       "    .dataframe thead th {\n",
       "        text-align: right;\n",
       "    }\n",
       "</style>\n",
       "<table border=\"1\" class=\"dataframe\">\n",
       "  <thead>\n",
       "    <tr style=\"text-align: right;\">\n",
       "      <th></th>\n",
       "      <th>날짜</th>\n",
       "      <th>상품명</th>\n",
       "      <th>바코드</th>\n",
       "      <th>발주가능상태</th>\n",
       "      <th>입고수량</th>\n",
       "      <th>카테고리</th>\n",
       "      <th>출고수량</th>\n",
       "    </tr>\n",
       "  </thead>\n",
       "  <tbody>\n",
       "    <tr>\n",
       "      <th>0</th>\n",
       "      <td>2019-05-16</td>\n",
       "      <td>V2_0</td>\n",
       "      <td>8.801047e+12</td>\n",
       "      <td>발주가능</td>\n",
       "      <td>384</td>\n",
       "      <td>세탁세제</td>\n",
       "      <td>72</td>\n",
       "    </tr>\n",
       "    <tr>\n",
       "      <th>1</th>\n",
       "      <td>2019-05-16</td>\n",
       "      <td>V2_3</td>\n",
       "      <td>8.801047e+12</td>\n",
       "      <td>발주가능</td>\n",
       "      <td>207</td>\n",
       "      <td>세탁세제</td>\n",
       "      <td>5</td>\n",
       "    </tr>\n",
       "    <tr>\n",
       "      <th>2</th>\n",
       "      <td>2019-05-16</td>\n",
       "      <td>V2_7</td>\n",
       "      <td>8.801047e+12</td>\n",
       "      <td>발주가능</td>\n",
       "      <td>520</td>\n",
       "      <td>헤어케어</td>\n",
       "      <td>19</td>\n",
       "    </tr>\n",
       "    <tr>\n",
       "      <th>3</th>\n",
       "      <td>2019-05-16</td>\n",
       "      <td>V2_11</td>\n",
       "      <td>8.801047e+12</td>\n",
       "      <td>발주가능</td>\n",
       "      <td>0</td>\n",
       "      <td>세탁세제</td>\n",
       "      <td>5</td>\n",
       "    </tr>\n",
       "    <tr>\n",
       "      <th>4</th>\n",
       "      <td>2019-05-16</td>\n",
       "      <td>V2_14</td>\n",
       "      <td>8.801046e+12</td>\n",
       "      <td>발주가능</td>\n",
       "      <td>96</td>\n",
       "      <td>세탁세제</td>\n",
       "      <td>1</td>\n",
       "    </tr>\n",
       "    <tr>\n",
       "      <th>...</th>\n",
       "      <td>...</td>\n",
       "      <td>...</td>\n",
       "      <td>...</td>\n",
       "      <td>...</td>\n",
       "      <td>...</td>\n",
       "      <td>...</td>\n",
       "      <td>...</td>\n",
       "    </tr>\n",
       "    <tr>\n",
       "      <th>14995</th>\n",
       "      <td>2019-08-07</td>\n",
       "      <td>V2_500</td>\n",
       "      <td>8.801046e+12</td>\n",
       "      <td>발주가능</td>\n",
       "      <td>24</td>\n",
       "      <td>세탁세제</td>\n",
       "      <td>3</td>\n",
       "    </tr>\n",
       "    <tr>\n",
       "      <th>14996</th>\n",
       "      <td>2019-08-07</td>\n",
       "      <td>V2_501</td>\n",
       "      <td>8.801046e+12</td>\n",
       "      <td>발주가능</td>\n",
       "      <td>0</td>\n",
       "      <td>세탁세제</td>\n",
       "      <td>7</td>\n",
       "    </tr>\n",
       "    <tr>\n",
       "      <th>14997</th>\n",
       "      <td>2019-08-07</td>\n",
       "      <td>V2_502</td>\n",
       "      <td>8.801046e+12</td>\n",
       "      <td>발주가능</td>\n",
       "      <td>66</td>\n",
       "      <td>세탁세제</td>\n",
       "      <td>16</td>\n",
       "    </tr>\n",
       "    <tr>\n",
       "      <th>14998</th>\n",
       "      <td>2019-08-07</td>\n",
       "      <td>V2_509</td>\n",
       "      <td>8.801046e+12</td>\n",
       "      <td>발주가능</td>\n",
       "      <td>64</td>\n",
       "      <td>세탁세제</td>\n",
       "      <td>6</td>\n",
       "    </tr>\n",
       "    <tr>\n",
       "      <th>14999</th>\n",
       "      <td>2019-08-07</td>\n",
       "      <td>V2_511</td>\n",
       "      <td>8.801046e+12</td>\n",
       "      <td>발주가능</td>\n",
       "      <td>25</td>\n",
       "      <td>세탁세제</td>\n",
       "      <td>0</td>\n",
       "    </tr>\n",
       "  </tbody>\n",
       "</table>\n",
       "<p>15000 rows × 7 columns</p>\n",
       "</div>"
      ],
      "text/plain": [
       "               날짜     상품명           바코드 발주가능상태  입고수량  카테고리  출고수량\n",
       "0      2019-05-16    V2_0  8.801047e+12   발주가능   384  세탁세제    72\n",
       "1      2019-05-16    V2_3  8.801047e+12   발주가능   207  세탁세제     5\n",
       "2      2019-05-16    V2_7  8.801047e+12   발주가능   520  헤어케어    19\n",
       "3      2019-05-16   V2_11  8.801047e+12   발주가능     0  세탁세제     5\n",
       "4      2019-05-16   V2_14  8.801046e+12   발주가능    96  세탁세제     1\n",
       "...           ...     ...           ...    ...   ...   ...   ...\n",
       "14995  2019-08-07  V2_500  8.801046e+12   발주가능    24  세탁세제     3\n",
       "14996  2019-08-07  V2_501  8.801046e+12   발주가능     0  세탁세제     7\n",
       "14997  2019-08-07  V2_502  8.801046e+12   발주가능    66  세탁세제    16\n",
       "14998  2019-08-07  V2_509  8.801046e+12   발주가능    64  세탁세제     6\n",
       "14999  2019-08-07  V2_511  8.801046e+12   발주가능    25  세탁세제     0\n",
       "\n",
       "[15000 rows x 7 columns]"
      ]
     },
     "execution_count": 2,
     "metadata": {},
     "output_type": "execute_result"
    }
   ],
   "source": [
    "df_DL = pd.read_csv('../../datasets/DeliveryList.csv')\n",
    "df_DL"
   ]
  },
  {
   "cell_type": "code",
   "execution_count": 3,
   "id": "65ac60e0-82f1-47b2-ac2b-94a0aa2903c7",
   "metadata": {
    "tags": []
   },
   "outputs": [
    {
     "name": "stdout",
     "output_type": "stream",
     "text": [
      "<class 'pandas.core.frame.DataFrame'>\n",
      "RangeIndex: 15000 entries, 0 to 14999\n",
      "Data columns (total 7 columns):\n",
      " #   Column  Non-Null Count  Dtype  \n",
      "---  ------  --------------  -----  \n",
      " 0   날짜      15000 non-null  object \n",
      " 1   상품명     15000 non-null  object \n",
      " 2   바코드     14992 non-null  float64\n",
      " 3   발주가능상태  15000 non-null  object \n",
      " 4   입고수량    15000 non-null  int64  \n",
      " 5   카테고리    15000 non-null  object \n",
      " 6   출고수량    15000 non-null  int64  \n",
      "dtypes: float64(1), int64(2), object(4)\n",
      "memory usage: 820.4+ KB\n"
     ]
    }
   ],
   "source": [
    "df_DL.info()"
   ]
  },
  {
   "cell_type": "code",
   "execution_count": 4,
   "id": "5a3a40ef-0093-45b4-98e1-4c37704c7285",
   "metadata": {
    "tags": []
   },
   "outputs": [
    {
     "data": {
      "text/html": [
       "<div>\n",
       "<style scoped>\n",
       "    .dataframe tbody tr th:only-of-type {\n",
       "        vertical-align: middle;\n",
       "    }\n",
       "\n",
       "    .dataframe tbody tr th {\n",
       "        vertical-align: top;\n",
       "    }\n",
       "\n",
       "    .dataframe thead th {\n",
       "        text-align: right;\n",
       "    }\n",
       "</style>\n",
       "<table border=\"1\" class=\"dataframe\">\n",
       "  <thead>\n",
       "    <tr style=\"text-align: right;\">\n",
       "      <th></th>\n",
       "      <th>날짜</th>\n",
       "      <th>상품명</th>\n",
       "      <th>발주가능상태</th>\n",
       "      <th>카테고리</th>\n",
       "    </tr>\n",
       "  </thead>\n",
       "  <tbody>\n",
       "    <tr>\n",
       "      <th>count</th>\n",
       "      <td>15000</td>\n",
       "      <td>15000</td>\n",
       "      <td>15000</td>\n",
       "      <td>15000</td>\n",
       "    </tr>\n",
       "    <tr>\n",
       "      <th>unique</th>\n",
       "      <td>84</td>\n",
       "      <td>528</td>\n",
       "      <td>3</td>\n",
       "      <td>8</td>\n",
       "    </tr>\n",
       "    <tr>\n",
       "      <th>top</th>\n",
       "      <td>2019-05-26</td>\n",
       "      <td>V2_114</td>\n",
       "      <td>발주가능</td>\n",
       "      <td>세탁세제</td>\n",
       "    </tr>\n",
       "    <tr>\n",
       "      <th>freq</th>\n",
       "      <td>226</td>\n",
       "      <td>47</td>\n",
       "      <td>14700</td>\n",
       "      <td>4265</td>\n",
       "    </tr>\n",
       "  </tbody>\n",
       "</table>\n",
       "</div>"
      ],
      "text/plain": [
       "                날짜     상품명 발주가능상태   카테고리\n",
       "count        15000   15000  15000  15000\n",
       "unique          84     528      3      8\n",
       "top     2019-05-26  V2_114   발주가능   세탁세제\n",
       "freq           226      47  14700   4265"
      ]
     },
     "execution_count": 4,
     "metadata": {},
     "output_type": "execute_result"
    }
   ],
   "source": [
    "df_DL.describe(include=object) "
   ]
  },
  {
   "cell_type": "code",
   "execution_count": 5,
   "id": "e25b0f8c-cb7b-48eb-ab29-382316ea954c",
   "metadata": {
    "tags": []
   },
   "outputs": [],
   "source": [
    "df_DL['날짜_datetime'] = pd.to_datetime(df_DL['날짜']) # 날짜에서 datetime"
   ]
  },
  {
   "cell_type": "code",
   "execution_count": 6,
   "id": "b3d718d9-bc23-4522-abf0-e61e9a52a6b6",
   "metadata": {
    "tags": []
   },
   "outputs": [
    {
     "ename": "NameError",
     "evalue": "name 'datetime' is not defined",
     "output_type": "error",
     "traceback": [
      "\u001b[1;31m---------------------------------------------------------------------------\u001b[0m",
      "\u001b[1;31mNameError\u001b[0m                                 Traceback (most recent call last)",
      "Cell \u001b[1;32mIn[6], line 1\u001b[0m\n\u001b[1;32m----> 1\u001b[0m df_DL\u001b[38;5;241m.\u001b[39mdescribe(include\u001b[38;5;241m=\u001b[39m\u001b[43mdatetime\u001b[49m) \u001b[38;5;66;03m# 확인 필요 \u001b[39;00m\n",
      "\u001b[1;31mNameError\u001b[0m: name 'datetime' is not defined"
     ]
    }
   ],
   "source": [
    "df_DL.describe(include=datetime) # 확인 필요 "
   ]
  },
  {
   "cell_type": "code",
   "execution_count": null,
   "id": "1e057c22-3347-460b-9e21-1c361cc62f0d",
   "metadata": {
    "tags": []
   },
   "outputs": [],
   "source": [
    "df_DL[:2]"
   ]
  },
  {
   "cell_type": "code",
   "execution_count": null,
   "id": "2f52b443-02b0-4333-9adc-b14f1a7bf14f",
   "metadata": {
    "tags": []
   },
   "outputs": [],
   "source": [
    "# df_DL['날짜_datetime_year'] = df_DL['날짜_datetime'].dt.year   # 날짜_datetime_year 년 ,월 따로 보고 싶을 때 \n",
    "df_DL['날짜_datetime_month'] = df_DL['날짜_datetime'].dt.month "
   ]
  },
  {
   "cell_type": "code",
   "execution_count": null,
   "id": "dc68cc01-1d40-471e-a047-c06031572d4f",
   "metadata": {
    "tags": []
   },
   "outputs": [],
   "source": [
    "pd.pivot_table(data=df_DL, index='날짜_datetime_month', values='출고수량', aggfunc=sum).plot(kind='bar')  # 1차 방법 (2차 데이터 사용시)"
   ]
  },
  {
   "cell_type": "code",
   "execution_count": null,
   "id": "18275d14-0ba7-4cc3-acbb-69856931b6ca",
   "metadata": {
    "tags": []
   },
   "outputs": [],
   "source": [
    "sns.barplot(data=df_DL, x='날짜_datetime_month', y='출고수량', estimator='sum') # 2차 방법 (단순 시각화)"
   ]
  },
  {
   "cell_type": "code",
   "execution_count": null,
   "id": "a700aa65-e769-47a1-be93-87530f827ee6",
   "metadata": {
    "tags": []
   },
   "outputs": [],
   "source": [
    "df_DL['날짜_datetime_week'] = df_DL['날짜_datetime'].dt.weekofyear"
   ]
  },
  {
   "cell_type": "code",
   "execution_count": null,
   "id": "6ab7718d-c6c7-4b5e-8bc1-9d993c9ff49d",
   "metadata": {
    "tags": []
   },
   "outputs": [],
   "source": [
    "sns.lineplot(data=df_DL, x='날짜_datetime_week', y='출고수량', estimator='sum')"
   ]
  },
  {
   "cell_type": "markdown",
   "id": "baddb1fe-7e77-4c20-8305-5d4d4b91e96c",
   "metadata": {
    "tags": []
   },
   "source": [
    "### DeliveryList 2"
   ]
  },
  {
   "cell_type": "code",
   "execution_count": 7,
   "id": "815466f0-ae1f-47ee-b573-0efce566b7e9",
   "metadata": {
    "tags": []
   },
   "outputs": [],
   "source": [
    "#배송시작일과 배송완료일에 차이를 구해 배송일을 개선"
   ]
  },
  {
   "cell_type": "code",
   "execution_count": 8,
   "id": "7e989c40-0aa6-402f-8e61-72eafb09ba96",
   "metadata": {
    "tags": []
   },
   "outputs": [
    {
     "data": {
      "text/html": [
       "<div>\n",
       "<style scoped>\n",
       "    .dataframe tbody tr th:only-of-type {\n",
       "        vertical-align: middle;\n",
       "    }\n",
       "\n",
       "    .dataframe tbody tr th {\n",
       "        vertical-align: top;\n",
       "    }\n",
       "\n",
       "    .dataframe thead th {\n",
       "        text-align: right;\n",
       "    }\n",
       "</style>\n",
       "<table border=\"1\" class=\"dataframe\">\n",
       "  <thead>\n",
       "    <tr style=\"text-align: right;\">\n",
       "      <th></th>\n",
       "      <th>결제수단</th>\n",
       "      <th>배송번호</th>\n",
       "      <th>배송시작일</th>\n",
       "      <th>배송완료일</th>\n",
       "      <th>상품구매금액</th>\n",
       "      <th>상품번호</th>\n",
       "      <th>수량</th>\n",
       "      <th>주문경로</th>\n",
       "      <th>주문일</th>\n",
       "    </tr>\n",
       "  </thead>\n",
       "  <tbody>\n",
       "    <tr>\n",
       "      <th>0</th>\n",
       "      <td>무통장입금</td>\n",
       "      <td>D-20181227-0000648-00</td>\n",
       "      <td>2019-01-07 오전 8:56</td>\n",
       "      <td>2019-01-11 오전 5:32</td>\n",
       "      <td>71450</td>\n",
       "      <td>1077.0</td>\n",
       "      <td>1</td>\n",
       "      <td>PC쇼핑몰</td>\n",
       "      <td>20181227</td>\n",
       "    </tr>\n",
       "    <tr>\n",
       "      <th>1</th>\n",
       "      <td>무통장입금</td>\n",
       "      <td>D-20181229-0000119-00</td>\n",
       "      <td>2019-01-03 오전 9:30</td>\n",
       "      <td>2019-01-07 오전 5:32</td>\n",
       "      <td>141240</td>\n",
       "      <td>42.0</td>\n",
       "      <td>2</td>\n",
       "      <td>모바일웹</td>\n",
       "      <td>20181229</td>\n",
       "    </tr>\n",
       "  </tbody>\n",
       "</table>\n",
       "</div>"
      ],
      "text/plain": [
       "    결제수단                   배송번호               배송시작일               배송완료일  \\\n",
       "0  무통장입금  D-20181227-0000648-00  2019-01-07 오전 8:56  2019-01-11 오전 5:32   \n",
       "1  무통장입금  D-20181229-0000119-00  2019-01-03 오전 9:30  2019-01-07 오전 5:32   \n",
       "\n",
       "   상품구매금액    상품번호  수량   주문경로       주문일  \n",
       "0   71450  1077.0   1  PC쇼핑몰  20181227  \n",
       "1  141240    42.0   2   모바일웹  20181229  "
      ]
     },
     "execution_count": 8,
     "metadata": {},
     "output_type": "execute_result"
    }
   ],
   "source": [
    "df_DL2 = pd.read_csv('../../datasets/DeliveryList2.csv')\n",
    "df_DL2 [:2]"
   ]
  },
  {
   "cell_type": "code",
   "execution_count": 9,
   "id": "1db275e2-041e-4adc-af49-3c5fb351615f",
   "metadata": {
    "tags": []
   },
   "outputs": [
    {
     "data": {
      "text/html": [
       "<div>\n",
       "<style scoped>\n",
       "    .dataframe tbody tr th:only-of-type {\n",
       "        vertical-align: middle;\n",
       "    }\n",
       "\n",
       "    .dataframe tbody tr th {\n",
       "        vertical-align: top;\n",
       "    }\n",
       "\n",
       "    .dataframe thead th {\n",
       "        text-align: right;\n",
       "    }\n",
       "</style>\n",
       "<table border=\"1\" class=\"dataframe\">\n",
       "  <thead>\n",
       "    <tr style=\"text-align: right;\">\n",
       "      <th></th>\n",
       "      <th>상품구매금액</th>\n",
       "      <th>상품번호</th>\n",
       "      <th>수량</th>\n",
       "      <th>주문일</th>\n",
       "    </tr>\n",
       "  </thead>\n",
       "  <tbody>\n",
       "    <tr>\n",
       "      <th>count</th>\n",
       "      <td>4.674900e+04</td>\n",
       "      <td>46661.000000</td>\n",
       "      <td>46749.000000</td>\n",
       "      <td>4.674900e+04</td>\n",
       "    </tr>\n",
       "    <tr>\n",
       "      <th>mean</th>\n",
       "      <td>6.936814e+04</td>\n",
       "      <td>763.193073</td>\n",
       "      <td>1.177822</td>\n",
       "      <td>2.018404e+07</td>\n",
       "    </tr>\n",
       "    <tr>\n",
       "      <th>std</th>\n",
       "      <td>6.611247e+04</td>\n",
       "      <td>456.323734</td>\n",
       "      <td>0.683334</td>\n",
       "      <td>5.192403e+03</td>\n",
       "    </tr>\n",
       "    <tr>\n",
       "      <th>min</th>\n",
       "      <td>0.000000e+00</td>\n",
       "      <td>38.000000</td>\n",
       "      <td>1.000000</td>\n",
       "      <td>2.017010e+07</td>\n",
       "    </tr>\n",
       "    <tr>\n",
       "      <th>25%</th>\n",
       "      <td>3.288000e+04</td>\n",
       "      <td>378.000000</td>\n",
       "      <td>1.000000</td>\n",
       "      <td>2.018073e+07</td>\n",
       "    </tr>\n",
       "    <tr>\n",
       "      <th>50%</th>\n",
       "      <td>6.778000e+04</td>\n",
       "      <td>928.000000</td>\n",
       "      <td>1.000000</td>\n",
       "      <td>2.018112e+07</td>\n",
       "    </tr>\n",
       "    <tr>\n",
       "      <th>75%</th>\n",
       "      <td>9.213000e+04</td>\n",
       "      <td>1209.000000</td>\n",
       "      <td>1.000000</td>\n",
       "      <td>2.019022e+07</td>\n",
       "    </tr>\n",
       "    <tr>\n",
       "      <th>max</th>\n",
       "      <td>4.963400e+06</td>\n",
       "      <td>1681.000000</td>\n",
       "      <td>50.000000</td>\n",
       "      <td>2.019062e+07</td>\n",
       "    </tr>\n",
       "  </tbody>\n",
       "</table>\n",
       "</div>"
      ],
      "text/plain": [
       "             상품구매금액          상품번호            수량           주문일\n",
       "count  4.674900e+04  46661.000000  46749.000000  4.674900e+04\n",
       "mean   6.936814e+04    763.193073      1.177822  2.018404e+07\n",
       "std    6.611247e+04    456.323734      0.683334  5.192403e+03\n",
       "min    0.000000e+00     38.000000      1.000000  2.017010e+07\n",
       "25%    3.288000e+04    378.000000      1.000000  2.018073e+07\n",
       "50%    6.778000e+04    928.000000      1.000000  2.018112e+07\n",
       "75%    9.213000e+04   1209.000000      1.000000  2.019022e+07\n",
       "max    4.963400e+06   1681.000000     50.000000  2.019062e+07"
      ]
     },
     "execution_count": 9,
     "metadata": {},
     "output_type": "execute_result"
    }
   ],
   "source": [
    "df_DL2.describe(datetime_is_numeric=True)"
   ]
  },
  {
   "cell_type": "markdown",
   "id": "a4334cab-6ccf-48af-aa24-ad901cf63689",
   "metadata": {},
   "source": [
    "#### int 형은 string and then datetime 순서로 변환"
   ]
  },
  {
   "cell_type": "code",
   "execution_count": 10,
   "id": "0e96678d-88b2-4d3f-98dc-6aabe6798ea9",
   "metadata": {
    "tags": []
   },
   "outputs": [
    {
     "name": "stdout",
     "output_type": "stream",
     "text": [
      "<class 'pandas.core.series.Series'>\n",
      "RangeIndex: 46749 entries, 0 to 46748\n",
      "Series name: 주문일\n",
      "Non-Null Count  Dtype\n",
      "--------------  -----\n",
      "46749 non-null  int64\n",
      "dtypes: int64(1)\n",
      "memory usage: 365.4 KB\n"
     ]
    }
   ],
   "source": [
    "df_DL2['주문일'].info()"
   ]
  },
  {
   "cell_type": "code",
   "execution_count": 11,
   "id": "3d5ea488-2081-408b-b4e5-3672873d2736",
   "metadata": {
    "tags": []
   },
   "outputs": [
    {
     "data": {
      "text/plain": [
       "0       2018-12-27\n",
       "1       2018-12-29\n",
       "2       2018-12-30\n",
       "3       2018-12-31\n",
       "4       2018-12-31\n",
       "           ...    \n",
       "46744   2017-12-29\n",
       "46745   2017-12-29\n",
       "46746   2017-12-30\n",
       "46747   2017-12-31\n",
       "46748   2017-12-31\n",
       "Name: 주문일, Length: 46749, dtype: datetime64[ns]"
      ]
     },
     "execution_count": 11,
     "metadata": {},
     "output_type": "execute_result"
    }
   ],
   "source": [
    "pd.to_datetime(df_DL2['주문일'].astype(str))"
   ]
  },
  {
   "cell_type": "markdown",
   "id": "11fd8e06-94bd-4ecd-afdb-0de1bca912c5",
   "metadata": {},
   "source": [
    "### 특정 기호가 들어간 string 경우 apply() 적용 후 datetime 변환"
   ]
  },
  {
   "cell_type": "code",
   "execution_count": 12,
   "id": "1b25a370-c20d-4085-a6e1-afd54dbfa8a8",
   "metadata": {
    "tags": []
   },
   "outputs": [],
   "source": [
    "# str('2019-01-11 오전 5:32')[:10]\n",
    "def slicing_YMD(datetime_str) : \n",
    "   return datetime_str[:10] "
   ]
  },
  {
   "cell_type": "code",
   "execution_count": 13,
   "id": "fc3454f8-b7c1-4beb-b60f-0eb208fa8d91",
   "metadata": {
    "tags": []
   },
   "outputs": [],
   "source": [
    "df_DL2['배송시작일_datetime'] = pd.to_datetime(df_DL2['배송시작일'].apply(slicing_YMD))\n",
    "df_DL2['배송완료일_datetime'] = pd.to_datetime(df_DL2['배송완료일'].apply(slicing_YMD))"
   ]
  },
  {
   "cell_type": "code",
   "execution_count": 14,
   "id": "d5b142e0-2d63-4377-a12c-141fe0637ee4",
   "metadata": {
    "tags": []
   },
   "outputs": [
    {
     "name": "stdout",
     "output_type": "stream",
     "text": [
      "<class 'pandas.core.frame.DataFrame'>\n",
      "RangeIndex: 46749 entries, 0 to 46748\n",
      "Data columns (total 2 columns):\n",
      " #   Column          Non-Null Count  Dtype         \n",
      "---  ------          --------------  -----         \n",
      " 0   배송시작일_datetime  46749 non-null  datetime64[ns]\n",
      " 1   배송완료일_datetime  46749 non-null  datetime64[ns]\n",
      "dtypes: datetime64[ns](2)\n",
      "memory usage: 730.6 KB\n"
     ]
    }
   ],
   "source": [
    "df_DL2[['배송시작일_datetime','배송완료일_datetime']].info()"
   ]
  },
  {
   "cell_type": "code",
   "execution_count": 15,
   "id": "2d8ce39d-9269-46fa-9511-8dfd85e1c47f",
   "metadata": {
    "tags": []
   },
   "outputs": [
    {
     "data": {
      "text/plain": [
       "0       4 days\n",
       "1       4 days\n",
       "2       4 days\n",
       "3       4 days\n",
       "4       4 days\n",
       "         ...  \n",
       "46744   4 days\n",
       "46745   4 days\n",
       "46746   9 days\n",
       "46747   3 days\n",
       "46748   4 days\n",
       "Name: 배송_duration, Length: 46749, dtype: timedelta64[ns]"
      ]
     },
     "execution_count": 15,
     "metadata": {},
     "output_type": "execute_result"
    }
   ],
   "source": [
    "df_DL2['배송_duration'] = df_DL2['배송완료일_datetime'] - df_DL2['배송시작일_datetime']\n",
    "df_DL2['배송_duration']"
   ]
  },
  {
   "cell_type": "code",
   "execution_count": 16,
   "id": "f6d7e0c9-a3ca-4a6f-bb7a-784a56cad192",
   "metadata": {
    "tags": []
   },
   "outputs": [
    {
     "data": {
      "text/plain": [
       "count                        46749\n",
       "mean     4 days 04:38:57.008278251\n",
       "std      1 days 04:56:12.144368428\n",
       "min                0 days 00:00:00\n",
       "25%                4 days 00:00:00\n",
       "50%                4 days 00:00:00\n",
       "75%                4 days 00:00:00\n",
       "max               47 days 00:00:00\n",
       "Name: 배송_duration, dtype: object"
      ]
     },
     "execution_count": 16,
     "metadata": {},
     "output_type": "execute_result"
    }
   ],
   "source": [
    "df_DL2['배송_duration'].describe()"
   ]
  },
  {
   "cell_type": "code",
   "execution_count": null,
   "id": "de87bbc1-f04e-4610-8f25-541e5e4d2cb9",
   "metadata": {},
   "outputs": [],
   "source": []
  }
 ],
 "metadata": {
  "kernelspec": {
   "display_name": "Python 3 (ipykernel)",
   "language": "python",
   "name": "python3"
  },
  "language_info": {
   "codemirror_mode": {
    "name": "ipython",
    "version": 3
   },
   "file_extension": ".py",
   "mimetype": "text/x-python",
   "name": "python",
   "nbconvert_exporter": "python",
   "pygments_lexer": "ipython3",
   "version": "3.11.3"
  }
 },
 "nbformat": 4,
 "nbformat_minor": 5
}
