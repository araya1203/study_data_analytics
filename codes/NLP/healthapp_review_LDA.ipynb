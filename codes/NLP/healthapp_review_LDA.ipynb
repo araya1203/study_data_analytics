{
  "nbformat": 4,
  "nbformat_minor": 0,
  "metadata": {
    "colab": {
      "provenance": [],
      "authorship_tag": "ABX9TyNhC3eQn0FvXhie6W+qTjd2",
      "include_colab_link": true
    },
    "kernelspec": {
      "name": "python3",
      "display_name": "Python 3"
    },
    "language_info": {
      "name": "python"
    }
  },
  "cells": [
    {
      "cell_type": "markdown",
      "metadata": {
        "id": "view-in-github",
        "colab_type": "text"
      },
      "source": [
        "<a href=\"https://colab.research.google.com/github/araya1203/study_data_analytics/blob/main/codes/NLP/healthapp_review_LDA.ipynb\" target=\"_parent\"><img src=\"https://colab.research.google.com/assets/colab-badge.svg\" alt=\"Open In Colab\"/></a>"
      ]
    },
    {
      "cell_type": "code",
      "source": [
        "# refer : https://heytech.tistory.com/401"
      ],
      "metadata": {
        "id": "hnPDIT_IkC65"
      },
      "execution_count": 1,
      "outputs": []
    },
    {
      "cell_type": "code",
      "execution_count": 2,
      "metadata": {
        "id": "OXfWPdzCjgwU"
      },
      "outputs": [],
      "source": [
        "# !pip install python-mecab-ko pyLDAvis"
      ]
    },
    {
      "cell_type": "code",
      "source": [
        "import pandas as pd\n",
        "\n",
        "df_review_negative = pd.read_csv('./review_negative.csv')\n"
      ],
      "metadata": {
        "id": "419IUVGEo_RN"
      },
      "execution_count": 3,
      "outputs": []
    },
    {
      "cell_type": "code",
      "source": [
        "df_review_negative.info()"
      ],
      "metadata": {
        "colab": {
          "base_uri": "https://localhost:8080/"
        },
        "id": "I7I5ev_PnY4F",
        "outputId": "b66bd76f-5623-4a34-dd70-a32189bfd377"
      },
      "execution_count": 4,
      "outputs": [
        {
          "output_type": "stream",
          "name": "stdout",
          "text": [
            "<class 'pandas.core.frame.DataFrame'>\n",
            "RangeIndex: 413 entries, 0 to 412\n",
            "Data columns (total 6 columns):\n",
            " #   Column            Non-Null Count  Dtype \n",
            "---  ------            --------------  ----- \n",
            " 0   Unnamed: 0        413 non-null    int64 \n",
            " 1   app               413 non-null    object\n",
            " 2   review            413 non-null    object\n",
            " 3   rating            413 non-null    int64 \n",
            " 4   tokenized_review  346 non-null    object\n",
            " 5   replaced_review   346 non-null    object\n",
            "dtypes: int64(2), object(4)\n",
            "memory usage: 19.5+ KB\n"
          ]
        }
      ]
    },
    {
      "cell_type": "code",
      "source": [
        "df_review_negative = df_review_negative.dropna()"
      ],
      "metadata": {
        "id": "KwdueVlEnj2t"
      },
      "execution_count": 5,
      "outputs": []
    },
    {
      "cell_type": "markdown",
      "source": [
        "### LDA 분석"
      ],
      "metadata": {
        "id": "gj5hvsj3gyo1"
      }
    },
    {
      "cell_type": "markdown",
      "source": [
        "#### 문장 벡터화"
      ],
      "metadata": {
        "id": "wThNNsHc3CxT"
      }
    },
    {
      "cell_type": "code",
      "source": [
        "!pip install --upgrade numpy"
      ],
      "metadata": {
        "colab": {
          "base_uri": "https://localhost:8080/"
        },
        "id": "JwM_T138xzy6",
        "outputId": "de122001-b1cd-4ef0-c671-32b796c9a5b3"
      },
      "execution_count": 6,
      "outputs": [
        {
          "output_type": "stream",
          "name": "stdout",
          "text": [
            "Requirement already satisfied: numpy in /usr/local/lib/python3.10/dist-packages (1.25.2)\n"
          ]
        }
      ]
    },
    {
      "cell_type": "code",
      "source": [
        "from gensim.corpora import Dictionary"
      ],
      "metadata": {
        "id": "JnIV2PiZg3TM"
      },
      "execution_count": 7,
      "outputs": []
    },
    {
      "cell_type": "code",
      "source": [
        "df_review_negative[['replaced_review']]"
      ],
      "metadata": {
        "colab": {
          "base_uri": "https://localhost:8080/",
          "height": 424
        },
        "id": "MQBnTj8mtYxL",
        "outputId": "b2e70941-be55-4bab-aa08-828d43d6d032"
      },
      "execution_count": 8,
      "outputs": [
        {
          "output_type": "execute_result",
          "data": {
            "text/plain": [
              "                         replaced_review\n",
              "3                                    칼로리\n",
              "5                                     마음\n",
              "7                                     오류\n",
              "8                                     모야\n",
              "9                                     느림\n",
              "..                                   ...\n",
              "406                             운동 리뷰 출창\n",
              "407                                광고 짜증\n",
              "408  운동 친절 운동 운동 체계 순서 운동 기분 시작 운동 구간 시작\n",
              "409                                광고 운동\n",
              "412                                광고 짜증\n",
              "\n",
              "[346 rows x 1 columns]"
            ],
            "text/html": [
              "\n",
              "  <div id=\"df-a00a7f09-053e-4266-85e0-846c41eb80c4\" class=\"colab-df-container\">\n",
              "    <div>\n",
              "<style scoped>\n",
              "    .dataframe tbody tr th:only-of-type {\n",
              "        vertical-align: middle;\n",
              "    }\n",
              "\n",
              "    .dataframe tbody tr th {\n",
              "        vertical-align: top;\n",
              "    }\n",
              "\n",
              "    .dataframe thead th {\n",
              "        text-align: right;\n",
              "    }\n",
              "</style>\n",
              "<table border=\"1\" class=\"dataframe\">\n",
              "  <thead>\n",
              "    <tr style=\"text-align: right;\">\n",
              "      <th></th>\n",
              "      <th>replaced_review</th>\n",
              "    </tr>\n",
              "  </thead>\n",
              "  <tbody>\n",
              "    <tr>\n",
              "      <th>3</th>\n",
              "      <td>칼로리</td>\n",
              "    </tr>\n",
              "    <tr>\n",
              "      <th>5</th>\n",
              "      <td>마음</td>\n",
              "    </tr>\n",
              "    <tr>\n",
              "      <th>7</th>\n",
              "      <td>오류</td>\n",
              "    </tr>\n",
              "    <tr>\n",
              "      <th>8</th>\n",
              "      <td>모야</td>\n",
              "    </tr>\n",
              "    <tr>\n",
              "      <th>9</th>\n",
              "      <td>느림</td>\n",
              "    </tr>\n",
              "    <tr>\n",
              "      <th>...</th>\n",
              "      <td>...</td>\n",
              "    </tr>\n",
              "    <tr>\n",
              "      <th>406</th>\n",
              "      <td>운동 리뷰 출창</td>\n",
              "    </tr>\n",
              "    <tr>\n",
              "      <th>407</th>\n",
              "      <td>광고 짜증</td>\n",
              "    </tr>\n",
              "    <tr>\n",
              "      <th>408</th>\n",
              "      <td>운동 친절 운동 운동 체계 순서 운동 기분 시작 운동 구간 시작</td>\n",
              "    </tr>\n",
              "    <tr>\n",
              "      <th>409</th>\n",
              "      <td>광고 운동</td>\n",
              "    </tr>\n",
              "    <tr>\n",
              "      <th>412</th>\n",
              "      <td>광고 짜증</td>\n",
              "    </tr>\n",
              "  </tbody>\n",
              "</table>\n",
              "<p>346 rows × 1 columns</p>\n",
              "</div>\n",
              "    <div class=\"colab-df-buttons\">\n",
              "\n",
              "  <div class=\"colab-df-container\">\n",
              "    <button class=\"colab-df-convert\" onclick=\"convertToInteractive('df-a00a7f09-053e-4266-85e0-846c41eb80c4')\"\n",
              "            title=\"Convert this dataframe to an interactive table.\"\n",
              "            style=\"display:none;\">\n",
              "\n",
              "  <svg xmlns=\"http://www.w3.org/2000/svg\" height=\"24px\" viewBox=\"0 -960 960 960\">\n",
              "    <path d=\"M120-120v-720h720v720H120Zm60-500h600v-160H180v160Zm220 220h160v-160H400v160Zm0 220h160v-160H400v160ZM180-400h160v-160H180v160Zm440 0h160v-160H620v160ZM180-180h160v-160H180v160Zm440 0h160v-160H620v160Z\"/>\n",
              "  </svg>\n",
              "    </button>\n",
              "\n",
              "  <style>\n",
              "    .colab-df-container {\n",
              "      display:flex;\n",
              "      gap: 12px;\n",
              "    }\n",
              "\n",
              "    .colab-df-convert {\n",
              "      background-color: #E8F0FE;\n",
              "      border: none;\n",
              "      border-radius: 50%;\n",
              "      cursor: pointer;\n",
              "      display: none;\n",
              "      fill: #1967D2;\n",
              "      height: 32px;\n",
              "      padding: 0 0 0 0;\n",
              "      width: 32px;\n",
              "    }\n",
              "\n",
              "    .colab-df-convert:hover {\n",
              "      background-color: #E2EBFA;\n",
              "      box-shadow: 0px 1px 2px rgba(60, 64, 67, 0.3), 0px 1px 3px 1px rgba(60, 64, 67, 0.15);\n",
              "      fill: #174EA6;\n",
              "    }\n",
              "\n",
              "    .colab-df-buttons div {\n",
              "      margin-bottom: 4px;\n",
              "    }\n",
              "\n",
              "    [theme=dark] .colab-df-convert {\n",
              "      background-color: #3B4455;\n",
              "      fill: #D2E3FC;\n",
              "    }\n",
              "\n",
              "    [theme=dark] .colab-df-convert:hover {\n",
              "      background-color: #434B5C;\n",
              "      box-shadow: 0px 1px 3px 1px rgba(0, 0, 0, 0.15);\n",
              "      filter: drop-shadow(0px 1px 2px rgba(0, 0, 0, 0.3));\n",
              "      fill: #FFFFFF;\n",
              "    }\n",
              "  </style>\n",
              "\n",
              "    <script>\n",
              "      const buttonEl =\n",
              "        document.querySelector('#df-a00a7f09-053e-4266-85e0-846c41eb80c4 button.colab-df-convert');\n",
              "      buttonEl.style.display =\n",
              "        google.colab.kernel.accessAllowed ? 'block' : 'none';\n",
              "\n",
              "      async function convertToInteractive(key) {\n",
              "        const element = document.querySelector('#df-a00a7f09-053e-4266-85e0-846c41eb80c4');\n",
              "        const dataTable =\n",
              "          await google.colab.kernel.invokeFunction('convertToInteractive',\n",
              "                                                    [key], {});\n",
              "        if (!dataTable) return;\n",
              "\n",
              "        const docLinkHtml = 'Like what you see? Visit the ' +\n",
              "          '<a target=\"_blank\" href=https://colab.research.google.com/notebooks/data_table.ipynb>data table notebook</a>'\n",
              "          + ' to learn more about interactive tables.';\n",
              "        element.innerHTML = '';\n",
              "        dataTable['output_type'] = 'display_data';\n",
              "        await google.colab.output.renderOutput(dataTable, element);\n",
              "        const docLink = document.createElement('div');\n",
              "        docLink.innerHTML = docLinkHtml;\n",
              "        element.appendChild(docLink);\n",
              "      }\n",
              "    </script>\n",
              "  </div>\n",
              "\n",
              "\n",
              "<div id=\"df-98fe1ea0-687e-4919-8adb-18738f9079f7\">\n",
              "  <button class=\"colab-df-quickchart\" onclick=\"quickchart('df-98fe1ea0-687e-4919-8adb-18738f9079f7')\"\n",
              "            title=\"Suggest charts.\"\n",
              "            style=\"display:none;\">\n",
              "\n",
              "<svg xmlns=\"http://www.w3.org/2000/svg\" height=\"24px\"viewBox=\"0 0 24 24\"\n",
              "     width=\"24px\">\n",
              "    <g>\n",
              "        <path d=\"M19 3H5c-1.1 0-2 .9-2 2v14c0 1.1.9 2 2 2h14c1.1 0 2-.9 2-2V5c0-1.1-.9-2-2-2zM9 17H7v-7h2v7zm4 0h-2V7h2v10zm4 0h-2v-4h2v4z\"/>\n",
              "    </g>\n",
              "</svg>\n",
              "  </button>\n",
              "\n",
              "<style>\n",
              "  .colab-df-quickchart {\n",
              "      --bg-color: #E8F0FE;\n",
              "      --fill-color: #1967D2;\n",
              "      --hover-bg-color: #E2EBFA;\n",
              "      --hover-fill-color: #174EA6;\n",
              "      --disabled-fill-color: #AAA;\n",
              "      --disabled-bg-color: #DDD;\n",
              "  }\n",
              "\n",
              "  [theme=dark] .colab-df-quickchart {\n",
              "      --bg-color: #3B4455;\n",
              "      --fill-color: #D2E3FC;\n",
              "      --hover-bg-color: #434B5C;\n",
              "      --hover-fill-color: #FFFFFF;\n",
              "      --disabled-bg-color: #3B4455;\n",
              "      --disabled-fill-color: #666;\n",
              "  }\n",
              "\n",
              "  .colab-df-quickchart {\n",
              "    background-color: var(--bg-color);\n",
              "    border: none;\n",
              "    border-radius: 50%;\n",
              "    cursor: pointer;\n",
              "    display: none;\n",
              "    fill: var(--fill-color);\n",
              "    height: 32px;\n",
              "    padding: 0;\n",
              "    width: 32px;\n",
              "  }\n",
              "\n",
              "  .colab-df-quickchart:hover {\n",
              "    background-color: var(--hover-bg-color);\n",
              "    box-shadow: 0 1px 2px rgba(60, 64, 67, 0.3), 0 1px 3px 1px rgba(60, 64, 67, 0.15);\n",
              "    fill: var(--button-hover-fill-color);\n",
              "  }\n",
              "\n",
              "  .colab-df-quickchart-complete:disabled,\n",
              "  .colab-df-quickchart-complete:disabled:hover {\n",
              "    background-color: var(--disabled-bg-color);\n",
              "    fill: var(--disabled-fill-color);\n",
              "    box-shadow: none;\n",
              "  }\n",
              "\n",
              "  .colab-df-spinner {\n",
              "    border: 2px solid var(--fill-color);\n",
              "    border-color: transparent;\n",
              "    border-bottom-color: var(--fill-color);\n",
              "    animation:\n",
              "      spin 1s steps(1) infinite;\n",
              "  }\n",
              "\n",
              "  @keyframes spin {\n",
              "    0% {\n",
              "      border-color: transparent;\n",
              "      border-bottom-color: var(--fill-color);\n",
              "      border-left-color: var(--fill-color);\n",
              "    }\n",
              "    20% {\n",
              "      border-color: transparent;\n",
              "      border-left-color: var(--fill-color);\n",
              "      border-top-color: var(--fill-color);\n",
              "    }\n",
              "    30% {\n",
              "      border-color: transparent;\n",
              "      border-left-color: var(--fill-color);\n",
              "      border-top-color: var(--fill-color);\n",
              "      border-right-color: var(--fill-color);\n",
              "    }\n",
              "    40% {\n",
              "      border-color: transparent;\n",
              "      border-right-color: var(--fill-color);\n",
              "      border-top-color: var(--fill-color);\n",
              "    }\n",
              "    60% {\n",
              "      border-color: transparent;\n",
              "      border-right-color: var(--fill-color);\n",
              "    }\n",
              "    80% {\n",
              "      border-color: transparent;\n",
              "      border-right-color: var(--fill-color);\n",
              "      border-bottom-color: var(--fill-color);\n",
              "    }\n",
              "    90% {\n",
              "      border-color: transparent;\n",
              "      border-bottom-color: var(--fill-color);\n",
              "    }\n",
              "  }\n",
              "</style>\n",
              "\n",
              "  <script>\n",
              "    async function quickchart(key) {\n",
              "      const quickchartButtonEl =\n",
              "        document.querySelector('#' + key + ' button');\n",
              "      quickchartButtonEl.disabled = true;  // To prevent multiple clicks.\n",
              "      quickchartButtonEl.classList.add('colab-df-spinner');\n",
              "      try {\n",
              "        const charts = await google.colab.kernel.invokeFunction(\n",
              "            'suggestCharts', [key], {});\n",
              "      } catch (error) {\n",
              "        console.error('Error during call to suggestCharts:', error);\n",
              "      }\n",
              "      quickchartButtonEl.classList.remove('colab-df-spinner');\n",
              "      quickchartButtonEl.classList.add('colab-df-quickchart-complete');\n",
              "    }\n",
              "    (() => {\n",
              "      let quickchartButtonEl =\n",
              "        document.querySelector('#df-98fe1ea0-687e-4919-8adb-18738f9079f7 button');\n",
              "      quickchartButtonEl.style.display =\n",
              "        google.colab.kernel.accessAllowed ? 'block' : 'none';\n",
              "    })();\n",
              "  </script>\n",
              "</div>\n",
              "    </div>\n",
              "  </div>\n"
            ]
          },
          "metadata": {},
          "execution_count": 8
        }
      ]
    },
    {
      "cell_type": "code",
      "source": [
        "dictionary = Dictionary(df_review_negative[['replaced_review']].values)\n"
      ],
      "metadata": {
        "id": "rDdmhjZtu2Aj"
      },
      "execution_count": 9,
      "outputs": []
    },
    {
      "cell_type": "code",
      "source": [
        "dictionary.doc2bow(df_review_negative[['replaced_review']].values[3])"
      ],
      "metadata": {
        "colab": {
          "base_uri": "https://localhost:8080/"
        },
        "id": "7dAYwyJAvHwa",
        "outputId": "9314c87b-2b9d-4469-bd5c-4e00b0c8299c"
      },
      "execution_count": 10,
      "outputs": [
        {
          "output_type": "execute_result",
          "data": {
            "text/plain": [
              "[(3, 1)]"
            ]
          },
          "metadata": {},
          "execution_count": 10
        }
      ]
    },
    {
      "cell_type": "code",
      "source": [
        "# dictionary에 의한 한글 문장을 벡터화 변환\n",
        "corpus_list = list()\n",
        "for sentence in df_review_negative[['replaced_review']].values :\n",
        "  vectors = dictionary.doc2bow(sentence)\n",
        "  corpus_list.append(vectors)"
      ],
      "metadata": {
        "id": "otF0w5dYwUyS"
      },
      "execution_count": 13,
      "outputs": []
    },
    {
      "cell_type": "code",
      "source": [
        "df_review_negative['문장벡터화'] = corpus_list"
      ],
      "metadata": {
        "id": "vc-cw7_bw5vF"
      },
      "execution_count": 14,
      "outputs": []
    },
    {
      "cell_type": "code",
      "source": [
        "df_review_negative.columns"
      ],
      "metadata": {
        "colab": {
          "base_uri": "https://localhost:8080/"
        },
        "id": "rbhRFt7SwyTa",
        "outputId": "b5ea6473-1058-41d3-97d3-7cd396afb2da"
      },
      "execution_count": 15,
      "outputs": [
        {
          "output_type": "execute_result",
          "data": {
            "text/plain": [
              "Index(['Unnamed: 0', 'app', 'review', 'rating', 'tokenized_review',\n",
              "       'replaced_review', '문장벡터화'],\n",
              "      dtype='object')"
            ]
          },
          "metadata": {},
          "execution_count": 15
        }
      ]
    },
    {
      "cell_type": "markdown",
      "source": [
        "### 토픽 잡기"
      ],
      "metadata": {
        "id": "5snqh39HxDCL"
      }
    },
    {
      "cell_type": "code",
      "source": [
        "from gensim.models import LdaModel"
      ],
      "metadata": {
        "id": "qCBVZSARxOvj"
      },
      "execution_count": 16,
      "outputs": []
    },
    {
      "cell_type": "code",
      "source": [
        "lda_model = LdaModel(corpus=corpus_list, id2word=dictionary, num_topics=3)"
      ],
      "metadata": {
        "colab": {
          "base_uri": "https://localhost:8080/"
        },
        "id": "USAM74HMw3LS",
        "outputId": "843de57b-bad3-47fc-8e7b-8207d7a2ec47"
      },
      "execution_count": 17,
      "outputs": [
        {
          "output_type": "stream",
          "name": "stderr",
          "text": [
            "WARNING:gensim.models.ldamodel:too few updates, training might not converge; consider increasing the number of passes or iterations to improve accuracy\n"
          ]
        }
      ]
    },
    {
      "cell_type": "code",
      "source": [
        "lda_model.print_topics(num_words=4)"
      ],
      "metadata": {
        "colab": {
          "base_uri": "https://localhost:8080/"
        },
        "id": "dNiXiOchx8ga",
        "outputId": "fcfe8e40-e813-4a53-8cc1-d0bf6036a777"
      },
      "execution_count": 18,
      "outputs": [
        {
          "output_type": "execute_result",
          "data": {
            "text/plain": [
              "[(0, '0.025*\"운동\" + 0.014*\"결제 취소\" + 0.010*\"리뷰\" + 0.009*\"결제\"'),\n",
              " (1, '0.026*\"환불\" + 0.026*\"로그인\" + 0.013*\"결제 환불\" + 0.009*\"자전거 인식 걸음\"'),\n",
              " (2, '0.014*\"불편\" + 0.010*\"광고\" + 0.010*\"최악\" + 0.010*\"자동 결제 취소\"')]"
            ]
          },
          "metadata": {},
          "execution_count": 18
        }
      ]
    },
    {
      "cell_type": "markdown",
      "source": [
        "#### quest\n",
        "- review_positive.csv 토픽 분석\n",
        "- 토픽 수는 3으로 가정"
      ],
      "metadata": {
        "id": "TQjga1F518Ak"
      }
    },
    {
      "cell_type": "code",
      "source": [
        "df_review_positive = pd.read_csv('./review_positive.csv')"
      ],
      "metadata": {
        "id": "DN9q_XUPxtSq"
      },
      "execution_count": 34,
      "outputs": []
    },
    {
      "cell_type": "code",
      "source": [
        "df_review_positive = df_review_positive.dropna()"
      ],
      "metadata": {
        "id": "cgeDcqRC02sK"
      },
      "execution_count": 35,
      "outputs": []
    },
    {
      "cell_type": "code",
      "source": [
        "df_review_positive.info()"
      ],
      "metadata": {
        "colab": {
          "base_uri": "https://localhost:8080/"
        },
        "id": "w52a37GT05J7",
        "outputId": "e5c30c8d-162c-4f4f-a56e-508d9410ee88"
      },
      "execution_count": 36,
      "outputs": [
        {
          "output_type": "stream",
          "name": "stdout",
          "text": [
            "<class 'pandas.core.frame.DataFrame'>\n",
            "Index: 4351 entries, 1 to 7585\n",
            "Data columns (total 6 columns):\n",
            " #   Column            Non-Null Count  Dtype \n",
            "---  ------            --------------  ----- \n",
            " 0   Unnamed: 0        4351 non-null   int64 \n",
            " 1   app               4351 non-null   object\n",
            " 2   review            4351 non-null   object\n",
            " 3   rating            4351 non-null   int64 \n",
            " 4   tokenized_review  4351 non-null   object\n",
            " 5   replaced_review   4351 non-null   object\n",
            "dtypes: int64(2), object(4)\n",
            "memory usage: 237.9+ KB\n"
          ]
        }
      ]
    },
    {
      "cell_type": "code",
      "source": [
        "df_review_positive[['replaced_review']]"
      ],
      "metadata": {
        "colab": {
          "base_uri": "https://localhost:8080/",
          "height": 424
        },
        "id": "i0igz9yG1Eq6",
        "outputId": "b33cc32a-47e2-477a-a4fe-785b29d9299b"
      },
      "execution_count": 37,
      "outputs": [
        {
          "output_type": "execute_result",
          "data": {
            "text/plain": [
              "        replaced_review\n",
              "1                    최고\n",
              "4              필요 운동 최고\n",
              "5                 운동 최고\n",
              "7                 집중 운동\n",
              "12                운동 도움\n",
              "...                 ...\n",
              "7579  리뷰 설명 타임 운동 추천 건강\n",
              "7580    운동 몸무게 점차 저녁 기대\n",
              "7582                 추천\n",
              "7583              운동 영상\n",
              "7585                 추천\n",
              "\n",
              "[4351 rows x 1 columns]"
            ],
            "text/html": [
              "\n",
              "  <div id=\"df-a9a508fc-d9d0-4216-9875-3535fd5585c4\" class=\"colab-df-container\">\n",
              "    <div>\n",
              "<style scoped>\n",
              "    .dataframe tbody tr th:only-of-type {\n",
              "        vertical-align: middle;\n",
              "    }\n",
              "\n",
              "    .dataframe tbody tr th {\n",
              "        vertical-align: top;\n",
              "    }\n",
              "\n",
              "    .dataframe thead th {\n",
              "        text-align: right;\n",
              "    }\n",
              "</style>\n",
              "<table border=\"1\" class=\"dataframe\">\n",
              "  <thead>\n",
              "    <tr style=\"text-align: right;\">\n",
              "      <th></th>\n",
              "      <th>replaced_review</th>\n",
              "    </tr>\n",
              "  </thead>\n",
              "  <tbody>\n",
              "    <tr>\n",
              "      <th>1</th>\n",
              "      <td>최고</td>\n",
              "    </tr>\n",
              "    <tr>\n",
              "      <th>4</th>\n",
              "      <td>필요 운동 최고</td>\n",
              "    </tr>\n",
              "    <tr>\n",
              "      <th>5</th>\n",
              "      <td>운동 최고</td>\n",
              "    </tr>\n",
              "    <tr>\n",
              "      <th>7</th>\n",
              "      <td>집중 운동</td>\n",
              "    </tr>\n",
              "    <tr>\n",
              "      <th>12</th>\n",
              "      <td>운동 도움</td>\n",
              "    </tr>\n",
              "    <tr>\n",
              "      <th>...</th>\n",
              "      <td>...</td>\n",
              "    </tr>\n",
              "    <tr>\n",
              "      <th>7579</th>\n",
              "      <td>리뷰 설명 타임 운동 추천 건강</td>\n",
              "    </tr>\n",
              "    <tr>\n",
              "      <th>7580</th>\n",
              "      <td>운동 몸무게 점차 저녁 기대</td>\n",
              "    </tr>\n",
              "    <tr>\n",
              "      <th>7582</th>\n",
              "      <td>추천</td>\n",
              "    </tr>\n",
              "    <tr>\n",
              "      <th>7583</th>\n",
              "      <td>운동 영상</td>\n",
              "    </tr>\n",
              "    <tr>\n",
              "      <th>7585</th>\n",
              "      <td>추천</td>\n",
              "    </tr>\n",
              "  </tbody>\n",
              "</table>\n",
              "<p>4351 rows × 1 columns</p>\n",
              "</div>\n",
              "    <div class=\"colab-df-buttons\">\n",
              "\n",
              "  <div class=\"colab-df-container\">\n",
              "    <button class=\"colab-df-convert\" onclick=\"convertToInteractive('df-a9a508fc-d9d0-4216-9875-3535fd5585c4')\"\n",
              "            title=\"Convert this dataframe to an interactive table.\"\n",
              "            style=\"display:none;\">\n",
              "\n",
              "  <svg xmlns=\"http://www.w3.org/2000/svg\" height=\"24px\" viewBox=\"0 -960 960 960\">\n",
              "    <path d=\"M120-120v-720h720v720H120Zm60-500h600v-160H180v160Zm220 220h160v-160H400v160Zm0 220h160v-160H400v160ZM180-400h160v-160H180v160Zm440 0h160v-160H620v160ZM180-180h160v-160H180v160Zm440 0h160v-160H620v160Z\"/>\n",
              "  </svg>\n",
              "    </button>\n",
              "\n",
              "  <style>\n",
              "    .colab-df-container {\n",
              "      display:flex;\n",
              "      gap: 12px;\n",
              "    }\n",
              "\n",
              "    .colab-df-convert {\n",
              "      background-color: #E8F0FE;\n",
              "      border: none;\n",
              "      border-radius: 50%;\n",
              "      cursor: pointer;\n",
              "      display: none;\n",
              "      fill: #1967D2;\n",
              "      height: 32px;\n",
              "      padding: 0 0 0 0;\n",
              "      width: 32px;\n",
              "    }\n",
              "\n",
              "    .colab-df-convert:hover {\n",
              "      background-color: #E2EBFA;\n",
              "      box-shadow: 0px 1px 2px rgba(60, 64, 67, 0.3), 0px 1px 3px 1px rgba(60, 64, 67, 0.15);\n",
              "      fill: #174EA6;\n",
              "    }\n",
              "\n",
              "    .colab-df-buttons div {\n",
              "      margin-bottom: 4px;\n",
              "    }\n",
              "\n",
              "    [theme=dark] .colab-df-convert {\n",
              "      background-color: #3B4455;\n",
              "      fill: #D2E3FC;\n",
              "    }\n",
              "\n",
              "    [theme=dark] .colab-df-convert:hover {\n",
              "      background-color: #434B5C;\n",
              "      box-shadow: 0px 1px 3px 1px rgba(0, 0, 0, 0.15);\n",
              "      filter: drop-shadow(0px 1px 2px rgba(0, 0, 0, 0.3));\n",
              "      fill: #FFFFFF;\n",
              "    }\n",
              "  </style>\n",
              "\n",
              "    <script>\n",
              "      const buttonEl =\n",
              "        document.querySelector('#df-a9a508fc-d9d0-4216-9875-3535fd5585c4 button.colab-df-convert');\n",
              "      buttonEl.style.display =\n",
              "        google.colab.kernel.accessAllowed ? 'block' : 'none';\n",
              "\n",
              "      async function convertToInteractive(key) {\n",
              "        const element = document.querySelector('#df-a9a508fc-d9d0-4216-9875-3535fd5585c4');\n",
              "        const dataTable =\n",
              "          await google.colab.kernel.invokeFunction('convertToInteractive',\n",
              "                                                    [key], {});\n",
              "        if (!dataTable) return;\n",
              "\n",
              "        const docLinkHtml = 'Like what you see? Visit the ' +\n",
              "          '<a target=\"_blank\" href=https://colab.research.google.com/notebooks/data_table.ipynb>data table notebook</a>'\n",
              "          + ' to learn more about interactive tables.';\n",
              "        element.innerHTML = '';\n",
              "        dataTable['output_type'] = 'display_data';\n",
              "        await google.colab.output.renderOutput(dataTable, element);\n",
              "        const docLink = document.createElement('div');\n",
              "        docLink.innerHTML = docLinkHtml;\n",
              "        element.appendChild(docLink);\n",
              "      }\n",
              "    </script>\n",
              "  </div>\n",
              "\n",
              "\n",
              "<div id=\"df-f710b863-a842-4184-a160-9c288749bcc5\">\n",
              "  <button class=\"colab-df-quickchart\" onclick=\"quickchart('df-f710b863-a842-4184-a160-9c288749bcc5')\"\n",
              "            title=\"Suggest charts.\"\n",
              "            style=\"display:none;\">\n",
              "\n",
              "<svg xmlns=\"http://www.w3.org/2000/svg\" height=\"24px\"viewBox=\"0 0 24 24\"\n",
              "     width=\"24px\">\n",
              "    <g>\n",
              "        <path d=\"M19 3H5c-1.1 0-2 .9-2 2v14c0 1.1.9 2 2 2h14c1.1 0 2-.9 2-2V5c0-1.1-.9-2-2-2zM9 17H7v-7h2v7zm4 0h-2V7h2v10zm4 0h-2v-4h2v4z\"/>\n",
              "    </g>\n",
              "</svg>\n",
              "  </button>\n",
              "\n",
              "<style>\n",
              "  .colab-df-quickchart {\n",
              "      --bg-color: #E8F0FE;\n",
              "      --fill-color: #1967D2;\n",
              "      --hover-bg-color: #E2EBFA;\n",
              "      --hover-fill-color: #174EA6;\n",
              "      --disabled-fill-color: #AAA;\n",
              "      --disabled-bg-color: #DDD;\n",
              "  }\n",
              "\n",
              "  [theme=dark] .colab-df-quickchart {\n",
              "      --bg-color: #3B4455;\n",
              "      --fill-color: #D2E3FC;\n",
              "      --hover-bg-color: #434B5C;\n",
              "      --hover-fill-color: #FFFFFF;\n",
              "      --disabled-bg-color: #3B4455;\n",
              "      --disabled-fill-color: #666;\n",
              "  }\n",
              "\n",
              "  .colab-df-quickchart {\n",
              "    background-color: var(--bg-color);\n",
              "    border: none;\n",
              "    border-radius: 50%;\n",
              "    cursor: pointer;\n",
              "    display: none;\n",
              "    fill: var(--fill-color);\n",
              "    height: 32px;\n",
              "    padding: 0;\n",
              "    width: 32px;\n",
              "  }\n",
              "\n",
              "  .colab-df-quickchart:hover {\n",
              "    background-color: var(--hover-bg-color);\n",
              "    box-shadow: 0 1px 2px rgba(60, 64, 67, 0.3), 0 1px 3px 1px rgba(60, 64, 67, 0.15);\n",
              "    fill: var(--button-hover-fill-color);\n",
              "  }\n",
              "\n",
              "  .colab-df-quickchart-complete:disabled,\n",
              "  .colab-df-quickchart-complete:disabled:hover {\n",
              "    background-color: var(--disabled-bg-color);\n",
              "    fill: var(--disabled-fill-color);\n",
              "    box-shadow: none;\n",
              "  }\n",
              "\n",
              "  .colab-df-spinner {\n",
              "    border: 2px solid var(--fill-color);\n",
              "    border-color: transparent;\n",
              "    border-bottom-color: var(--fill-color);\n",
              "    animation:\n",
              "      spin 1s steps(1) infinite;\n",
              "  }\n",
              "\n",
              "  @keyframes spin {\n",
              "    0% {\n",
              "      border-color: transparent;\n",
              "      border-bottom-color: var(--fill-color);\n",
              "      border-left-color: var(--fill-color);\n",
              "    }\n",
              "    20% {\n",
              "      border-color: transparent;\n",
              "      border-left-color: var(--fill-color);\n",
              "      border-top-color: var(--fill-color);\n",
              "    }\n",
              "    30% {\n",
              "      border-color: transparent;\n",
              "      border-left-color: var(--fill-color);\n",
              "      border-top-color: var(--fill-color);\n",
              "      border-right-color: var(--fill-color);\n",
              "    }\n",
              "    40% {\n",
              "      border-color: transparent;\n",
              "      border-right-color: var(--fill-color);\n",
              "      border-top-color: var(--fill-color);\n",
              "    }\n",
              "    60% {\n",
              "      border-color: transparent;\n",
              "      border-right-color: var(--fill-color);\n",
              "    }\n",
              "    80% {\n",
              "      border-color: transparent;\n",
              "      border-right-color: var(--fill-color);\n",
              "      border-bottom-color: var(--fill-color);\n",
              "    }\n",
              "    90% {\n",
              "      border-color: transparent;\n",
              "      border-bottom-color: var(--fill-color);\n",
              "    }\n",
              "  }\n",
              "</style>\n",
              "\n",
              "  <script>\n",
              "    async function quickchart(key) {\n",
              "      const quickchartButtonEl =\n",
              "        document.querySelector('#' + key + ' button');\n",
              "      quickchartButtonEl.disabled = true;  // To prevent multiple clicks.\n",
              "      quickchartButtonEl.classList.add('colab-df-spinner');\n",
              "      try {\n",
              "        const charts = await google.colab.kernel.invokeFunction(\n",
              "            'suggestCharts', [key], {});\n",
              "      } catch (error) {\n",
              "        console.error('Error during call to suggestCharts:', error);\n",
              "      }\n",
              "      quickchartButtonEl.classList.remove('colab-df-spinner');\n",
              "      quickchartButtonEl.classList.add('colab-df-quickchart-complete');\n",
              "    }\n",
              "    (() => {\n",
              "      let quickchartButtonEl =\n",
              "        document.querySelector('#df-f710b863-a842-4184-a160-9c288749bcc5 button');\n",
              "      quickchartButtonEl.style.display =\n",
              "        google.colab.kernel.accessAllowed ? 'block' : 'none';\n",
              "    })();\n",
              "  </script>\n",
              "</div>\n",
              "    </div>\n",
              "  </div>\n"
            ]
          },
          "metadata": {},
          "execution_count": 37
        }
      ]
    },
    {
      "cell_type": "code",
      "source": [
        "dictionary_positive = Dictionary(df_review_positive[['replaced_review']].values)"
      ],
      "metadata": {
        "id": "dh69m0YR1Ami"
      },
      "execution_count": 38,
      "outputs": []
    },
    {
      "cell_type": "code",
      "source": [
        "dictionary_positive.doc2bow(df_review_positive[['replaced_review']].values[3])"
      ],
      "metadata": {
        "colab": {
          "base_uri": "https://localhost:8080/"
        },
        "id": "zU9Ya2R21Zkz",
        "outputId": "0d1e6c9c-78c4-4588-d5aa-ec31bd5a1cbb"
      },
      "execution_count": 39,
      "outputs": [
        {
          "output_type": "execute_result",
          "data": {
            "text/plain": [
              "[(3, 1)]"
            ]
          },
          "metadata": {},
          "execution_count": 39
        }
      ]
    },
    {
      "cell_type": "code",
      "source": [
        "# dictionary_positive에 의한 한글 문장을 벡터화 변환\n",
        "corpus_list = list()\n",
        "for sentence in df_review_positive[['replaced_review']].values :\n",
        "  vectors = dictionary_positive.doc2bow(sentence)\n",
        "  corpus_list.append(vectors)"
      ],
      "metadata": {
        "id": "_gK8Of5I1kOj"
      },
      "execution_count": 40,
      "outputs": []
    },
    {
      "cell_type": "code",
      "source": [
        "df_review_positive['문장벡터화'] = corpus_list"
      ],
      "metadata": {
        "id": "47GwPhoY1caK"
      },
      "execution_count": 41,
      "outputs": []
    },
    {
      "cell_type": "code",
      "source": [
        "df_review_positive.columns"
      ],
      "metadata": {
        "colab": {
          "base_uri": "https://localhost:8080/"
        },
        "id": "LFuZFo8Q2TvL",
        "outputId": "fa854ec8-bc3c-4a70-93e8-f0de910e34a2"
      },
      "execution_count": 42,
      "outputs": [
        {
          "output_type": "execute_result",
          "data": {
            "text/plain": [
              "Index(['Unnamed: 0', 'app', 'review', 'rating', 'tokenized_review',\n",
              "       'replaced_review', '문장벡터화'],\n",
              "      dtype='object')"
            ]
          },
          "metadata": {},
          "execution_count": 42
        }
      ]
    },
    {
      "cell_type": "code",
      "source": [
        "lda_model = LdaModel(corpus=corpus_list, id2word=dictionary_positive, num_topics=3)"
      ],
      "metadata": {
        "colab": {
          "base_uri": "https://localhost:8080/"
        },
        "id": "A3SIR9hG2Vvh",
        "outputId": "89940168-2ec2-4a4d-caee-cc6f9bcfa306"
      },
      "execution_count": 43,
      "outputs": [
        {
          "output_type": "stream",
          "name": "stderr",
          "text": [
            "WARNING:gensim.models.ldamodel:too few updates, training might not converge; consider increasing the number of passes or iterations to improve accuracy\n"
          ]
        }
      ]
    },
    {
      "cell_type": "code",
      "source": [
        "lda_model.print_topics(num_words=4)"
      ],
      "metadata": {
        "colab": {
          "base_uri": "https://localhost:8080/"
        },
        "id": "G4f4Q-Hu2gYq",
        "outputId": "4163711d-091d-4737-8a29-cfe54679ea47"
      },
      "execution_count": 44,
      "outputs": [
        {
          "output_type": "execute_result",
          "data": {
            "text/plain": [
              "[(0, '0.275*\"운동\" + 0.034*\"추천\" + 0.015*\"운동 도움\" + 0.012*\"도전\"'),\n",
              " (1, '0.039*\"뱃살\" + 0.029*\"감사\" + 0.025*\"도움\" + 0.015*\"강추\"'),\n",
              " (2, '0.082*\"최고\" + 0.017*\"광고\" + 0.014*\"운동 최고\" + 0.011*\"유용\"')]"
            ]
          },
          "metadata": {},
          "execution_count": 44
        }
      ]
    },
    {
      "cell_type": "markdown",
      "source": [
        "### LDA 시각화"
      ],
      "metadata": {
        "id": "88mZTbxr6O0C"
      }
    },
    {
      "cell_type": "code",
      "source": [
        "%pip install pyLDAvis"
      ],
      "metadata": {
        "colab": {
          "base_uri": "https://localhost:8080/"
        },
        "id": "rQmTLDmq2hra",
        "outputId": "d0623c4d-3aa2-48e9-8d31-9e900351a66a"
      },
      "execution_count": 45,
      "outputs": [
        {
          "output_type": "stream",
          "name": "stdout",
          "text": [
            "Requirement already satisfied: pyLDAvis in /usr/local/lib/python3.10/dist-packages (3.4.1)\n",
            "Requirement already satisfied: numpy>=1.24.2 in /usr/local/lib/python3.10/dist-packages (from pyLDAvis) (1.25.2)\n",
            "Requirement already satisfied: scipy in /usr/local/lib/python3.10/dist-packages (from pyLDAvis) (1.11.2)\n",
            "Requirement already satisfied: pandas>=2.0.0 in /usr/local/lib/python3.10/dist-packages (from pyLDAvis) (2.1.0)\n",
            "Requirement already satisfied: joblib>=1.2.0 in /usr/local/lib/python3.10/dist-packages (from pyLDAvis) (1.3.2)\n",
            "Requirement already satisfied: jinja2 in /usr/local/lib/python3.10/dist-packages (from pyLDAvis) (3.1.2)\n",
            "Requirement already satisfied: numexpr in /usr/local/lib/python3.10/dist-packages (from pyLDAvis) (2.8.5)\n",
            "Requirement already satisfied: funcy in /usr/local/lib/python3.10/dist-packages (from pyLDAvis) (2.0)\n",
            "Requirement already satisfied: scikit-learn>=1.0.0 in /usr/local/lib/python3.10/dist-packages (from pyLDAvis) (1.2.2)\n",
            "Requirement already satisfied: gensim in /usr/local/lib/python3.10/dist-packages (from pyLDAvis) (4.3.2)\n",
            "Requirement already satisfied: setuptools in /usr/local/lib/python3.10/dist-packages (from pyLDAvis) (67.7.2)\n",
            "Requirement already satisfied: python-dateutil>=2.8.2 in /usr/local/lib/python3.10/dist-packages (from pandas>=2.0.0->pyLDAvis) (2.8.2)\n",
            "Requirement already satisfied: pytz>=2020.1 in /usr/local/lib/python3.10/dist-packages (from pandas>=2.0.0->pyLDAvis) (2023.3.post1)\n",
            "Requirement already satisfied: tzdata>=2022.1 in /usr/local/lib/python3.10/dist-packages (from pandas>=2.0.0->pyLDAvis) (2023.3)\n",
            "Requirement already satisfied: threadpoolctl>=2.0.0 in /usr/local/lib/python3.10/dist-packages (from scikit-learn>=1.0.0->pyLDAvis) (3.2.0)\n",
            "Requirement already satisfied: smart-open>=1.8.1 in /usr/local/lib/python3.10/dist-packages (from gensim->pyLDAvis) (6.4.0)\n",
            "Requirement already satisfied: MarkupSafe>=2.0 in /usr/local/lib/python3.10/dist-packages (from jinja2->pyLDAvis) (2.1.3)\n",
            "Requirement already satisfied: six>=1.5 in /usr/local/lib/python3.10/dist-packages (from python-dateutil>=2.8.2->pandas>=2.0.0->pyLDAvis) (1.16.0)\n"
          ]
        }
      ]
    },
    {
      "cell_type": "code",
      "source": [
        "import pyLDAvis.gensim_models"
      ],
      "metadata": {
        "id": "VfCbn1vB6M3q"
      },
      "execution_count": 51,
      "outputs": []
    },
    {
      "cell_type": "code",
      "source": [
        "pyLDAvis.enable_notebook()\n",
        "result_visualized = pyLDAvis.gensim_models.prepare(lda_model, corpus_list, dictionary)"
      ],
      "metadata": {
        "id": "ciGK0UO56ifZ"
      },
      "execution_count": 52,
      "outputs": []
    },
    {
      "cell_type": "code",
      "source": [
        "pyLDAvis.display(result_visualized)"
      ],
      "metadata": {
        "colab": {
          "base_uri": "https://localhost:8080/",
          "height": 860
        },
        "id": "zIVCM2rF6zYB",
        "outputId": "7f6ef01e-4833-467c-beb4-066f794f2682"
      },
      "execution_count": 53,
      "outputs": [
        {
          "output_type": "execute_result",
          "data": {
            "text/plain": [
              "<IPython.core.display.HTML object>"
            ],
            "text/html": [
              "\n",
              "<link rel=\"stylesheet\" type=\"text/css\" href=\"https://cdn.jsdelivr.net/gh/bmabey/pyLDAvis@3.4.0/pyLDAvis/js/ldavis.v1.0.0.css\">\n",
              "\n",
              "\n",
              "<div id=\"ldavis_el152461381457268252961736727038\" style=\"background-color:white;\"></div>\n",
              "<script type=\"text/javascript\">\n",
              "\n",
              "var ldavis_el152461381457268252961736727038_data = {\"mdsDat\": {\"x\": [-0.08858183922761804, -0.05664828529461754, 0.14523012452223558], \"y\": [0.1034336950805545, -0.11979505577950665, 0.016361360698952145], \"topics\": [1, 2, 3], \"cluster\": [1, 1, 1], \"Freq\": [39.46028746418676, 30.861982685553713, 29.67772985025952]}, \"tinfo\": {\"Term\": [\"\\uc6b4\\ub3d9\", \"\\ucd5c\\uace0\", \"\\ubc43\\uc0b4\", \"\\ucd94\\ucc9c\", \"\\uac10\\uc0ac\", \"\\ub3c4\\uc6c0\", \"\\uad11\\uace0\", \"\\uc6b4\\ub3d9 \\ub3c4\\uc6c0\", \"\\uac15\\ucd94\", \"\\uc6b4\\ub3d9 \\ucd5c\\uace0\", \"\\ub3c4\\uc804\", \"\\uc720\\uc6a9\", \"\\uc124\\uba85\", \"\\uc0ac\\ub791\", \"\\ud2b8\\ub808\\uc774\\ub2dd\", \"\\uc870\\uc544\", \"\\uc2dc\\uc791\", \"\\ud22c\\uc790\", \"\\ucd08\\ubcf4\", \"\\ud654\\uc774\\ud305\", \"\\uc6b4\\ub3d9 \\uc6b4\\ub3d9\", \"\\ub3d9\\uc601\\uc0c1\", \"\\ucd08\\uae09\", \"\\ubcc0\\ud654\", \"\\ub9cc\\uc871\", \"\\uc6b4\\ub3d9 \\uc2dc\\uc791\", \"\\uae30\\ub300\", \"\\ub2e4\\uc774\\uc5b4\\ud2b8\", \"\\ub9ac\\ubdf0\", \"\\ucd5c\\uace0 \\ucd5c\\uace0 \\ucd5c\\uace0\", \"\\ubc43\\uc0b4\", \"\\uac10\\uc0ac\", \"\\ub3c4\\uc6c0\", \"\\uac15\\ucd94\", \"\\ud22c\\uc790\", \"\\ud654\\uc774\\ud305\", \"\\ucd08\\ubcf4\", \"\\uc124\\uba85\", \"\\uc6b4\\ub3d9 \\uc2dc\\uc791\", \"\\ub9cc\\uc871\", \"\\ub3d9\\uc601\\uc0c1\", \"\\ucd08\\uae09\", \"\\ud3c9\\uac00\", \"\\uc2e4\\ucc9c\", \"\\uac15\\ucd94 \\uac15\\ucd94\", \"\\ubd80\\ub2f4 \\uc6b4\\ub3d9\", \"\\uc758\\uc9c0\", \"\\uc870\\uc544 \\uc870\\uc544\", \"\\ucd5c\\uace0 \\uc6b4\\ub3d9\", \"\\uccb4\\ub825\", \"\\uc628\\ubab8\", \"\\uac8c\\uc784\", \"\\uac10\\ub7c9\", \"\\uc0ad\\uc81c\", \"\\uc124\\uba85 \\uae30\\ub85d\", \"\\ubc43\\uc0b4 \\ucd94\\ucc9c\", \"\\uc131\\uacf5\", \"\\ud53c\\ud2f0\", \"\\ubc43\\uc0b4 \\uc6b4\\ub3d9\", \"\\uad11\\uace0 \\uc720\\ub8cc\", \"\\ucd5c\\uace0 \\ucd94\\ucc9c\", \"\\uccb4\\uacc4\", \"\\ud544\\uc694 \\uc6b4\\ub3d9 \\ucd94\\ucc9c\", \"\\uc6b4\\ub3d9\", \"\\ucd94\\ucc9c\", \"\\uc6b4\\ub3d9\", \"\\ub3c4\\uc804\", \"\\uc0ac\\ub791\", \"\\uc6b4\\ub3d9 \\ub3c4\\uc6c0\", \"\\uc2dc\\uc791\", \"\\ucd5c\\uace0 \\ucd5c\\uace0 \\ucd5c\\uace0\", \"\\ub9ac\\ubdf0\", \"\\uae30\\ub300\", \"\\uc720\\uc775\", \"\\ucd94\\uac00\", \"\\ucd08\\ub4f1\\ud559\\uc0dd\", \"\\ubcf5\\uadfc \\uc6b4\\ub3d9\", \"\\ucd5c\\uace0 \\ucd5c\\uace0\", \"\\uc6b4\\ub3d9 \\ubcf5\\uadfc\", \"\\uc6b4\\ub3d9 \\ucd94\\ucc9c\", \"\\uc6b4\\ub3d9 \\ub9c8\\uc74c\", \"\\ubb34\\ub8cc\", \"\\uc790\\uadf9\", \"\\uc6b4\\ub3d9 \\uc720\\uc6a9\", \"\\ud504\\ub85c\\uadf8\\ub7a8\", \"\\uc5c9\\ub369\\uc774\", \"\\uaddc\\uce59\", \"\\ub178\\ub798\", \"\\uc6b4\\ub3d9 \\uc124\\uba85\", \"\\ucf54\\uce58\", \"\\uc800\\ub141\", \"\\uc18c\\ub9ac\", \"\\ud6a8\\uc728\", \"\\uac1c\\uc778 \\ub178\\ubb34 \\uc6b4\\ub3d9 \\uc77c\\uc11d\\uc774\\uc870\", \"\\uac1c\\uafc0\", \"\\uae30\\ucd08\", \"\\ucd5c\\uace0\", \"\\uad11\\uace0\", \"\\ucd5c\\uace0\", \"\\ud2b8\\ub808\\uc774\\ub2dd\", \"\\uc6b4\\ub3d9 \\ucd5c\\uace0\", \"\\uc720\\uc6a9\", \"\\ubcc0\\ud654\", \"\\uc870\\uc544\", \"\\uc6b4\\ub3d9 \\uc6b4\\ub3d9\", \"\\ub2e4\\uc774\\uc5b4\\ud2b8\", \"\\uc54c\\ub78c\", \"\\uadfc\\uc721 \\uc0dd\\uae40\", \"\\ubc1c\\uacac\", \"\\uc6b4\\ub3d9 \\uae30\\ub85d\", \"\\uc2dc\\uc791 \\uc6b4\\ub3d9\", \"\\ubc14\\uc9c0\", \"\\uce74\\uc6b4\\ud2b8\", \"\\ub2e4\\uc774\\uc5b4\\ud2b8 \\uc2dc\\uc791\", \"\\uae30\\ubd84\", \"\\ud544\\uc694\", \"\\uadfc\\uc721\", \"\\ub3d9\\uc791\", \"\\uc6b4\\ub3d9 \\uac10\\uc0ac\", \"\\uae30\\ucd08\", \"\\uc790\\uc138\", \"\\ub3d9\\uc601\\uc0c1 \\uc6b4\\ub3d9\", \"\\ub9c8\\uc74c\", \"\\uc790\\uc2dd\", \"\\uc0c1\\uae09 \\ub545\\uae40\", \"\\uc124\\uba85 \\uc6b4\\ub3d9 \\uc790\\uc138 \\uc124\\uba85 \\uadf8\\ub9bc \\uacb0\\uacfc\", \"\\uc124\\uba85 \\ub9cc\\uc871\", \"\\uac1c\\uc778 \\ub808\\uc2a8 \\uac8c\\uc73c\\ub984\", \"\\uc74c\\uc131 \\ub0b4\\ub355\", \"\\uc6b4\\ub3d9 \\uc810\\ud551\", \"\\ub9ac\\ubdf0 \\uc124\\uba85 \\ud0c0\\uc784 \\uc6b4\\ub3d9 \\ucd94\\ucc9c \\uac74\\uac15\", \"\\ub3d9\\uc601\\uc0c1 \\uc6b4\\ub3d9 \\ubc29\\ubc95\", \"\\uc6b4\\ub3d9\"], \"Freq\": [380.0, 110.0, 67.0, 46.0, 50.0, 44.0, 23.0, 21.0, 25.0, 18.0, 16.0, 14.0, 19.0, 12.0, 12.0, 12.0, 11.0, 14.0, 12.0, 12.0, 10.0, 13.0, 12.0, 8.0, 11.0, 10.0, 7.0, 7.0, 6.0, 6.0, 66.77574888048261, 49.84429245840024, 42.95276256555651, 25.1679242850761, 13.861813914048584, 11.827064964607294, 12.402667906841623, 18.349820640391698, 9.748301040863792, 10.661035516690008, 12.442782911212204, 11.758011991463558, 6.857595037626803, 7.229811909570428, 7.030759139203759, 6.370250701520565, 6.555706344247364, 6.362760568616813, 7.837749903857845, 7.187379948893601, 6.680850766850614, 5.796965515094314, 6.725606879350166, 5.734901387206291, 5.993033345374932, 5.992953794942746, 5.9928578547230265, 5.992780303045419, 5.9925840253459075, 5.99259002160964, 5.992275817390056, 7.148768807467138, 5.992280214650126, 6.035352576293587, 45.45730040439774, 368.907776637821, 15.713754146231155, 12.161936631254873, 20.56667350791908, 10.91218503413865, 5.576901479623007, 5.732970046478047, 6.418823094007763, 5.069072885483535, 5.378862672112672, 5.210685008322096, 3.786698541455495, 2.631140967853727, 2.1136480131265385, 2.253483993348312, 1.6486045717583013, 1.8493338554680316, 4.53090667493499, 1.3888048677725804, 1.3621308386163713, 1.227121645542858, 1.2248216643493366, 1.2214568886271897, 1.223205049416094, 1.2179524382502196, 1.4944237621854581, 0.9772984792972665, 1.0994704226180465, 0.970535709202553, 1.6848815265393329, 1.2573575738008804, 1.5488560772475717, 22.502526405947307, 106.24797558920025, 11.642567619670142, 17.690405554337826, 13.963493241508523, 7.524544508160929, 11.535247919052733, 9.443007422825696, 6.254575075114101, 5.283820038655303, 4.040080435171074, 4.0263867708837, 3.7143097041042896, 3.7123365440999416, 3.707410108044594, 3.702314406549288, 3.6781665719630885, 4.412989637047201, 4.582737618801719, 3.0673414153405423, 2.1766472784121187, 2.2629616790990426, 5.940107547387781, 1.5103788210548745, 1.447266863877863, 1.3250232428801652, 3.0523435352831143, 3.0523408294412677, 3.0523354177575746, 3.0523260976356585, 3.0522894184461826, 3.0522647652204693, 3.0522563470458355, 3.052253941853083, 3.0522527392567067, 5.390592557921515], \"Total\": [380.0, 110.0, 67.0, 46.0, 50.0, 44.0, 23.0, 21.0, 25.0, 18.0, 16.0, 14.0, 19.0, 12.0, 12.0, 12.0, 11.0, 14.0, 12.0, 12.0, 10.0, 13.0, 12.0, 8.0, 11.0, 10.0, 7.0, 7.0, 6.0, 6.0, 67.3065997883532, 50.95789526010141, 44.04761336992715, 25.853880561340944, 14.377773733112988, 12.28572689320993, 12.960057096157296, 19.17976129753192, 10.204860340134122, 11.276520513811468, 13.164218295437953, 12.47584063365181, 7.302561170465794, 7.7098903170936515, 7.5038618319111325, 6.808499732612648, 7.009761832483427, 6.807612250758741, 8.386991051661504, 7.696004298188309, 7.202761632585822, 6.289234145063212, 7.348681750252748, 6.2686079436710616, 6.553797549105262, 6.553766680374814, 6.55373979916774, 6.553724345978191, 6.5536480233748975, 6.5536663827251145, 6.553565550933459, 7.952452507461361, 6.553571147843464, 380.3337217720361, 46.14949153591411, 380.3337217720361, 16.26389771672874, 12.698129612966621, 21.507042318509235, 11.661912881492666, 6.051224798242914, 6.231457395868238, 7.016306649095648, 5.606605347892484, 5.972329420872393, 5.793327302904866, 4.305651630690761, 3.1752496711888325, 2.562618316964066, 2.7427445511362496, 2.1246443752729283, 2.4137798301616495, 6.059910899936684, 1.8627800669993912, 1.8612944545870513, 1.6886734522324685, 1.691204472191963, 1.6865695149934117, 1.6904567478598955, 1.6919272838859025, 2.1531779000154962, 1.435871324975121, 1.618858261195292, 1.4326616525121603, 2.518566004644481, 8.02683783966395, 110.27049512858234, 23.353881240345665, 110.27049512858234, 12.163146606271056, 18.57144476426939, 14.740696920044552, 8.057510485362638, 12.45380076218581, 10.571721530921112, 7.0232084746515016, 5.97236528189914, 4.585779482525148, 4.591342708758798, 4.2703193209506, 4.272342330092977, 4.273635338323077, 4.27571499881884, 4.2864931921697895, 5.181225286751184, 5.402709587360993, 3.7625910460814334, 2.784711067469204, 2.935984816325674, 8.02683783966395, 2.0566416359141635, 2.0061028632149727, 1.8718535435929466, 4.333384728187027, 4.33338571129684, 4.333387458391606, 4.333391118137328, 4.333405770262091, 4.333415045358084, 4.333417815752357, 4.333419501788976, 4.333419475505227, 380.3337217720361], \"Category\": [\"Default\", \"Default\", \"Default\", \"Default\", \"Default\", \"Default\", \"Default\", \"Default\", \"Default\", \"Default\", \"Default\", \"Default\", \"Default\", \"Default\", \"Default\", \"Default\", \"Default\", \"Default\", \"Default\", \"Default\", \"Default\", \"Default\", \"Default\", \"Default\", \"Default\", \"Default\", \"Default\", \"Default\", \"Default\", \"Default\", \"Topic1\", \"Topic1\", \"Topic1\", \"Topic1\", \"Topic1\", \"Topic1\", \"Topic1\", \"Topic1\", \"Topic1\", \"Topic1\", \"Topic1\", \"Topic1\", \"Topic1\", \"Topic1\", \"Topic1\", \"Topic1\", \"Topic1\", \"Topic1\", \"Topic1\", \"Topic1\", \"Topic1\", \"Topic1\", \"Topic1\", \"Topic1\", \"Topic1\", \"Topic1\", \"Topic1\", \"Topic1\", \"Topic1\", \"Topic1\", \"Topic1\", \"Topic1\", \"Topic1\", \"Topic1\", \"Topic2\", \"Topic2\", \"Topic2\", \"Topic2\", \"Topic2\", \"Topic2\", \"Topic2\", \"Topic2\", \"Topic2\", \"Topic2\", \"Topic2\", \"Topic2\", \"Topic2\", \"Topic2\", \"Topic2\", \"Topic2\", \"Topic2\", \"Topic2\", \"Topic2\", \"Topic2\", \"Topic2\", \"Topic2\", \"Topic2\", \"Topic2\", \"Topic2\", \"Topic2\", \"Topic2\", \"Topic2\", \"Topic2\", \"Topic2\", \"Topic2\", \"Topic2\", \"Topic2\", \"Topic3\", \"Topic3\", \"Topic3\", \"Topic3\", \"Topic3\", \"Topic3\", \"Topic3\", \"Topic3\", \"Topic3\", \"Topic3\", \"Topic3\", \"Topic3\", \"Topic3\", \"Topic3\", \"Topic3\", \"Topic3\", \"Topic3\", \"Topic3\", \"Topic3\", \"Topic3\", \"Topic3\", \"Topic3\", \"Topic3\", \"Topic3\", \"Topic3\", \"Topic3\", \"Topic3\", \"Topic3\", \"Topic3\", \"Topic3\", \"Topic3\", \"Topic3\", \"Topic3\", \"Topic3\", \"Topic3\", \"Topic3\"], \"logprob\": [30.0, 29.0, 28.0, 27.0, 26.0, 25.0, 24.0, 23.0, 22.0, 21.0, 20.0, 19.0, 18.0, 17.0, 16.0, 15.0, 14.0, 13.0, 12.0, 11.0, 10.0, 9.0, 8.0, 7.0, 6.0, 5.0, 4.0, 3.0, 2.0, 1.0, -3.2469, -3.5394, -3.6882, -4.2227, -4.8191, -4.9779, -4.9304, -4.5387, -5.1712, -5.0817, -4.9271, -4.9838, -5.5229, -5.4701, -5.498, -5.5966, -5.5679, -5.5978, -5.3893, -5.476, -5.549, -5.691, -5.5424, -5.7017, -5.6577, -5.6577, -5.6577, -5.6577, -5.6578, -5.6578, -5.6578, -5.4813, -5.6578, -5.6507, -3.3857, -1.292, -4.448, -4.7042, -4.1788, -4.8126, -5.4839, -5.4563, -5.3433, -5.5794, -5.52, -5.5518, -5.871, -6.2351, -6.4541, -6.39, -6.7026, -6.5877, -5.6916, -6.8741, -6.8935, -6.9978, -6.9997, -7.0025, -7.001, -7.0053, -6.8008, -7.2255, -7.1077, -7.2324, -6.6808, -6.9735, -6.765, -4.0498, -2.4976, -4.7087, -4.2904, -4.5269, -5.1452, -4.718, -4.9181, -5.3301, -5.4987, -5.7671, -5.7705, -5.8512, -5.8517, -5.8531, -5.8544, -5.861, -5.6788, -5.6411, -6.0426, -6.3856, -6.3467, -5.3817, -6.751, -6.7937, -6.882, -6.0475, -6.0475, -6.0475, -6.0475, -6.0475, -6.0475, -6.0475, -6.0475, -6.0475, -5.4787], \"loglift\": [30.0, 29.0, 28.0, 27.0, 26.0, 25.0, 24.0, 23.0, 22.0, 21.0, 20.0, 19.0, 18.0, 17.0, 16.0, 15.0, 14.0, 13.0, 12.0, 11.0, 10.0, 9.0, 8.0, 7.0, 6.0, 5.0, 4.0, 3.0, 2.0, 1.0, 0.922, 0.9078, 0.9047, 0.903, 0.8933, 0.8918, 0.8859, 0.8856, 0.8841, 0.8737, 0.8735, 0.8706, 0.867, 0.8656, 0.8648, 0.8633, 0.8629, 0.8623, 0.8621, 0.8615, 0.8547, 0.8484, 0.8413, 0.8409, 0.8404, 0.8404, 0.8404, 0.8404, 0.8404, 0.8404, 0.8403, 0.8233, 0.8403, -3.2135, 1.1605, 1.1451, 1.1412, 1.1325, 1.1309, 1.1092, 1.094, 1.0923, 1.0866, 1.0749, 1.071, 1.0696, 1.0472, 0.9877, 0.983, 0.9792, 0.922, 0.9093, 0.8849, 0.882, 0.8634, 0.8564, 0.853, 0.853, 0.8521, 0.8469, 0.8104, 0.7909, 0.7888, 0.7862, 0.7737, -0.6781, -3.0898, 1.1776, 1.1776, 1.171, 1.1662, 1.1606, 1.1463, 1.1382, 1.1019, 1.0989, 1.0923, 1.0881, 1.0835, 1.0753, 1.0743, 1.0726, 1.0708, 1.0617, 1.0543, 1.0502, 1.0105, 0.9684, 0.9544, 0.9137, 0.9061, 0.8883, 0.8693, 0.8643, 0.8643, 0.8643, 0.8643, 0.8643, 0.8643, 0.8643, 0.8643, 0.8643, -3.0416]}, \"token.table\": {\"Topic\": [1, 1, 2, 1, 1, 1, 2, 2, 1, 2, 3, 1, 3, 1, 2, 3, 3, 2, 3, 1, 2, 3, 2, 3, 3, 1, 2, 3, 2, 1, 3, 1, 2, 3, 3, 2, 1, 2, 3, 3, 1, 2, 3, 3, 1, 1, 1, 3, 2, 1, 2, 1, 1, 2, 3, 1, 1, 1, 2, 3, 1, 2, 3, 1, 2, 2, 3, 1, 3, 2, 1, 1, 2, 3, 3, 3, 1, 2, 2, 2, 2, 1, 1, 2, 3, 2, 1, 2, 3, 1, 3, 2, 3, 2, 1, 2, 3, 1, 1, 2, 3, 1, 2, 3, 2, 1, 3, 1, 1, 1, 1, 2, 1, 1, 2, 3, 1, 2, 2, 1, 2, 2, 3, 2, 1, 3, 1, 2, 1, 3, 1, 1, 2], \"Freq\": [0.9525517960767922, 0.9812022208685802, 0.019624044417371603, 0.9669728279545878, 0.9328529971369681, 0.3970513372116921, 0.7941026744233842, 0.6980015122527419, 0.23076537324579194, 0.23076537324579194, 0.6922961197373758, 0.9540112296041247, 0.9848470052277946, 0.9155180702843633, 0.5912945574841724, 0.7973228988370562, 0.8722617420315661, 0.855150765221095, 0.7720181576022811, 0.12458206082831068, 0.12458206082831068, 0.747492364969864, 0.5929195275439959, 0.8543103941247773, 0.9331637356398625, 0.9762163420494788, 0.02270270562905765, 0.02270270562905765, 0.9837740176847461, 0.9115619120474923, 0.4984789256506039, 0.23076464340748165, 0.23076464340748165, 0.692293930222445, 0.7182073656990332, 0.9628566190596591, 0.23076464200781108, 0.23076464200781108, 0.6922939260234332, 0.5342298297977633, 0.9754782059348196, 0.8285759848552803, 0.935971294539499, 0.8712048421846822, 0.9954447292046055, 0.9155206350111875, 0.9155040593628299, 0.9928624994696424, 0.9290115278923007, 0.8812514115642919, 0.9450210673346939, 0.9571503041688458, 0.23076644144394265, 0.23076644144394265, 0.692299324331828, 0.9384892606727211, 0.9154997472906579, 0.2307661535130117, 0.2307661535130117, 0.692298460539035, 0.23076634840567967, 0.23076634840567967, 0.692299045217039, 0.9155078144484681, 0.6964412357892353, 0.9432414829180283, 0.9362545627079818, 0.9079247190430519, 0.8371892481449259, 0.5921808024387278, 0.971849459564438, 0.01577561929572017, 0.9702005866867907, 0.013146349413100144, 0.681202432955004, 0.9366981013283041, 0.046496398025840456, 0.9764243585426496, 0.9413340054817801, 0.780451769489184, 0.5915560994186878, 0.9799252186403338, 0.09459197322546863, 0.09459197322546863, 0.8513277590292176, 0.5368320274173982, 0.23076473179320756, 0.23076473179320756, 0.6922941953796227, 0.05384610689653797, 0.9692299241376835, 0.7291965995052112, 0.9497515671028183, 0.8918052350304082, 0.23076487932333903, 0.23076487932333903, 0.6922946379700171, 0.9986073945568036, 0.16501892792028483, 0.8250946396014242, 0.9724591611270251, 0.23076649379764935, 0.23076649379764935, 0.6922994813929481, 0.4644298086065267, 0.08029677197312786, 0.9635612636775344, 0.8813662968732203, 0.8802316006832199, 0.9095629015758018, 0.961859032379085, 0.8630618880264059, 0.9259218467145521, 0.018137217917339302, 0.018137217917339302, 0.9612725496189831, 0.9538581775898236, 0.9448075933117984, 0.9915348049443167, 0.9155321562542986, 0.8371942750722611, 0.975091999984018, 0.9355160484515442, 0.5910419493344115, 0.9737251580025251, 0.9865868091907286, 0.9585678006109061, 0.5372605057386587, 0.9155099731471017, 0.9254615520510143, 0.9155313743674509, 0.976743183720953, 0.617719305000578], \"Term\": [\"\\uac10\\ub7c9\", \"\\uac10\\uc0ac\", \"\\uac10\\uc0ac\", \"\\uac15\\ucd94\", \"\\uac15\\ucd94 \\uac15\\ucd94\", \"\\uac1c\\uafc0\", \"\\uac1c\\uafc0\", \"\\uac1c\\uc778 \\ub178\\ubb34 \\uc6b4\\ub3d9 \\uc77c\\uc11d\\uc774\\uc870\", \"\\uac1c\\uc778 \\ub808\\uc2a8 \\uac8c\\uc73c\\ub984\", \"\\uac1c\\uc778 \\ub808\\uc2a8 \\uac8c\\uc73c\\ub984\", \"\\uac1c\\uc778 \\ub808\\uc2a8 \\uac8c\\uc73c\\ub984\", \"\\uac8c\\uc784\", \"\\uad11\\uace0\", \"\\uad11\\uace0 \\uc720\\ub8cc\", \"\\uaddc\\uce59\", \"\\uadfc\\uc721\", \"\\uadfc\\uc721 \\uc0dd\\uae40\", \"\\uae30\\ub300\", \"\\uae30\\ubd84\", \"\\uae30\\ucd08\", \"\\uae30\\ucd08\", \"\\uae30\\ucd08\", \"\\ub178\\ub798\", \"\\ub2e4\\uc774\\uc5b4\\ud2b8\", \"\\ub2e4\\uc774\\uc5b4\\ud2b8 \\uc2dc\\uc791\", \"\\ub3c4\\uc6c0\", \"\\ub3c4\\uc6c0\", \"\\ub3c4\\uc6c0\", \"\\ub3c4\\uc804\", \"\\ub3d9\\uc601\\uc0c1\", \"\\ub3d9\\uc601\\uc0c1 \\uc6b4\\ub3d9\", \"\\ub3d9\\uc601\\uc0c1 \\uc6b4\\ub3d9 \\ubc29\\ubc95\", \"\\ub3d9\\uc601\\uc0c1 \\uc6b4\\ub3d9 \\ubc29\\ubc95\", \"\\ub3d9\\uc601\\uc0c1 \\uc6b4\\ub3d9 \\ubc29\\ubc95\", \"\\ub3d9\\uc791\", \"\\ub9ac\\ubdf0\", \"\\ub9ac\\ubdf0 \\uc124\\uba85 \\ud0c0\\uc784 \\uc6b4\\ub3d9 \\ucd94\\ucc9c \\uac74\\uac15\", \"\\ub9ac\\ubdf0 \\uc124\\uba85 \\ud0c0\\uc784 \\uc6b4\\ub3d9 \\ucd94\\ucc9c \\uac74\\uac15\", \"\\ub9ac\\ubdf0 \\uc124\\uba85 \\ud0c0\\uc784 \\uc6b4\\ub3d9 \\ucd94\\ucc9c \\uac74\\uac15\", \"\\ub9c8\\uc74c\", \"\\ub9cc\\uc871\", \"\\ubb34\\ub8cc\", \"\\ubc14\\uc9c0\", \"\\ubc1c\\uacac\", \"\\ubc43\\uc0b4\", \"\\ubc43\\uc0b4 \\uc6b4\\ub3d9\", \"\\ubc43\\uc0b4 \\ucd94\\ucc9c\", \"\\ubcc0\\ud654\", \"\\ubcf5\\uadfc \\uc6b4\\ub3d9\", \"\\ubd80\\ub2f4 \\uc6b4\\ub3d9\", \"\\uc0ac\\ub791\", \"\\uc0ad\\uc81c\", \"\\uc0c1\\uae09 \\ub545\\uae40\", \"\\uc0c1\\uae09 \\ub545\\uae40\", \"\\uc0c1\\uae09 \\ub545\\uae40\", \"\\uc124\\uba85\", \"\\uc124\\uba85 \\uae30\\ub85d\", \"\\uc124\\uba85 \\ub9cc\\uc871\", \"\\uc124\\uba85 \\ub9cc\\uc871\", \"\\uc124\\uba85 \\ub9cc\\uc871\", \"\\uc124\\uba85 \\uc6b4\\ub3d9 \\uc790\\uc138 \\uc124\\uba85 \\uadf8\\ub9bc \\uacb0\\uacfc\", \"\\uc124\\uba85 \\uc6b4\\ub3d9 \\uc790\\uc138 \\uc124\\uba85 \\uadf8\\ub9bc \\uacb0\\uacfc\", \"\\uc124\\uba85 \\uc6b4\\ub3d9 \\uc790\\uc138 \\uc124\\uba85 \\uadf8\\ub9bc \\uacb0\\uacfc\", \"\\uc131\\uacf5\", \"\\uc18c\\ub9ac\", \"\\uc2dc\\uc791\", \"\\uc2dc\\uc791 \\uc6b4\\ub3d9\", \"\\uc2e4\\ucc9c\", \"\\uc54c\\ub78c\", \"\\uc5c9\\ub369\\uc774\", \"\\uc628\\ubab8\", \"\\uc6b4\\ub3d9\", \"\\uc6b4\\ub3d9\", \"\\uc6b4\\ub3d9\", \"\\uc6b4\\ub3d9 \\uac10\\uc0ac\", \"\\uc6b4\\ub3d9 \\uae30\\ub85d\", \"\\uc6b4\\ub3d9 \\ub3c4\\uc6c0\", \"\\uc6b4\\ub3d9 \\ub3c4\\uc6c0\", \"\\uc6b4\\ub3d9 \\ub9c8\\uc74c\", \"\\uc6b4\\ub3d9 \\ubcf5\\uadfc\", \"\\uc6b4\\ub3d9 \\uc124\\uba85\", \"\\uc6b4\\ub3d9 \\uc2dc\\uc791\", \"\\uc6b4\\ub3d9 \\uc6b4\\ub3d9\", \"\\uc6b4\\ub3d9 \\uc6b4\\ub3d9\", \"\\uc6b4\\ub3d9 \\uc6b4\\ub3d9\", \"\\uc6b4\\ub3d9 \\uc720\\uc6a9\", \"\\uc6b4\\ub3d9 \\uc810\\ud551\", \"\\uc6b4\\ub3d9 \\uc810\\ud551\", \"\\uc6b4\\ub3d9 \\uc810\\ud551\", \"\\uc6b4\\ub3d9 \\ucd5c\\uace0\", \"\\uc6b4\\ub3d9 \\ucd5c\\uace0\", \"\\uc6b4\\ub3d9 \\ucd94\\ucc9c\", \"\\uc720\\uc6a9\", \"\\uc720\\uc775\", \"\\uc74c\\uc131 \\ub0b4\\ub355\", \"\\uc74c\\uc131 \\ub0b4\\ub355\", \"\\uc74c\\uc131 \\ub0b4\\ub355\", \"\\uc758\\uc9c0\", \"\\uc790\\uadf9\", \"\\uc790\\uadf9\", \"\\uc790\\uc138\", \"\\uc790\\uc2dd\", \"\\uc790\\uc2dd\", \"\\uc790\\uc2dd\", \"\\uc800\\ub141\", \"\\uc870\\uc544\", \"\\uc870\\uc544\", \"\\uc870\\uc544 \\uc870\\uc544\", \"\\uccb4\\uacc4\", \"\\uccb4\\ub825\", \"\\ucd08\\uae09\", \"\\ucd08\\ub4f1\\ud559\\uc0dd\", \"\\ucd08\\ubcf4\", \"\\ucd5c\\uace0\", \"\\ucd5c\\uace0\", \"\\ucd5c\\uace0\", \"\\ucd5c\\uace0 \\uc6b4\\ub3d9\", \"\\ucd5c\\uace0 \\ucd5c\\uace0\", \"\\ucd5c\\uace0 \\ucd5c\\uace0 \\ucd5c\\uace0\", \"\\ucd5c\\uace0 \\ucd94\\ucc9c\", \"\\ucd94\\uac00\", \"\\ucd94\\ucc9c\", \"\\uce74\\uc6b4\\ud2b8\", \"\\ucf54\\uce58\", \"\\ud22c\\uc790\", \"\\ud2b8\\ub808\\uc774\\ub2dd\", \"\\ud3c9\\uac00\", \"\\ud504\\ub85c\\uadf8\\ub7a8\", \"\\ud53c\\ud2f0\", \"\\ud544\\uc694\", \"\\ud544\\uc694 \\uc6b4\\ub3d9 \\ucd94\\ucc9c\", \"\\ud654\\uc774\\ud305\", \"\\ud6a8\\uc728\"]}, \"R\": 30, \"lambda.step\": 0.01, \"plot.opts\": {\"xlab\": \"PC1\", \"ylab\": \"PC2\"}, \"topic.order\": [2, 1, 3]};\n",
              "\n",
              "function LDAvis_load_lib(url, callback){\n",
              "  var s = document.createElement('script');\n",
              "  s.src = url;\n",
              "  s.async = true;\n",
              "  s.onreadystatechange = s.onload = callback;\n",
              "  s.onerror = function(){console.warn(\"failed to load library \" + url);};\n",
              "  document.getElementsByTagName(\"head\")[0].appendChild(s);\n",
              "}\n",
              "\n",
              "if(typeof(LDAvis) !== \"undefined\"){\n",
              "   // already loaded: just create the visualization\n",
              "   !function(LDAvis){\n",
              "       new LDAvis(\"#\" + \"ldavis_el152461381457268252961736727038\", ldavis_el152461381457268252961736727038_data);\n",
              "   }(LDAvis);\n",
              "}else if(typeof define === \"function\" && define.amd){\n",
              "   // require.js is available: use it to load d3/LDAvis\n",
              "   require.config({paths: {d3: \"https://d3js.org/d3.v5\"}});\n",
              "   require([\"d3\"], function(d3){\n",
              "      window.d3 = d3;\n",
              "      LDAvis_load_lib(\"https://cdn.jsdelivr.net/gh/bmabey/pyLDAvis@3.4.0/pyLDAvis/js/ldavis.v3.0.0.js\", function(){\n",
              "        new LDAvis(\"#\" + \"ldavis_el152461381457268252961736727038\", ldavis_el152461381457268252961736727038_data);\n",
              "      });\n",
              "    });\n",
              "}else{\n",
              "    // require.js not available: dynamically load d3 & LDAvis\n",
              "    LDAvis_load_lib(\"https://d3js.org/d3.v5.js\", function(){\n",
              "         LDAvis_load_lib(\"https://cdn.jsdelivr.net/gh/bmabey/pyLDAvis@3.4.0/pyLDAvis/js/ldavis.v3.0.0.js\", function(){\n",
              "                 new LDAvis(\"#\" + \"ldavis_el152461381457268252961736727038\", ldavis_el152461381457268252961736727038_data);\n",
              "            })\n",
              "         });\n",
              "}\n",
              "</script>"
            ]
          },
          "metadata": {},
          "execution_count": 53
        }
      ]
    },
    {
      "cell_type": "code",
      "source": [
        "pyLDAvis.save_html(result_visualized, './result_visualized.html')"
      ],
      "metadata": {
        "id": "ZaIAVMrI-HoL"
      },
      "execution_count": 54,
      "outputs": []
    },
    {
      "cell_type": "code",
      "source": [],
      "metadata": {
        "id": "G4mUFKtO8GQy"
      },
      "execution_count": null,
      "outputs": []
    }
  ]
}