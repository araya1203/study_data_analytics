{
 "cells": [
  {
   "cell_type": "code",
   "execution_count": 19,
   "id": "91a54249-9f2c-438e-ac58-c4f76a10f6d2",
   "metadata": {
    "tags": []
   },
   "outputs": [
    {
     "data": {
      "text/html": [
       "<div>\n",
       "<style scoped>\n",
       "    .dataframe tbody tr th:only-of-type {\n",
       "        vertical-align: middle;\n",
       "    }\n",
       "\n",
       "    .dataframe tbody tr th {\n",
       "        vertical-align: top;\n",
       "    }\n",
       "\n",
       "    .dataframe thead th {\n",
       "        text-align: right;\n",
       "    }\n",
       "</style>\n",
       "<table border=\"1\" class=\"dataframe\">\n",
       "  <thead>\n",
       "    <tr style=\"text-align: right;\">\n",
       "      <th></th>\n",
       "      <th>날짜</th>\n",
       "      <th>상품명</th>\n",
       "      <th>바코드</th>\n",
       "      <th>발주가능상태</th>\n",
       "      <th>입고수량</th>\n",
       "      <th>카테고리</th>\n",
       "      <th>출고수량</th>\n",
       "    </tr>\n",
       "  </thead>\n",
       "  <tbody>\n",
       "    <tr>\n",
       "      <th>0</th>\n",
       "      <td>2019-05-16</td>\n",
       "      <td>V2_0</td>\n",
       "      <td>8.801047e+12</td>\n",
       "      <td>발주가능</td>\n",
       "      <td>384</td>\n",
       "      <td>세탁세제</td>\n",
       "      <td>72</td>\n",
       "    </tr>\n",
       "    <tr>\n",
       "      <th>1</th>\n",
       "      <td>2019-05-16</td>\n",
       "      <td>V2_3</td>\n",
       "      <td>8.801047e+12</td>\n",
       "      <td>발주가능</td>\n",
       "      <td>207</td>\n",
       "      <td>세탁세제</td>\n",
       "      <td>5</td>\n",
       "    </tr>\n",
       "    <tr>\n",
       "      <th>2</th>\n",
       "      <td>2019-05-16</td>\n",
       "      <td>V2_7</td>\n",
       "      <td>8.801047e+12</td>\n",
       "      <td>발주가능</td>\n",
       "      <td>520</td>\n",
       "      <td>헤어케어</td>\n",
       "      <td>19</td>\n",
       "    </tr>\n",
       "    <tr>\n",
       "      <th>3</th>\n",
       "      <td>2019-05-16</td>\n",
       "      <td>V2_11</td>\n",
       "      <td>8.801047e+12</td>\n",
       "      <td>발주가능</td>\n",
       "      <td>0</td>\n",
       "      <td>세탁세제</td>\n",
       "      <td>5</td>\n",
       "    </tr>\n",
       "    <tr>\n",
       "      <th>4</th>\n",
       "      <td>2019-05-16</td>\n",
       "      <td>V2_14</td>\n",
       "      <td>8.801046e+12</td>\n",
       "      <td>발주가능</td>\n",
       "      <td>96</td>\n",
       "      <td>세탁세제</td>\n",
       "      <td>1</td>\n",
       "    </tr>\n",
       "    <tr>\n",
       "      <th>...</th>\n",
       "      <td>...</td>\n",
       "      <td>...</td>\n",
       "      <td>...</td>\n",
       "      <td>...</td>\n",
       "      <td>...</td>\n",
       "      <td>...</td>\n",
       "      <td>...</td>\n",
       "    </tr>\n",
       "    <tr>\n",
       "      <th>14995</th>\n",
       "      <td>2019-08-07</td>\n",
       "      <td>V2_500</td>\n",
       "      <td>8.801046e+12</td>\n",
       "      <td>발주가능</td>\n",
       "      <td>24</td>\n",
       "      <td>세탁세제</td>\n",
       "      <td>3</td>\n",
       "    </tr>\n",
       "    <tr>\n",
       "      <th>14996</th>\n",
       "      <td>2019-08-07</td>\n",
       "      <td>V2_501</td>\n",
       "      <td>8.801046e+12</td>\n",
       "      <td>발주가능</td>\n",
       "      <td>0</td>\n",
       "      <td>세탁세제</td>\n",
       "      <td>7</td>\n",
       "    </tr>\n",
       "    <tr>\n",
       "      <th>14997</th>\n",
       "      <td>2019-08-07</td>\n",
       "      <td>V2_502</td>\n",
       "      <td>8.801046e+12</td>\n",
       "      <td>발주가능</td>\n",
       "      <td>66</td>\n",
       "      <td>세탁세제</td>\n",
       "      <td>16</td>\n",
       "    </tr>\n",
       "    <tr>\n",
       "      <th>14998</th>\n",
       "      <td>2019-08-07</td>\n",
       "      <td>V2_509</td>\n",
       "      <td>8.801046e+12</td>\n",
       "      <td>발주가능</td>\n",
       "      <td>64</td>\n",
       "      <td>세탁세제</td>\n",
       "      <td>6</td>\n",
       "    </tr>\n",
       "    <tr>\n",
       "      <th>14999</th>\n",
       "      <td>2019-08-07</td>\n",
       "      <td>V2_511</td>\n",
       "      <td>8.801046e+12</td>\n",
       "      <td>발주가능</td>\n",
       "      <td>25</td>\n",
       "      <td>세탁세제</td>\n",
       "      <td>0</td>\n",
       "    </tr>\n",
       "  </tbody>\n",
       "</table>\n",
       "<p>15000 rows × 7 columns</p>\n",
       "</div>"
      ],
      "text/plain": [
       "               날짜     상품명           바코드 발주가능상태  입고수량  카테고리  출고수량\n",
       "0      2019-05-16    V2_0  8.801047e+12   발주가능   384  세탁세제    72\n",
       "1      2019-05-16    V2_3  8.801047e+12   발주가능   207  세탁세제     5\n",
       "2      2019-05-16    V2_7  8.801047e+12   발주가능   520  헤어케어    19\n",
       "3      2019-05-16   V2_11  8.801047e+12   발주가능     0  세탁세제     5\n",
       "4      2019-05-16   V2_14  8.801046e+12   발주가능    96  세탁세제     1\n",
       "...           ...     ...           ...    ...   ...   ...   ...\n",
       "14995  2019-08-07  V2_500  8.801046e+12   발주가능    24  세탁세제     3\n",
       "14996  2019-08-07  V2_501  8.801046e+12   발주가능     0  세탁세제     7\n",
       "14997  2019-08-07  V2_502  8.801046e+12   발주가능    66  세탁세제    16\n",
       "14998  2019-08-07  V2_509  8.801046e+12   발주가능    64  세탁세제     6\n",
       "14999  2019-08-07  V2_511  8.801046e+12   발주가능    25  세탁세제     0\n",
       "\n",
       "[15000 rows x 7 columns]"
      ]
     },
     "execution_count": 19,
     "metadata": {},
     "output_type": "execute_result"
    }
   ],
   "source": [
    "import pandas as pd\n",
    "import matplotlib.pyplot as plt\n",
    "import matplotlib as mpl\n",
    "mpl.rc('font',family='Malgun Gothic')\n",
    "import seaborn as sns\n",
    "df_DL = pd.read_csv('../../datasets/DeliveryList.csv')\n",
    "df_DL"
   ]
  },
  {
   "cell_type": "code",
   "execution_count": 20,
   "id": "65ac60e0-82f1-47b2-ac2b-94a0aa2903c7",
   "metadata": {
    "tags": []
   },
   "outputs": [
    {
     "name": "stdout",
     "output_type": "stream",
     "text": [
      "<class 'pandas.core.frame.DataFrame'>\n",
      "RangeIndex: 15000 entries, 0 to 14999\n",
      "Data columns (total 7 columns):\n",
      " #   Column  Non-Null Count  Dtype  \n",
      "---  ------  --------------  -----  \n",
      " 0   날짜      15000 non-null  object \n",
      " 1   상품명     15000 non-null  object \n",
      " 2   바코드     14992 non-null  float64\n",
      " 3   발주가능상태  15000 non-null  object \n",
      " 4   입고수량    15000 non-null  int64  \n",
      " 5   카테고리    15000 non-null  object \n",
      " 6   출고수량    15000 non-null  int64  \n",
      "dtypes: float64(1), int64(2), object(4)\n",
      "memory usage: 820.4+ KB\n"
     ]
    }
   ],
   "source": [
    "df_DL.info()"
   ]
  },
  {
   "cell_type": "code",
   "execution_count": 21,
   "id": "5a3a40ef-0093-45b4-98e1-4c37704c7285",
   "metadata": {
    "tags": []
   },
   "outputs": [
    {
     "data": {
      "text/html": [
       "<div>\n",
       "<style scoped>\n",
       "    .dataframe tbody tr th:only-of-type {\n",
       "        vertical-align: middle;\n",
       "    }\n",
       "\n",
       "    .dataframe tbody tr th {\n",
       "        vertical-align: top;\n",
       "    }\n",
       "\n",
       "    .dataframe thead th {\n",
       "        text-align: right;\n",
       "    }\n",
       "</style>\n",
       "<table border=\"1\" class=\"dataframe\">\n",
       "  <thead>\n",
       "    <tr style=\"text-align: right;\">\n",
       "      <th></th>\n",
       "      <th>날짜</th>\n",
       "      <th>상품명</th>\n",
       "      <th>발주가능상태</th>\n",
       "      <th>카테고리</th>\n",
       "    </tr>\n",
       "  </thead>\n",
       "  <tbody>\n",
       "    <tr>\n",
       "      <th>count</th>\n",
       "      <td>15000</td>\n",
       "      <td>15000</td>\n",
       "      <td>15000</td>\n",
       "      <td>15000</td>\n",
       "    </tr>\n",
       "    <tr>\n",
       "      <th>unique</th>\n",
       "      <td>84</td>\n",
       "      <td>528</td>\n",
       "      <td>3</td>\n",
       "      <td>8</td>\n",
       "    </tr>\n",
       "    <tr>\n",
       "      <th>top</th>\n",
       "      <td>2019-05-26</td>\n",
       "      <td>V2_114</td>\n",
       "      <td>발주가능</td>\n",
       "      <td>세탁세제</td>\n",
       "    </tr>\n",
       "    <tr>\n",
       "      <th>freq</th>\n",
       "      <td>226</td>\n",
       "      <td>47</td>\n",
       "      <td>14700</td>\n",
       "      <td>4265</td>\n",
       "    </tr>\n",
       "  </tbody>\n",
       "</table>\n",
       "</div>"
      ],
      "text/plain": [
       "                날짜     상품명 발주가능상태   카테고리\n",
       "count        15000   15000  15000  15000\n",
       "unique          84     528      3      8\n",
       "top     2019-05-26  V2_114   발주가능   세탁세제\n",
       "freq           226      47  14700   4265"
      ]
     },
     "execution_count": 21,
     "metadata": {},
     "output_type": "execute_result"
    }
   ],
   "source": [
    "df_DL.describe(include=object) "
   ]
  },
  {
   "cell_type": "code",
   "execution_count": 50,
   "id": "e25b0f8c-cb7b-48eb-ab29-382316ea954c",
   "metadata": {
    "tags": []
   },
   "outputs": [],
   "source": [
    "df_DL['날짜_datetime'] = pd.to_datetime(df_DL['날짜']) # 날짜에서 datetime"
   ]
  },
  {
   "cell_type": "code",
   "execution_count": 51,
   "id": "b3d718d9-bc23-4522-abf0-e61e9a52a6b6",
   "metadata": {
    "tags": []
   },
   "outputs": [
    {
     "ename": "NameError",
     "evalue": "name 'datetime' is not defined",
     "output_type": "error",
     "traceback": [
      "\u001b[1;31m---------------------------------------------------------------------------\u001b[0m",
      "\u001b[1;31mNameError\u001b[0m                                 Traceback (most recent call last)",
      "Cell \u001b[1;32mIn[51], line 1\u001b[0m\n\u001b[1;32m----> 1\u001b[0m df_DL\u001b[38;5;241m.\u001b[39mdescribe(include\u001b[38;5;241m=\u001b[39m\u001b[43mdatetime\u001b[49m) \u001b[38;5;66;03m# 확인 필요 \u001b[39;00m\n",
      "\u001b[1;31mNameError\u001b[0m: name 'datetime' is not defined"
     ]
    }
   ],
   "source": [
    "df_DL.describe(include=datetime) # 확인 필요 "
   ]
  },
  {
   "cell_type": "code",
   "execution_count": 52,
   "id": "1e057c22-3347-460b-9e21-1c361cc62f0d",
   "metadata": {
    "tags": []
   },
   "outputs": [
    {
     "data": {
      "text/html": [
       "<div>\n",
       "<style scoped>\n",
       "    .dataframe tbody tr th:only-of-type {\n",
       "        vertical-align: middle;\n",
       "    }\n",
       "\n",
       "    .dataframe tbody tr th {\n",
       "        vertical-align: top;\n",
       "    }\n",
       "\n",
       "    .dataframe thead th {\n",
       "        text-align: right;\n",
       "    }\n",
       "</style>\n",
       "<table border=\"1\" class=\"dataframe\">\n",
       "  <thead>\n",
       "    <tr style=\"text-align: right;\">\n",
       "      <th></th>\n",
       "      <th>날짜</th>\n",
       "      <th>상품명</th>\n",
       "      <th>바코드</th>\n",
       "      <th>발주가능상태</th>\n",
       "      <th>입고수량</th>\n",
       "      <th>카테고리</th>\n",
       "      <th>출고수량</th>\n",
       "      <th>날짜_datetime</th>\n",
       "      <th>날짜_datetime_year</th>\n",
       "      <th>날짜_datetime_month</th>\n",
       "      <th>날짜_datetime_week</th>\n",
       "    </tr>\n",
       "  </thead>\n",
       "  <tbody>\n",
       "    <tr>\n",
       "      <th>0</th>\n",
       "      <td>2019-05-16</td>\n",
       "      <td>V2_0</td>\n",
       "      <td>8.801047e+12</td>\n",
       "      <td>발주가능</td>\n",
       "      <td>384</td>\n",
       "      <td>세탁세제</td>\n",
       "      <td>72</td>\n",
       "      <td>2019-05-16</td>\n",
       "      <td>5</td>\n",
       "      <td>5</td>\n",
       "      <td>20</td>\n",
       "    </tr>\n",
       "    <tr>\n",
       "      <th>1</th>\n",
       "      <td>2019-05-16</td>\n",
       "      <td>V2_3</td>\n",
       "      <td>8.801047e+12</td>\n",
       "      <td>발주가능</td>\n",
       "      <td>207</td>\n",
       "      <td>세탁세제</td>\n",
       "      <td>5</td>\n",
       "      <td>2019-05-16</td>\n",
       "      <td>5</td>\n",
       "      <td>5</td>\n",
       "      <td>20</td>\n",
       "    </tr>\n",
       "  </tbody>\n",
       "</table>\n",
       "</div>"
      ],
      "text/plain": [
       "           날짜   상품명           바코드 발주가능상태  입고수량  카테고리  출고수량 날짜_datetime  \\\n",
       "0  2019-05-16  V2_0  8.801047e+12   발주가능   384  세탁세제    72  2019-05-16   \n",
       "1  2019-05-16  V2_3  8.801047e+12   발주가능   207  세탁세제     5  2019-05-16   \n",
       "\n",
       "   날짜_datetime_year  날짜_datetime_month  날짜_datetime_week  \n",
       "0                 5                  5                20  \n",
       "1                 5                  5                20  "
      ]
     },
     "execution_count": 52,
     "metadata": {},
     "output_type": "execute_result"
    }
   ],
   "source": [
    "df_DL[:2]"
   ]
  },
  {
   "cell_type": "code",
   "execution_count": 53,
   "id": "2f52b443-02b0-4333-9adc-b14f1a7bf14f",
   "metadata": {
    "tags": []
   },
   "outputs": [],
   "source": [
    "# df_DL['날짜_datetime_year'] = df_DL['날짜_datetime'].dt.year   # 날짜_datetime_year 년 ,월 따로 보고 싶을 때 \n",
    "df_DL['날짜_datetime_month'] = df_DL['날짜_datetime'].dt.month "
   ]
  },
  {
   "cell_type": "code",
   "execution_count": 54,
   "id": "dc68cc01-1d40-471e-a047-c06031572d4f",
   "metadata": {
    "tags": []
   },
   "outputs": [
    {
     "data": {
      "text/plain": [
       "<Axes: xlabel='날짜_datetime_month'>"
      ]
     },
     "execution_count": 54,
     "metadata": {},
     "output_type": "execute_result"
    },
    {
     "data": {
      "image/png": "[encoded data removed]",
      "text/plain": [
       "<Figure size 640x480 with 1 Axes>"
      ]
     },
     "metadata": {},
     "output_type": "display_data"
    }
   ],
   "source": [
    "pd.pivot_table(data=df_DL, index='날짜_datetime_month', values='출고수량', aggfunc=sum).plot(kind='bar')  # 1차 방법 (2차 데이터 사용시)"
   ]
  },
  {
   "cell_type": "code",
   "execution_count": 55,
   "id": "18275d14-0ba7-4cc3-acbb-69856931b6ca",
   "metadata": {
    "tags": []
   },
   "outputs": [
    {
     "data": {
      "text/plain": [
       "<Axes: xlabel='날짜_datetime_month', ylabel='출고수량'>"
      ]
     },
     "execution_count": 55,
     "metadata": {},
     "output_type": "execute_result"
    },
    {
     "data": {
      "image/png": "[encoded data removed]",
      "text/plain": [
       "<Figure size 640x480 with 1 Axes>"
      ]
     },
     "metadata": {},
     "output_type": "display_data"
    }
   ],
   "source": [
    "sns.barplot(data=df_DL, x='날짜_datetime_month', y='출고수량', estimator='sum') # 2차 방법 (단순 시각화)"
   ]
  },
  {
   "cell_type": "code",
   "execution_count": 56,
   "id": "a700aa65-e769-47a1-be93-87530f827ee6",
   "metadata": {
    "tags": []
   },
   "outputs": [
    {
     "name": "stderr",
     "output_type": "stream",
     "text": [
      "C:\\Users\\04-02\\AppData\\Local\\Temp\\ipykernel_7436\\2556811622.py:1: FutureWarning: Series.dt.weekofyear and Series.dt.week have been deprecated. Please use Series.dt.isocalendar().week instead.\n",
      "  df_DL['날짜_datetime_week'] = df_DL['날짜_datetime'].dt.weekofyear\n"
     ]
    }
   ],
   "source": [
    "df_DL['날짜_datetime_week'] = df_DL['날짜_datetime'].dt.weekofyear"
   ]
  },
  {
   "cell_type": "code",
   "execution_count": 60,
   "id": "6ab7718d-c6c7-4b5e-8bc1-9d993c9ff49d",
   "metadata": {
    "tags": []
   },
   "outputs": [
    {
     "data": {
      "text/plain": [
       "<Axes: xlabel='날짜_datetime_week', ylabel='출고수량'>"
      ]
     },
     "execution_count": 60,
     "metadata": {},
     "output_type": "execute_result"
    },
    {
     "data": {
      "image/png": "[encoded data removed]",
      "text/plain": [
       "<Figure size 640x480 with 1 Axes>"
      ]
     },
     "metadata": {},
     "output_type": "display_data"
    }
   ],
   "source": [
    "sns.lineplot(data=df_DL, x='날짜_datetime_week', y='출고수량', estimator='sum')"
   ]
  },
  {
   "cell_type": "code",
   "execution_count": null,
   "id": "7acf2074-433a-44ed-bd6c-805b2cd067d2",
   "metadata": {},
   "outputs": [],
   "source": []
  }
 ],
 "metadata": {
  "kernelspec": {
   "display_name": "Python 3 (ipykernel)",
   "language": "python",
   "name": "python3"
  },
  "language_info": {
   "codemirror_mode": {
    "name": "ipython",
    "version": 3
   },
   "file_extension": ".py",
   "mimetype": "text/x-python",
   "name": "python",
   "nbconvert_exporter": "python",
   "pygments_lexer": "ipython3",
   "version": "3.11.3"
  }
 },
 "nbformat": 4,
 "nbformat_minor": 5
}
