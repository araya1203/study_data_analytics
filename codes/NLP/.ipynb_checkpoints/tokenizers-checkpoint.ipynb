{
 "cells": [
  {
   "cell_type": "code",
   "execution_count": 35,
   "id": "5655386a-23b6-43dc-9705-4780054ef92b",
   "metadata": {
    "tags": []
   },
   "outputs": [],
   "source": [
    "sentences = [\n",
    "    \"오늘 날씨가 좋아서 나들이 가고 싶다.\", # -> [오늘, 날씨가, 좋아서 ...]\n",
    "    \"이 영화는 정말 재미있었어요.\",\n",
    "    \"맛있는 음식을 먹으러 갈까요?\",\n",
    "    \"운동을 하면 건강에 좋아지는 것 같아요.\",\n",
    "    \"공부하기 싫어서 미루고 있어요.\",\n",
    "    \"여행 계획을 세우고 있는데 어디로 갈까요?\",\n",
    "    \"좋은 책을 읽으면 마음이 편안해져요.\",\n",
    "    \"오늘은 친구들과 만나서 재미있게 놀았어요.\",\n",
    "    \"새로운 언어를 배우는 것은 어려워도 흥미로워요.\",\n",
    "    \"주말에 가족들과 함께 시간을 보내기로 했습니다.\"\n",
    "] "
   ]
  },
  {
   "cell_type": "code",
   "execution_count": 36,
   "id": "f1c82d0c-51a2-4fb8-ba22-0ea892e684de",
   "metadata": {
    "tags": []
   },
   "outputs": [],
   "source": [
    "from mecab import MeCab\n",
    "mecab = MeCab()\n",
    "\n",
    "# 불용어 리스트 생성 (예시)\n",
    "stopwords = ['가', '고', '을', '를', '이', '는']\n",
    "from konlpy.tag import Okt\n",
    "\n",
    "# Okt 형태소 분석기 인스턴스 생성\n",
    "okt = Okt()\n",
    "\n",
    "# 불용어 리스트 생성 (예시)\n",
    "stopwords = ['가', '고', '을', '를', '이', '는']\n",
    "\n",
    "# 토크나이징 함수 정의\n",
    "def tokenizer(raw, pos=[\"Noun\",\"Alpha\",\"Verb\",\"Number\"], stopword=stopwords):\n",
    "    \n",
    "    return [\n",
    "        word for word, tag in okt.pos(\n",
    "            raw, \n",
    "            norm=True,   # normalize 그랰ㅋㅏ -> 그래ㅋㅋ\n",
    "            stem=True    # stemming 바뀌나->바뀌다\n",
    "            )\n",
    "            if len(word) > 1 and tag in pos and word not in stopword\n",
    "\n",
    "    ]"
   ]
  },
  {
   "cell_type": "code",
   "execution_count": 37,
   "id": "3a21472a-a76f-4a8e-8ef7-555b276c0ec2",
   "metadata": {
    "tags": []
   },
   "outputs": [
    {
     "data": {
      "text/plain": [
       "['오늘', '날씨', '나들이', '가다', '싶다']"
      ]
     },
     "execution_count": 37,
     "metadata": {},
     "output_type": "execute_result"
    }
   ],
   "source": [
    "tokenizer(sentences[0])"
   ]
  },
  {
   "cell_type": "code",
   "execution_count": 38,
   "id": "df6721fa-8edf-4011-b1ac-430d49714b36",
   "metadata": {
    "tags": []
   },
   "outputs": [],
   "source": [
    "# 토크나이징 함수 정의\n",
    "def tokenizer_decomposition(raw, pos=[\"Noun\",\"Alpha\",\"Verb\",\"Number\"], stopword=stopwords):\n",
    "    result_list = list()\n",
    "    for word, tag in okt.pos(raw, norm=True, stem=True):\n",
    "            if len(word) > 1 and tag in pos and word not in stopword :\n",
    "                 result_list.append(word)\n",
    "    return result_list   "
   ]
  },
  {
   "cell_type": "code",
   "execution_count": 39,
   "id": "66ea782e-2982-4468-83a7-303b41512704",
   "metadata": {
    "tags": []
   },
   "outputs": [],
   "source": [
    "raw = sentences[0]\n",
    "pos=[\"Noun\",\"Alpha\",\"Verb\",\"Number\"]\n",
    "stopwords = ['가', '고', '을', '를', '이', '는']"
   ]
  },
  {
   "cell_type": "code",
   "execution_count": null,
   "id": "f315db60-b68d-4574-84fa-1381def7b9dc",
   "metadata": {},
   "outputs": [],
   "source": []
  }
 ],
 "metadata": {
  "kernelspec": {
   "display_name": "Python 3 (ipykernel)",
   "language": "python",
   "name": "python3"
  },
  "language_info": {
   "codemirror_mode": {
    "name": "ipython",
    "version": 3
   },
   "file_extension": ".py",
   "mimetype": "text/x-python",
   "name": "python",
   "nbconvert_exporter": "python",
   "pygments_lexer": "ipython3",
   "version": "3.11.3"
  }
 },
 "nbformat": 4,
 "nbformat_minor": 5
}
